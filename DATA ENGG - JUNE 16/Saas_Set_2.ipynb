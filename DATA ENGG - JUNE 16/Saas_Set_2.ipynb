{
  "cells": [
    {
      "cell_type": "markdown",
      "metadata": {
        "application/vnd.databricks.v1+cell": {
          "cellMetadata": {},
          "inputWidgets": {},
          "nuid": "279cf58c-4f3e-4f67-93e0-26a59614d3a1",
          "showTitle": false,
          "tableResultSettingsMap": {},
          "title": ""
        },
        "id": "k0e2vwAZbuBn"
      },
      "source": [
        "**Intialize SparkSession**"
      ]
    },
    {
      "cell_type": "code",
      "execution_count": 1,
      "metadata": {
        "application/vnd.databricks.v1+cell": {
          "cellMetadata": {
            "byteLimit": 2048000,
            "rowLimit": 10000
          },
          "inputWidgets": {},
          "nuid": "5fb26bd4-ef4a-4fb6-846f-e282b09c6633",
          "showTitle": false,
          "tableResultSettingsMap": {},
          "title": ""
        },
        "colab": {
          "base_uri": "https://localhost:8080/",
          "height": 219
        },
        "id": "kmuMMAQ5buBo",
        "outputId": "dd25ab7c-1d53-4588-a6ce-2c48eae4b452"
      },
      "outputs": [
        {
          "output_type": "execute_result",
          "data": {
            "text/plain": [
              "<pyspark.sql.session.SparkSession at 0x7c8ac8dde150>"
            ],
            "text/html": [
              "\n",
              "            <div>\n",
              "                <p><b>SparkSession - in-memory</b></p>\n",
              "                \n",
              "        <div>\n",
              "            <p><b>SparkContext</b></p>\n",
              "\n",
              "            <p><a href=\"http://24bc76b21a34:4040\">Spark UI</a></p>\n",
              "\n",
              "            <dl>\n",
              "              <dt>Version</dt>\n",
              "                <dd><code>v3.5.1</code></dd>\n",
              "              <dt>Master</dt>\n",
              "                <dd><code>local[*]</code></dd>\n",
              "              <dt>AppName</dt>\n",
              "                <dd><code>Subscription based Saas-platform</code></dd>\n",
              "            </dl>\n",
              "        </div>\n",
              "        \n",
              "            </div>\n",
              "        "
            ]
          },
          "metadata": {},
          "execution_count": 1
        }
      ],
      "source": [
        "from pyspark.sql import SparkSession\n",
        "spark=SparkSession.builder\\\n",
        "      .appName(\"Subscription based Saas-platform\")\\\n",
        "      .getOrCreate()\n",
        "spark"
      ]
    },
    {
      "cell_type": "markdown",
      "metadata": {
        "application/vnd.databricks.v1+cell": {
          "cellMetadata": {},
          "inputWidgets": {},
          "nuid": "066922cf-bb4b-4919-af88-756779cb2e21",
          "showTitle": false,
          "tableResultSettingsMap": {},
          "title": ""
        },
        "id": "-3y_b8H8buBp"
      },
      "source": [
        "**Subscription Engagement Score**"
      ]
    },
    {
      "cell_type": "code",
      "execution_count": null,
      "metadata": {
        "application/vnd.databricks.v1+cell": {
          "cellMetadata": {
            "byteLimit": 2048000,
            "rowLimit": 10000
          },
          "inputWidgets": {},
          "nuid": "56045b93-f14f-4b1f-bff5-52f82fcf4394",
          "showTitle": false,
          "tableResultSettingsMap": {},
          "title": ""
        },
        "id": "eJlDgpOQbuBp",
        "outputId": "0d8f0d69-0d94-48b6-a6c3-9a1a0837e985"
      },
      "outputs": [
        {
          "name": "stdout",
          "output_type": "stream",
          "text": [
            "root\n",
            " |-- SubscriptionID: string (nullable = true)\n",
            " |-- UserID: string (nullable = true)\n",
            " |-- PlanType: string (nullable = true)\n",
            " |-- StartDate: date (nullable = true)\n",
            " |-- EndDate: date (nullable = true)\n",
            " |-- PriceUSD: double (nullable = true)\n",
            " |-- IsActive: boolean (nullable = true)\n",
            " |-- AutoRenew : string (nullable = true)\n",
            "\n",
            "root\n",
            " |-- UserID: string (nullable = true)\n",
            " |-- EventTime: timestamp (nullable = true)\n",
            " |-- EventType: string (nullable = true)\n",
            " |-- FeatureUsed : string (nullable = true)\n",
            "\n"
          ]
        }
      ],
      "source": [
        "#Load the data\n",
        "from pyspark.sql.functions import col\n",
        "subscriptions=spark.read.option(\"header\", True).option(\"inferSchema\", True).csv(\"file:/Workspace/Shared/subscriptions.csv\")\n",
        "activity=spark.read.option(\"header\", True).option(\"inferSchema\", True).csv(\"file:/Workspace/Shared/user_activity.csv\")\n",
        "subscriptions.printSchema()\n",
        "activity.printSchema()\n",
        "subscriptions=subscriptions.withColumn(\"StartDate\", col(\"StartDate\").cast(\"date\")) \\\n",
        "                             .withColumn(\"EndDate\", col(\"EndDate\").cast(\"date\")) \\\n",
        "                             .withColumn(\"PriceUSD\", col(\"PriceUSD\").cast(\"double\"))\n",
        "\n",
        "activity=activity.withColumn(\"EventTime\", col(\"EventTime\").cast(\"timestamp\"))\n",
        "\n",
        "subscriptions.createOrReplaceTempView(\"subscriptions\")\n",
        "activity.createOrReplaceTempView(\"activity\")"
      ]
    },
    {
      "cell_type": "code",
      "execution_count": null,
      "metadata": {
        "application/vnd.databricks.v1+cell": {
          "cellMetadata": {
            "byteLimit": 2048000,
            "rowLimit": 10000
          },
          "inputWidgets": {},
          "nuid": "645f0b5a-4d2e-4e12-8fdd-457d0ab8dfc9",
          "showTitle": false,
          "tableResultSettingsMap": {},
          "title": ""
        },
        "id": "xm_CYYGNbuBq",
        "outputId": "d7117f6a-b04e-4b59-c981-da47c3b1b2c2"
      },
      "outputs": [
        {
          "name": "stdout",
          "output_type": "stream",
          "text": [
            "The engagement score:\n",
            "+--------------+------+------------------+\n",
            "|SubscriptionID|UserID|  engagement_score|\n",
            "+--------------+------+------------------+\n",
            "|        SUB001|  U001|0.6593406593406594|\n",
            "|        SUB002|  U002|               1.0|\n",
            "|        SUB003|  U003|0.9782608695652174|\n",
            "|        SUB004|  U001|2.6373626373626378|\n",
            "|        SUB005|  U004|0.3296703296703297|\n",
            "+--------------+------+------------------+\n",
            "\n"
          ]
        }
      ],
      "source": [
        "from pyspark.sql.functions import col,datediff,count,sum,avg,expr,when,lit,lag,unix_timestamp\n",
        "#subscription_days_active = EndDate - StartDate\n",
        "subs_days = subscriptions.withColumn(\"subscription_days_active\", datediff(\"EndDate\", \"StartDate\"))\n",
        "#activity_event_count\n",
        "activity_event_count = activity.groupBy(\"UserID\").agg(count(\"EventType\").alias(\"activity_event_count\"))\n",
        "# Join and calculate user_engagement_score\n",
        "engagement= subs_days.join(activity_event_count, \"UserID\", \"left\").fillna(0)\n",
        "engagement= engagement.withColumn(\"user_engagement_score\",\n",
        "    (col(\"activity_event_count\") / col(\"subscription_days_active\")) * col(\"PriceUSD\"))\n",
        "print(\"The engagement score:\")\n",
        "engagement.select(\"SubscriptionID\", \"UserID\", \"user_engagement_score\").show()"
      ]
    },
    {
      "cell_type": "markdown",
      "metadata": {
        "application/vnd.databricks.v1+cell": {
          "cellMetadata": {},
          "inputWidgets": {},
          "nuid": "1fba89e2-a84d-442b-bd79-b1302362f48d",
          "showTitle": false,
          "tableResultSettingsMap": {},
          "title": ""
        },
        "id": "VQ4PK8wybuBq"
      },
      "source": [
        "**Anomaly Detection via SQL**"
      ]
    },
    {
      "cell_type": "code",
      "execution_count": null,
      "metadata": {
        "application/vnd.databricks.v1+cell": {
          "cellMetadata": {
            "byteLimit": 2048000,
            "rowLimit": 10000
          },
          "inputWidgets": {},
          "nuid": "fe813f4e-c787-4357-8387-c435193eb041",
          "showTitle": false,
          "tableResultSettingsMap": {},
          "title": ""
        },
        "id": "k77lwMMxbuBq",
        "outputId": "90986e51-76b5-48c3-f401-8829456b9b0c"
      },
      "outputs": [
        {
          "name": "stdout",
          "output_type": "stream",
          "text": [
            "Inactive but recently active:\n",
            "+------+--------+---------+\n",
            "|UserID|IsActive|LastEvent|\n",
            "+------+--------+---------+\n",
            "+------+--------+---------+\n",
            "\n",
            "AutoRenew true but no activity in last 30 days:\n",
            "+------+-------------------+\n",
            "|UserID|          LastEvent|\n",
            "+------+-------------------+\n",
            "|  U001|2024-04-10 16:00:00|\n",
            "+------+-------------------+\n",
            "\n"
          ]
        }
      ],
      "source": [
        "#Inactive but recently active\n",
        "\n",
        "print(\"Inactive but recently active:\")\n",
        "spark.sql(\"\"\"\n",
        "SELECT s.UserID, s.IsActive, MAX(a.EventTime) AS LastEvent\n",
        "FROM subscriptions s\n",
        "LEFT JOIN activity a ON s.UserID = a.UserID\n",
        "GROUP BY s.UserID, s.IsActive\n",
        "HAVING s.IsActive = false AND LastEvent > current_date() - INTERVAL 7 DAYS\n",
        "\"\"\").show()\n",
        "\n",
        "#AutoRenew true but no activity in last 30 days\n",
        "\n",
        "print(\"AutoRenew true but no activity in last 30 days:\")\n",
        "spark.sql(\"\"\"\n",
        "SELECT s.UserID, MAX(a.EventTime) AS LastEvent\n",
        "FROM subscriptions s\n",
        "LEFT JOIN activity a ON s.UserID = a.UserID\n",
        "WHERE s.AutoRenew = true\n",
        "GROUP BY s.UserID\n",
        "HAVING LastEvent < current_date() - INTERVAL 30 DAYS OR LastEvent IS NULL\n",
        "\"\"\").show()"
      ]
    },
    {
      "cell_type": "markdown",
      "metadata": {
        "application/vnd.databricks.v1+cell": {
          "cellMetadata": {},
          "inputWidgets": {},
          "nuid": "db3e3173-4779-40bb-93f6-9f2cd44ac75e",
          "showTitle": false,
          "tableResultSettingsMap": {},
          "title": ""
        },
        "id": "yulUcdlAbuBq"
      },
      "source": [
        "**Delta Table (Lakehouse) + Merge Simulation**"
      ]
    },
    {
      "cell_type": "code",
      "execution_count": null,
      "metadata": {
        "application/vnd.databricks.v1+cell": {
          "cellMetadata": {
            "byteLimit": 2048000,
            "rowLimit": 10000
          },
          "inputWidgets": {},
          "nuid": "3b981d87-3d79-45f0-b538-54c5a537351a",
          "showTitle": false,
          "tableResultSettingsMap": {},
          "title": ""
        },
        "id": "2aclUlOwbuBq",
        "outputId": "4b39e9bb-3e25-495d-a44f-49cbb402d3d3"
      },
      "outputs": [
        {
          "name": "stdout",
          "output_type": "stream",
          "text": [
            "+-----------------+----------------+----------------+-----------------+\n",
            "|num_affected_rows|num_updated_rows|num_deleted_rows|num_inserted_rows|\n",
            "+-----------------+----------------+----------------+-----------------+\n",
            "|                1|               1|               0|                0|\n",
            "+-----------------+----------------+----------------+-----------------+\n",
            "\n"
          ]
        }
      ],
      "source": [
        "subscriptions.write.format(\"delta\").mode(\"overwrite\").save(\"file:/Workspace/Shared/subscriptions\")\n",
        "spark.sql(\"\"\"\n",
        "MERGE INTO delta.`file:/Workspace/Shared/subscriptions` target\n",
        "USING (\n",
        "  SELECT * FROM delta.`file:/Workspace/Shared/subscriptions`\n",
        "  WHERE PlanType = 'Pro' AND month(StartDate) = 3\n",
        ") src\n",
        "ON target.SubscriptionID = src.SubscriptionID\n",
        "WHEN MATCHED THEN\n",
        "  UPDATE SET target.PriceUSD = target.PriceUSD + 5\n",
        "\"\"\").show()"
      ]
    },
    {
      "cell_type": "markdown",
      "metadata": {
        "application/vnd.databricks.v1+cell": {
          "cellMetadata": {},
          "inputWidgets": {},
          "nuid": "b3cd066f-ed78-4574-aedb-a7d87f93b92a",
          "showTitle": false,
          "tableResultSettingsMap": {},
          "title": ""
        },
        "id": "o_T25ODLbuBq"
      },
      "source": [
        "**Time Travel Debugging**"
      ]
    },
    {
      "cell_type": "code",
      "execution_count": null,
      "metadata": {
        "application/vnd.databricks.v1+cell": {
          "cellMetadata": {
            "byteLimit": 2048000,
            "rowLimit": 10000
          },
          "inputWidgets": {},
          "nuid": "f8a5ef98-97e3-48a3-87d3-4460427badba",
          "showTitle": false,
          "tableResultSettingsMap": {},
          "title": ""
        },
        "id": "ZA_vAeCMbuBr",
        "outputId": "a77cc6c6-59e8-4268-e530-4853c1e585f2"
      },
      "outputs": [
        {
          "name": "stdout",
          "output_type": "stream",
          "text": [
            "+-------+--------------------+----------------+--------------------+---------+--------------------+----+------------------+--------------------+-----------+-----------------+-------------+--------------------+------------+--------------------+\n",
            "|version|           timestamp|          userId|            userName|operation| operationParameters| job|          notebook|           clusterId|readVersion|   isolationLevel|isBlindAppend|    operationMetrics|userMetadata|          engineInfo|\n",
            "+-------+--------------------+----------------+--------------------+---------+--------------------+----+------------------+--------------------+-----------+-----------------+-------------+--------------------+------------+--------------------+\n",
            "|      3|2025-06-16 10:07:...|4833629471493945|azuser3545_mml.lo...|    MERGE|{predicate -> [\"(...|NULL|{3587617172970376}|0611-043339-3vb7b9iv|          2|WriteSerializable|        false|{numTargetRowsCop...|        NULL|Databricks-Runtim...|\n",
            "|      2|2025-06-16 10:07:...|4833629471493945|azuser3545_mml.lo...|    WRITE|{mode -> Overwrit...|NULL|{3587617172970376}|0611-043339-3vb7b9iv|          1|WriteSerializable|        false|{numFiles -> 1, n...|        NULL|Databricks-Runtim...|\n",
            "|      1|2025-06-16 10:07:...|4833629471493945|azuser3545_mml.lo...|    MERGE|{predicate -> [\"(...|NULL|{3587617172970376}|0611-043339-3vb7b9iv|          0|WriteSerializable|        false|{numTargetRowsCop...|        NULL|Databricks-Runtim...|\n",
            "|      0|2025-06-16 10:07:...|4833629471493945|azuser3545_mml.lo...|    WRITE|{mode -> Overwrit...|NULL|{3587617172970376}|0611-043339-3vb7b9iv|       NULL|WriteSerializable|        false|{numFiles -> 1, n...|        NULL|Databricks-Runtim...|\n",
            "+-------+--------------------+----------------+--------------------+---------+--------------------+----+------------------+--------------------+-----------+-----------------+-------------+--------------------+------------+--------------------+\n",
            "\n",
            "+--------------+------+--------+----------+----------+--------+--------+---------+\n",
            "|SubscriptionID|UserID|PlanType| StartDate|   EndDate|PriceUSD|IsActive|AutoRenew|\n",
            "+--------------+------+--------+----------+----------+--------+--------+---------+\n",
            "|        SUB002|  U002|     Pro|2024-02-15|2024-05-15|    90.0|    true|   false |\n",
            "|        SUB003|  U003|     Pro|2024-03-10|2024-06-10|    90.0|   false|   false |\n",
            "+--------------+------+--------+----------+----------+--------+--------+---------+\n",
            "\n"
          ]
        }
      ],
      "source": [
        "# View history\n",
        "spark.sql(\"DESCRIBE HISTORY delta.`file:/Workspace/Shared/subscriptions`\").show()\n",
        "# Previous version\n",
        "old=spark.read.format(\"delta\").option(\"versionAsOf\", 0).load(\"file:/Workspace/Shared/subscriptions\")\n",
        "old.filter(col(\"PlanType\") == \"Pro\").show()"
      ]
    },
    {
      "cell_type": "markdown",
      "metadata": {
        "application/vnd.databricks.v1+cell": {
          "cellMetadata": {},
          "inputWidgets": {},
          "nuid": "82364681-18ca-45cb-868f-b49e5f8189cb",
          "showTitle": false,
          "tableResultSettingsMap": {},
          "title": ""
        },
        "id": "EbybhsmlbuBr"
      },
      "source": [
        "**Tier Migration Table using lag**"
      ]
    },
    {
      "cell_type": "code",
      "execution_count": null,
      "metadata": {
        "application/vnd.databricks.v1+cell": {
          "cellMetadata": {
            "byteLimit": 2048000,
            "rowLimit": 10000
          },
          "inputWidgets": {},
          "nuid": "b8e3ee5f-e71a-44b6-9f65-ef7b6aa43a22",
          "showTitle": false,
          "tableResultSettingsMap": {},
          "title": ""
        },
        "id": "BpWHax48buBr",
        "outputId": "39843459-5bd3-45ac-cbe9-d841bf70b907"
      },
      "outputs": [
        {
          "name": "stdout",
          "output_type": "stream",
          "text": [
            "+--------------+------+--------+---------+-------+--------+--------+---------+--------+\n",
            "|SubscriptionID|UserID|PlanType|StartDate|EndDate|PriceUSD|IsActive|AutoRenew|PrevPlan|\n",
            "+--------------+------+--------+---------+-------+--------+--------+---------+--------+\n",
            "+--------------+------+--------+---------+-------+--------+--------+---------+--------+\n",
            "\n"
          ]
        }
      ],
      "source": [
        "from pyspark.sql.window import Window\n",
        "w = Window.partitionBy(\"UserID\").orderBy(\"StartDate\")\n",
        "migration = subscriptions.withColumn(\"PrevPlan\", lag(\"PlanType\").over(w))\n",
        "migration.filter(\n",
        "    (col(\"PrevPlan\") == \"Basic\") & (col(\"PlanType\") == \"Pro\")\n",
        ").show()"
      ]
    },
    {
      "cell_type": "markdown",
      "metadata": {
        "application/vnd.databricks.v1+cell": {
          "cellMetadata": {},
          "inputWidgets": {},
          "nuid": "83198666-637a-410a-b4e0-7aa6ae00d324",
          "showTitle": false,
          "tableResultSettingsMap": {},
          "title": ""
        },
        "id": "7S_8rOrXbuBr"
      },
      "source": [
        "**Power Users Detection**"
      ]
    },
    {
      "cell_type": "code",
      "execution_count": null,
      "metadata": {
        "application/vnd.databricks.v1+cell": {
          "cellMetadata": {
            "byteLimit": 2048000,
            "rowLimit": 10000
          },
          "inputWidgets": {},
          "nuid": "54a27d92-543e-42ac-8e3c-61c00a0ae9b1",
          "showTitle": false,
          "tableResultSettingsMap": {},
          "title": ""
        },
        "id": "vDSuTQ62buBr",
        "outputId": "a9caf025-6868-45e9-89eb-60f5a8b19f06"
      },
      "outputs": [
        {
          "name": "stdout",
          "output_type": "stream",
          "text": [
            "+------+-------------+\n",
            "|UserID|feature_count|\n",
            "+------+-------------+\n",
            "|  U004|            1|\n",
            "|  U002|            1|\n",
            "|  U003|            1|\n",
            "|  U001|            1|\n",
            "+------+-------------+\n",
            "\n",
            "+------+-----------+\n",
            "|UserID|login_count|\n",
            "+------+-----------+\n",
            "|  U004|          1|\n",
            "|  U001|          1|\n",
            "+------+-----------+\n",
            "\n"
          ]
        }
      ],
      "source": [
        "from pyspark.sql.functions import countDistinct, col\n",
        "feature = activity.groupBy(\"UserID\").agg(countDistinct(\"FeatureUsed \").alias(\"feature_count\"))\n",
        "feature.show()\n",
        "login = activity.filter(col(\"EventType\") == \"login\").groupBy(\"UserID\").count().withColumnRenamed(\"count\", \"login_count\")\n",
        "login.show()\n",
        "high_usage_users = feature.join(login, \"UserID\") \\\n",
        "    .filter((col(\"feature_count\") >= 2) & (col(\"login_count\") >= 3))\n",
        "high_usage_users.write.format(\"delta\").mode(\"overwrite\").save(\"file:/Workspace/Shared/high_usage_users\")"
      ]
    },
    {
      "cell_type": "markdown",
      "metadata": {
        "application/vnd.databricks.v1+cell": {
          "cellMetadata": {},
          "inputWidgets": {},
          "nuid": "d3c3caab-ff75-4df8-a269-9ee7c70276dc",
          "showTitle": false,
          "tableResultSettingsMap": {},
          "title": ""
        },
        "id": "QPgWF5mAbuBr"
      },
      "source": [
        "**Session Replay View**"
      ]
    },
    {
      "cell_type": "code",
      "execution_count": null,
      "metadata": {
        "application/vnd.databricks.v1+cell": {
          "cellMetadata": {
            "byteLimit": 2048000,
            "rowLimit": 10000
          },
          "inputWidgets": {},
          "nuid": "866fd910-5a87-4e34-b562-82997e8ccd14",
          "showTitle": false,
          "tableResultSettingsMap": {},
          "title": ""
        },
        "id": "HKZhpEsObuBr",
        "outputId": "a279a994-e667-42b4-c592-f99be6d345f2"
      },
      "outputs": [
        {
          "name": "stdout",
          "output_type": "stream",
          "text": [
            "Sessions:\n",
            "+------+-------------------+---------+---------------+\n",
            "|UserID|          EventTime|EventType|SessionDuration|\n",
            "+------+-------------------+---------+---------------+\n",
            "|  U001|2024-04-07 10:22:00|    login|           NULL|\n",
            "|  U001|2024-04-10 16:00:00|   logout|         279480|\n",
            "|  U002|2024-04-08 11:10:00|   upload|           NULL|\n",
            "|  U003|2024-04-09 09:45:00| download|           NULL|\n",
            "|  U004|2024-04-11 12:00:00|    login|           NULL|\n",
            "+------+-------------------+---------+---------------+\n",
            "\n"
          ]
        }
      ],
      "source": [
        "window=Window.partitionBy(\"UserID\").orderBy(\"EventTime\")\n",
        "sessions=activity.withColumn(\"PrevEvent\", lag(\"EventType\").over(window)) \\\n",
        "                   .withColumn(\"PrevTime\", lag(\"EventTime\").over(window)) \\\n",
        "                   .withColumn(\"SessionDuration\",\n",
        "                        when((col(\"PrevEvent\") == \"login\") & (col(\"EventType\") == \"logout\"),\n",
        "                             unix_timestamp(\"EventTime\") - unix_timestamp(\"PrevTime\"))\n",
        "                    )\n",
        "print(\"Sessions:\")\n",
        "sessions.select(\"UserID\", \"EventTime\", \"EventType\", \"SessionDuration\").show()"
      ]
    }
  ],
  "metadata": {
    "application/vnd.databricks.v1+notebook": {
      "computePreferences": null,
      "dashboards": [],
      "environmentMetadata": {
        "base_environment": "",
        "environment_version": "2"
      },
      "inputWidgetPreferences": null,
      "language": "python",
      "notebookMetadata": {
        "pythonIndentUnit": 4
      },
      "notebookName": "june-16(set2)",
      "widgets": {}
    },
    "language_info": {
      "name": "python"
    },
    "colab": {
      "provenance": []
    },
    "kernelspec": {
      "name": "python3",
      "display_name": "Python 3"
    }
  },
  "nbformat": 4,
  "nbformat_minor": 0
}