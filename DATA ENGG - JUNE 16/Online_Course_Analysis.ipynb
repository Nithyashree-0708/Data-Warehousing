{
  "nbformat": 4,
  "nbformat_minor": 0,
  "metadata": {
    "colab": {
      "provenance": []
    },
    "kernelspec": {
      "name": "python3",
      "display_name": "Python 3"
    },
    "language_info": {
      "name": "python"
    }
  },
  "cells": [
    {
      "cell_type": "code",
      "execution_count": 1,
      "metadata": {
        "id": "TE57w2q4A4Y-"
      },
      "outputs": [],
      "source": [
        "\n",
        "from pyspark.sql import SparkSession\n",
        "from pyspark.sql.functions import col, avg, when, desc, year, month, lead, lag, rank\n",
        "from pyspark.sql.window import Window\n",
        "\n",
        "spark = SparkSession.builder.appName(\"CourseEnrollments\").getOrCreate()"
      ]
    },
    {
      "cell_type": "code",
      "source": [
        "df_infer = spark.read.option(\"header\", True).option(\"inferSchema\", True).csv(\"course_enrollments.csv\")\n",
        "df_infer.printSchema()\n",
        "\n",
        "from pyspark.sql.types import StructType, StructField, StringType, IntegerType, DoubleType, DateType\n",
        "\n",
        "schema = StructType([\n",
        "    StructField(\"EnrollmentID\", StringType(), True),\n",
        "    StructField(\"StudentName\", StringType(), True),\n",
        "    StructField(\"CourseName\", StringType(), True),\n",
        "    StructField(\"Category\", StringType(), True),\n",
        "    StructField(\"EnrollDate\", DateType(), True),\n",
        "    StructField(\"ProgressPercent\", IntegerType(), True),\n",
        "    StructField(\"Rating\", DoubleType(), True),\n",
        "    StructField(\"Status\", StringType(), True)\n",
        "])\n",
        "\n",
        "df_manual = spark.read.option(\"header\", True).schema(schema).csv(\"course_enrollments.csv\")\n",
        "df_manual.printSchema()"
      ],
      "metadata": {
        "colab": {
          "base_uri": "https://localhost:8080/"
        },
        "id": "EMhvRD7HBK80",
        "outputId": "fb285195-2af0-4dce-b2f9-333ca197c691"
      },
      "execution_count": 2,
      "outputs": [
        {
          "output_type": "stream",
          "name": "stdout",
          "text": [
            "root\n",
            " |-- EnrollmentID: string (nullable = true)\n",
            " |-- StudentName: string (nullable = true)\n",
            " |-- CourseName: string (nullable = true)\n",
            " |-- Category: string (nullable = true)\n",
            " |-- EnrollDate: date (nullable = true)\n",
            " |-- ProgressPercent: integer (nullable = true)\n",
            " |-- Rating: double (nullable = true)\n",
            " |-- Status: string (nullable = true)\n",
            "\n",
            "root\n",
            " |-- EnrollmentID: string (nullable = true)\n",
            " |-- StudentName: string (nullable = true)\n",
            " |-- CourseName: string (nullable = true)\n",
            " |-- Category: string (nullable = true)\n",
            " |-- EnrollDate: date (nullable = true)\n",
            " |-- ProgressPercent: integer (nullable = true)\n",
            " |-- Rating: double (nullable = true)\n",
            " |-- Status: string (nullable = true)\n",
            "\n"
          ]
        }
      ]
    },
    {
      "cell_type": "markdown",
      "source": [
        "**3. Filter records where ProgressPercent < 50**\n",
        "\n",
        "---\n",
        "\n"
      ],
      "metadata": {
        "id": "tzi1izhlNdMc"
      }
    },
    {
      "cell_type": "code",
      "source": [
        "df_filtered = df_manual.filter(df_manual.ProgressPercent < 50)\n",
        "df_filtered.show()\n",
        "\n",
        "\n"
      ],
      "metadata": {
        "colab": {
          "base_uri": "https://localhost:8080/"
        },
        "id": "Y7_eDRSaBjVo",
        "outputId": "a1aaf9a7-001b-48fd-b0c5-0e614b8e6fb9"
      },
      "execution_count": 10,
      "outputs": [
        {
          "output_type": "stream",
          "name": "stdout",
          "text": [
            "+------------+-----------+-------------------+-----------+----------+---------------+------+--------+\n",
            "|EnrollmentID|StudentName|         CourseName|   Category|EnrollDate|ProgressPercent|Rating|  Status|\n",
            "+------------+-----------+-------------------+-----------+----------+---------------+------+--------+\n",
            "|      ENR003|     Aakash|Power BI Essentials|  Analytics|2024-05-13|             30|   3.8|  Active|\n",
            "|      ENR004|       Neha|        Java Basics|Programming|2024-05-15|              0|  NULL|Inactive|\n",
            "+------------+-----------+-------------------+-----------+----------+---------------+------+--------+\n",
            "\n"
          ]
        }
      ]
    },
    {
      "cell_type": "markdown",
      "source": [
        "**4. Replace null ratings with average rating**\n"
      ],
      "metadata": {
        "id": "L_xnh6koNomI"
      }
    },
    {
      "cell_type": "code",
      "source": [
        "from pyspark.sql.functions import avg, when, col\n",
        "\n",
        "avg_rating = df_manual.select(avg(\"Rating\")).first()[0]\n",
        "\n",
        "df_rating_filled = df_manual.withColumn(\"Rating\", when(col(\"Rating\").isNull(), avg_rating).otherwise(col(\"Rating\")))\n"
      ],
      "metadata": {
        "id": "ITcyFdfVN2E0"
      },
      "execution_count": 12,
      "outputs": []
    },
    {
      "cell_type": "markdown",
      "source": [
        "**5. Add column IsActive: 1 if Status is Active, else 0**"
      ],
      "metadata": {
        "id": "HfrS3bzCOHIs"
      }
    },
    {
      "cell_type": "code",
      "source": [
        "df_flagged = df_rating_filled.withColumn(\"IsActive\", when(col(\"Status\") == \"Active\", 1).otherwise(0))"
      ],
      "metadata": {
        "id": "xmREGyXxOKcx"
      },
      "execution_count": 13,
      "outputs": []
    },
    {
      "cell_type": "markdown",
      "source": [
        "**6. Average progress by course**"
      ],
      "metadata": {
        "id": "6v5oOUa3OPpl"
      }
    },
    {
      "cell_type": "code",
      "source": [
        "df_flagged.groupBy(\"CourseName\").agg(avg(\"ProgressPercent\").alias(\"AvgProgress\")).show()"
      ],
      "metadata": {
        "colab": {
          "base_uri": "https://localhost:8080/"
        },
        "id": "txa37i6dORz3",
        "outputId": "df01bcc0-4be9-4bbf-82e1-412d0529d512"
      },
      "execution_count": 14,
      "outputs": [
        {
          "output_type": "stream",
          "name": "stdout",
          "text": [
            "+--------------------+-----------+\n",
            "|          CourseName|AvgProgress|\n",
            "+--------------------+-----------+\n",
            "|Data Analysis wit...|      100.0|\n",
            "|         Java Basics|        0.0|\n",
            "|Machine Learning 101|       60.0|\n",
            "|Python for Beginners|       85.0|\n",
            "| Power BI Essentials|       30.0|\n",
            "+--------------------+-----------+\n",
            "\n"
          ]
        }
      ]
    },
    {
      "cell_type": "markdown",
      "source": [
        "**7. Count of students in each course category**"
      ],
      "metadata": {
        "id": "dVmlG_XzOVWi"
      }
    },
    {
      "cell_type": "code",
      "source": [
        "df_flagged.groupBy(\"Category\").count().show()"
      ],
      "metadata": {
        "colab": {
          "base_uri": "https://localhost:8080/"
        },
        "id": "Z5iIOiAlOZO9",
        "outputId": "2488d64c-eab7-44d8-b9ed-dc0579922384"
      },
      "execution_count": 15,
      "outputs": [
        {
          "output_type": "stream",
          "name": "stdout",
          "text": [
            "+-----------+-----+\n",
            "|   Category|count|\n",
            "+-----------+-----+\n",
            "|Programming|    3|\n",
            "|         AI|    1|\n",
            "|  Analytics|    2|\n",
            "+-----------+-----+\n",
            "\n"
          ]
        }
      ]
    },
    {
      "cell_type": "markdown",
      "source": [
        "**8. Most enrolled course**"
      ],
      "metadata": {
        "id": "MVLfvWAbOhZO"
      }
    },
    {
      "cell_type": "code",
      "source": [
        "from pyspark.sql.functions import desc\n",
        "\n",
        "df_flagged.groupBy(\"CourseName\").count().orderBy(desc(\"count\")).limit(1).show()"
      ],
      "metadata": {
        "colab": {
          "base_uri": "https://localhost:8080/"
        },
        "id": "3d4OQZ89Olac",
        "outputId": "3b8180db-6d61-420f-b5ae-1e88aa363e30"
      },
      "execution_count": 16,
      "outputs": [
        {
          "output_type": "stream",
          "name": "stdout",
          "text": [
            "+--------------------+-----+\n",
            "|          CourseName|count|\n",
            "+--------------------+-----+\n",
            "|Python for Beginners|    2|\n",
            "+--------------------+-----+\n",
            "\n"
          ]
        }
      ]
    },
    {
      "cell_type": "markdown",
      "source": [
        "**9. Create & Load course_details.csv**"
      ],
      "metadata": {
        "id": "yNRBT08MOo5r"
      }
    },
    {
      "cell_type": "code",
      "source": [
        "df_details = spark.read.option(\"header\", True).option(\"inferSchema\", True).csv(\"course_details.csv\")"
      ],
      "metadata": {
        "id": "x64ZLitKOs3F"
      },
      "execution_count": 17,
      "outputs": []
    },
    {
      "cell_type": "markdown",
      "source": [
        "**10. Join enrollments with course_details**"
      ],
      "metadata": {
        "id": "hoaIu0RSO2EJ"
      }
    },
    {
      "cell_type": "code",
      "source": [
        "df_joined = df_flagged.join(df_details, on=\"CourseName\", how=\"left\")\n",
        "df_joined.show()"
      ],
      "metadata": {
        "colab": {
          "base_uri": "https://localhost:8080/"
        },
        "id": "T3W_zNBAO6U4",
        "outputId": "07983bd3-af90-4fff-8798-82618fa3a626"
      },
      "execution_count": 18,
      "outputs": [
        {
          "output_type": "stream",
          "name": "stdout",
          "text": [
            "+--------------------+------------+-----------+-----------+----------+---------------+-----------------+---------+--------+-------------+----------+\n",
            "|          CourseName|EnrollmentID|StudentName|   Category|EnrollDate|ProgressPercent|           Rating|   Status|IsActive|DurationWeeks|Instructor|\n",
            "+--------------------+------------+-----------+-----------+----------+---------------+-----------------+---------+--------+-------------+----------+\n",
            "|Python for Beginners|      ENR001|     Aditya|Programming|2024-05-10|             80|              4.5|   Active|       1|            4|    Rakesh|\n",
            "|Data Analysis wit...|      ENR002|     Simran|  Analytics|2024-05-12|            100|              4.7|Completed|       0|            3|    Anjali|\n",
            "| Power BI Essentials|      ENR003|     Aakash|  Analytics|2024-05-13|             30|              3.8|   Active|       1|            5|     Rekha|\n",
            "|         Java Basics|      ENR004|       Neha|Programming|2024-05-15|              0|4.359999999999999| Inactive|       0|            6|     Manoj|\n",
            "|Machine Learning 101|      ENR005|       Zara|         AI|2024-05-17|             60|              4.2|   Active|       1|            8|     Samir|\n",
            "|Python for Beginners|      ENR006|    Ibrahim|Programming|2024-05-18|             90|              4.6|Completed|       0|            4|    Rakesh|\n",
            "+--------------------+------------+-----------+-----------+----------+---------------+-----------------+---------+--------+-------------+----------+\n",
            "\n"
          ]
        }
      ]
    },
    {
      "cell_type": "markdown",
      "source": [
        "**11. Rank students in each course by ProgressPercent**"
      ],
      "metadata": {
        "id": "JyupVZ-UO9VS"
      }
    },
    {
      "cell_type": "code",
      "source": [
        "from pyspark.sql.window import Window\n",
        "from pyspark.sql.functions import rank\n",
        "\n",
        "window_spec = Window.partitionBy(\"CourseName\").orderBy(col(\"ProgressPercent\").desc())\n",
        "\n",
        "df_ranked = df_joined.withColumn(\"Rank\", rank().over(window_spec))\n",
        "df_ranked.show()"
      ],
      "metadata": {
        "colab": {
          "base_uri": "https://localhost:8080/"
        },
        "id": "4u8o82JjPA1d",
        "outputId": "ca786732-1cfb-49d2-9401-5f6bacf4db57"
      },
      "execution_count": 20,
      "outputs": [
        {
          "output_type": "stream",
          "name": "stdout",
          "text": [
            "+--------------------+------------+-----------+-----------+----------+---------------+-----------------+---------+--------+-------------+----------+----+\n",
            "|          CourseName|EnrollmentID|StudentName|   Category|EnrollDate|ProgressPercent|           Rating|   Status|IsActive|DurationWeeks|Instructor|Rank|\n",
            "+--------------------+------------+-----------+-----------+----------+---------------+-----------------+---------+--------+-------------+----------+----+\n",
            "|Data Analysis wit...|      ENR002|     Simran|  Analytics|2024-05-12|            100|              4.7|Completed|       0|            3|    Anjali|   1|\n",
            "|         Java Basics|      ENR004|       Neha|Programming|2024-05-15|              0|4.359999999999999| Inactive|       0|            6|     Manoj|   1|\n",
            "|Machine Learning 101|      ENR005|       Zara|         AI|2024-05-17|             60|              4.2|   Active|       1|            8|     Samir|   1|\n",
            "| Power BI Essentials|      ENR003|     Aakash|  Analytics|2024-05-13|             30|              3.8|   Active|       1|            5|     Rekha|   1|\n",
            "|Python for Beginners|      ENR006|    Ibrahim|Programming|2024-05-18|             90|              4.6|Completed|       0|            4|    Rakesh|   1|\n",
            "|Python for Beginners|      ENR001|     Aditya|Programming|2024-05-10|             80|              4.5|   Active|       1|            4|    Rakesh|   2|\n",
            "+--------------------+------------+-----------+-----------+----------+---------------+-----------------+---------+--------+-------------+----------+----+\n",
            "\n"
          ]
        }
      ]
    },
    {
      "cell_type": "markdown",
      "source": [
        "**12. Lead & Lag of EnrollDate by Category**"
      ],
      "metadata": {
        "id": "UFoblJFUPKoV"
      }
    },
    {
      "cell_type": "code",
      "source": [
        "from pyspark.sql.functions import lead, lag\n",
        "\n",
        "window_cat = Window.partitionBy(\"Category\").orderBy(\"EnrollDate\")\n",
        "\n",
        "df_lead_lag = df_ranked.withColumn(\"LeadDate\", lead(\"EnrollDate\").over(window_cat)) \\\n",
        "                       .withColumn(\"LagDate\", lag(\"EnrollDate\").over(window_cat))"
      ],
      "metadata": {
        "id": "9mh_rUuMPRvW"
      },
      "execution_count": 21,
      "outputs": []
    },
    {
      "cell_type": "markdown",
      "source": [
        "**13. Pivot: Total enrollments by Category and Status**"
      ],
      "metadata": {
        "id": "2xdbxtomPW2V"
      }
    },
    {
      "cell_type": "code",
      "source": [
        "df_pivot = df_joined.groupBy(\"Category\").pivot(\"Status\").count()\n",
        "df_pivot.show()"
      ],
      "metadata": {
        "colab": {
          "base_uri": "https://localhost:8080/"
        },
        "id": "SjaAhV1aPYj6",
        "outputId": "e354e5cd-2348-4054-80bd-2fc5520e97e8"
      },
      "execution_count": 22,
      "outputs": [
        {
          "output_type": "stream",
          "name": "stdout",
          "text": [
            "+-----------+------+---------+--------+\n",
            "|   Category|Active|Completed|Inactive|\n",
            "+-----------+------+---------+--------+\n",
            "|Programming|     1|        1|       1|\n",
            "|         AI|     1|     NULL|    NULL|\n",
            "|  Analytics|     1|        1|    NULL|\n",
            "+-----------+------+---------+--------+\n",
            "\n"
          ]
        }
      ]
    },
    {
      "cell_type": "markdown",
      "source": [
        "**14. Extract year and month from EnrollDate**"
      ],
      "metadata": {
        "id": "D2dz9lC_Pbs6"
      }
    },
    {
      "cell_type": "code",
      "source": [
        "from pyspark.sql.functions import year, month\n",
        "\n",
        "df_dates = df_joined.withColumn(\"EnrollYear\", year(\"EnrollDate\")) \\\n",
        "                    .withColumn(\"EnrollMonth\", month(\"EnrollDate\"))\n",
        "\n",
        "df_dates.show()\n",
        "\n"
      ],
      "metadata": {
        "colab": {
          "base_uri": "https://localhost:8080/"
        },
        "id": "pFq-333jPey6",
        "outputId": "e7c168f7-353f-48fd-e7d6-b2d1e7becef9"
      },
      "execution_count": 24,
      "outputs": [
        {
          "output_type": "stream",
          "name": "stdout",
          "text": [
            "+--------------------+------------+-----------+-----------+----------+---------------+-----------------+---------+--------+-------------+----------+----------+-----------+\n",
            "|          CourseName|EnrollmentID|StudentName|   Category|EnrollDate|ProgressPercent|           Rating|   Status|IsActive|DurationWeeks|Instructor|EnrollYear|EnrollMonth|\n",
            "+--------------------+------------+-----------+-----------+----------+---------------+-----------------+---------+--------+-------------+----------+----------+-----------+\n",
            "|Python for Beginners|      ENR001|     Aditya|Programming|2024-05-10|             80|              4.5|   Active|       1|            4|    Rakesh|      2024|          5|\n",
            "|Data Analysis wit...|      ENR002|     Simran|  Analytics|2024-05-12|            100|              4.7|Completed|       0|            3|    Anjali|      2024|          5|\n",
            "| Power BI Essentials|      ENR003|     Aakash|  Analytics|2024-05-13|             30|              3.8|   Active|       1|            5|     Rekha|      2024|          5|\n",
            "|         Java Basics|      ENR004|       Neha|Programming|2024-05-15|              0|4.359999999999999| Inactive|       0|            6|     Manoj|      2024|          5|\n",
            "|Machine Learning 101|      ENR005|       Zara|         AI|2024-05-17|             60|              4.2|   Active|       1|            8|     Samir|      2024|          5|\n",
            "|Python for Beginners|      ENR006|    Ibrahim|Programming|2024-05-18|             90|              4.6|Completed|       0|            4|    Rakesh|      2024|          5|\n",
            "+--------------------+------------+-----------+-----------+----------+---------------+-----------------+---------+--------+-------------+----------+----------+-----------+\n",
            "\n"
          ]
        }
      ]
    },
    {
      "cell_type": "markdown",
      "source": [
        "**15. Drop rows where Status is null or empty**"
      ],
      "metadata": {
        "id": "dMJmKGAwPiFX"
      }
    },
    {
      "cell_type": "code",
      "source": [
        "df_cleaned = df_dates.filter((col(\"Status\").isNotNull()) & (col(\"Status\") != \"\"))\n"
      ],
      "metadata": {
        "id": "uscnJqrLP7in"
      },
      "execution_count": 25,
      "outputs": []
    },
    {
      "cell_type": "markdown",
      "source": [
        "**16. Remove duplicate enrollments**"
      ],
      "metadata": {
        "id": "kl-P1mHyP-hG"
      }
    },
    {
      "cell_type": "code",
      "source": [
        "df_deduped = df_cleaned.dropDuplicates([\"EnrollmentID\"])"
      ],
      "metadata": {
        "id": "1dUPtgsiQC1Y"
      },
      "execution_count": 26,
      "outputs": []
    },
    {
      "cell_type": "markdown",
      "source": [
        "**17. Write final DataFrame**"
      ],
      "metadata": {
        "id": "N-SRqWeQQIOh"
      }
    },
    {
      "cell_type": "code",
      "source": [
        "# CSV\n",
        "df_deduped.write.mode(\"overwrite\").csv(\"output/final_enrollments_csv\", header=True)\n",
        "\n",
        "# JSON\n",
        "df_deduped.write.mode(\"overwrite\").json(\"output/final_enrollments_json\")\n",
        "\n",
        "# Parquet (snappy compression)\n",
        "df_deduped.write.mode(\"overwrite\").option(\"compression\", \"snappy\").parquet(\"output/final_enrollments_parquet\")\n"
      ],
      "metadata": {
        "id": "xqq1f4s2QJ8f"
      },
      "execution_count": 27,
      "outputs": []
    }
  ]
}