{
 "cells": [
  {
   "cell_type": "markdown",
   "metadata": {
    "application/vnd.databricks.v1+cell": {
     "cellMetadata": {},
     "inputWidgets": {},
     "nuid": "8c454453-1354-4624-b4ac-ca97e5afff07",
     "showTitle": false,
     "tableResultSettingsMap": {},
     "title": ""
    }
   },
   "source": [
    "LOAD DATA"
   ]
  },
  {
   "cell_type": "code",
   "execution_count": 0,
   "metadata": {
    "application/vnd.databricks.v1+cell": {
     "cellMetadata": {
      "byteLimit": 2048000,
      "rowLimit": 10000
     },
     "inputWidgets": {},
     "nuid": "a192d24f-a149-4c5c-94c9-45f0f78d01a0",
     "showTitle": false,
     "tableResultSettingsMap": {},
     "title": ""
    }
   },
   "outputs": [],
   "source": [
    "attendance_df = spark.read.csv(\"/Volumes/workspace/default/nithyashree/attendance_logs.csv\", header=True, inferSchema=True)\n",
    "tasks_df = spark.read.csv(\"/Volumes/workspace/default/nithyashree/tasks.csv\", header=True, inferSchema=True)"
   ]
  },
  {
   "cell_type": "markdown",
   "metadata": {
    "application/vnd.databricks.v1+cell": {
     "cellMetadata": {},
     "inputWidgets": {},
     "nuid": "103d2567-2f6f-466a-b223-ef99935bbd7c",
     "showTitle": false,
     "tableResultSettingsMap": {},
     "title": ""
    }
   },
   "source": [
    "CLEAN DATA"
   ]
  },
  {
   "cell_type": "code",
   "execution_count": 0,
   "metadata": {
    "application/vnd.databricks.v1+cell": {
     "cellMetadata": {
      "byteLimit": 2048000,
      "rowLimit": 10000
     },
     "inputWidgets": {},
     "nuid": "a347a33f-35bf-43e0-bb14-3c942e2f6842",
     "showTitle": false,
     "tableResultSettingsMap": {},
     "title": ""
    }
   },
   "outputs": [],
   "source": [
    "from pyspark.sql.functions import col, to_timestamp\n",
    "\n",
    "attendance_df = attendance_df.withColumn(\"clockin\", to_timestamp(col(\"clockin\"), \"yyyy-MM-dd HH:mm:ss\")) \\\n",
    "                             .withColumn(\"clockout\", to_timestamp(col(\"clockout\"), \"yyyy-MM-dd HH:mm:ss\"))\n",
    "\n",
    "attendance_df = attendance_df.withColumn(\"workhours\", \n",
    "                        (col(\"clockout\").cast(\"long\") - col(\"clockin\").cast(\"long\")) / 3600)"
   ]
  },
  {
   "cell_type": "markdown",
   "metadata": {
    "application/vnd.databricks.v1+cell": {
     "cellMetadata": {},
     "inputWidgets": {},
     "nuid": "402729b9-e654-4087-9bd4-ff2c88dabe2f",
     "showTitle": false,
     "tableResultSettingsMap": {},
     "title": ""
    }
   },
   "source": [
    "JOIN DATA"
   ]
  },
  {
   "cell_type": "code",
   "execution_count": 0,
   "metadata": {
    "application/vnd.databricks.v1+cell": {
     "cellMetadata": {
      "byteLimit": 2048000,
      "rowLimit": 10000
     },
     "inputWidgets": {},
     "nuid": "82e1880e-f65d-4362-b9f9-f25c7b96346f",
     "showTitle": false,
     "tableResultSettingsMap": {},
     "title": ""
    }
   },
   "outputs": [],
   "source": [
    "combined_df = attendance_df.join(tasks_df, on=\"employeeid\", how=\"inner\")"
   ]
  },
  {
   "cell_type": "markdown",
   "metadata": {
    "application/vnd.databricks.v1+cell": {
     "cellMetadata": {},
     "inputWidgets": {},
     "nuid": "e2c21dff-0d89-4038-b557-1ad8c3f764a2",
     "showTitle": false,
     "tableResultSettingsMap": {},
     "title": ""
    }
   },
   "source": [
    "Aggregate Department-Level Metrics"
   ]
  },
  {
   "cell_type": "code",
   "execution_count": 0,
   "metadata": {
    "application/vnd.databricks.v1+cell": {
     "cellMetadata": {
      "byteLimit": 2048000,
      "rowLimit": 10000
     },
     "inputWidgets": {},
     "nuid": "a0515bbd-3098-4c30-b2cc-76c043ced4de",
     "showTitle": false,
     "tableResultSettingsMap": {},
     "title": ""
    }
   },
   "outputs": [],
   "source": [
    "from pyspark.sql.functions import avg, count, col, unix_timestamp\n",
    "\n",
    "# Create a new derived column \"workhours\"\n",
    "combined_df = combined_df.withColumn(\n",
    "    \"workhours\",\n",
    "    (unix_timestamp(\"clockout\") - unix_timestamp(\"clockin\")) / 3600\n",
    ")"
   ]
  },
  {
   "cell_type": "code",
   "execution_count": 0,
   "metadata": {
    "application/vnd.databricks.v1+cell": {
     "cellMetadata": {
      "byteLimit": 2048000,
      "rowLimit": 10000
     },
     "inputWidgets": {},
     "nuid": "9d885f9d-acd4-4957-b785-3045e36cc3d3",
     "showTitle": false,
     "tableResultSettingsMap": {},
     "title": ""
    }
   },
   "outputs": [],
   "source": [
    "combined_df = combined_df.withColumn(\"productivity_score\", col(\"taskscompleted\"))"
   ]
  },
  {
   "cell_type": "code",
   "execution_count": 0,
   "metadata": {
    "application/vnd.databricks.v1+cell": {
     "cellMetadata": {
      "byteLimit": 2048000,
      "rowLimit": 10000
     },
     "inputWidgets": {},
     "nuid": "a4f2e553-f91b-4758-b76f-243e10ace8d3",
     "showTitle": false,
     "tableResultSettingsMap": {},
     "title": ""
    }
   },
   "outputs": [
    {
     "output_type": "stream",
     "name": "stdout",
     "output_type": "stream",
     "text": [
      "+----------+-----------------+----------------+-------------+\n|department|    avg_workhours|avg_productivity|records_count|\n+----------+-----------------+----------------+-------------+\n|        HR|              8.5|             3.0|            2|\n|  Accounts|8.166666666666666|             2.0|            1|\n|        IT|8.416666666666666|             4.5|            2|\n+----------+-----------------+----------------+-------------+\n\n"
     ]
    }
   ],
   "source": [
    "from pyspark.sql.functions import avg, count, col, unix_timestamp\n",
    "\n",
    "# Step 1: Add workhours\n",
    "combined_df = combined_df.withColumn(\n",
    "    \"workhours\",\n",
    "    (unix_timestamp(\"clockout\") - unix_timestamp(\"clockin\")) / 3600.0\n",
    ")\n",
    "\n",
    "# Step 2: Add productivity_score using taskscompleted\n",
    "combined_df = combined_df.withColumn(\"productivity_score\", col(\"taskscompleted\"))\n",
    "\n",
    "# Step 3: Compute department-level KPIs\n",
    "department_kpis = combined_df.groupBy(\"department\").agg(\n",
    "    avg(\"workhours\").alias(\"avg_workhours\"),\n",
    "    avg(\"productivity_score\").alias(\"avg_productivity\"),\n",
    "    count(col(\"employeeid\")).alias(\"records_count\")\n",
    ")\n",
    "\n",
    "# Step 4: Show results\n",
    "department_kpis.show()"
   ]
  },
  {
   "cell_type": "markdown",
   "metadata": {
    "application/vnd.databricks.v1+cell": {
     "cellMetadata": {},
     "inputWidgets": {},
     "nuid": "34984931-a266-4f1b-8e15-e44d63cd3f40",
     "showTitle": false,
     "tableResultSettingsMap": {},
     "title": ""
    }
   },
   "source": [
    "SAVE OUTPUT"
   ]
  },
  {
   "cell_type": "code",
   "execution_count": 0,
   "metadata": {
    "application/vnd.databricks.v1+cell": {
     "cellMetadata": {
      "byteLimit": 2048000,
      "rowLimit": 10000
     },
     "inputWidgets": {},
     "nuid": "7115bf59-25f1-437e-b901-07775ecefffb",
     "showTitle": false,
     "tableResultSettingsMap": {},
     "title": ""
    }
   },
   "outputs": [],
   "source": [
    "department_kpis.write.format(\"delta\").mode(\"overwrite\").save(\"/Volumes/workspace/default/nithyashree/department_kpis_delta\")"
   ]
  },
  {
   "cell_type": "code",
   "execution_count": 0,
   "metadata": {
    "application/vnd.databricks.v1+cell": {
     "cellMetadata": {
      "byteLimit": 2048000,
      "rowLimit": 10000
     },
     "inputWidgets": {},
     "nuid": "3cd8b9a8-e471-4bfe-ac62-81e27e1680f8",
     "showTitle": false,
     "tableResultSettingsMap": {},
     "title": ""
    }
   },
   "outputs": [],
   "source": [
    "department_kpis.write.mode(\"overwrite\").parquet(\"/Volumes/workspace/default/nithyashree/department_kpis_parquet\")"
   ]
  }
 ],
 "metadata": {
  "application/vnd.databricks.v1+notebook": {
   "computePreferences": null,
   "dashboards": [],
   "environmentMetadata": {
    "base_environment": "",
    "environment_version": "2"
   },
   "inputWidgetPreferences": null,
   "language": "python",
   "notebookMetadata": {
    "pythonIndentUnit": 4
   },
   "notebookName": "Employee_Tracker_Week4",
   "widgets": {}
  },
  "language_info": {
   "name": "python"
  }
 },
 "nbformat": 4,
 "nbformat_minor": 0
}