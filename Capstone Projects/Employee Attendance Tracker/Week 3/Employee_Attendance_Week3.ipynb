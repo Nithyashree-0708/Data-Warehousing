{
  "nbformat": 4,
  "nbformat_minor": 0,
  "metadata": {
    "colab": {
      "provenance": []
    },
    "kernelspec": {
      "name": "python3",
      "display_name": "Python 3"
    },
    "language_info": {
      "name": "python"
    }
  },
  "cells": [
    {
      "cell_type": "code",
      "execution_count": 1,
      "metadata": {
        "id": "xrfsfVk_YAyy"
      },
      "outputs": [],
      "source": [
        "from pyspark.sql import SparkSession\n",
        "from pyspark.sql.functions import col, when, avg, count, to_timestamp, hour, minute"
      ]
    },
    {
      "cell_type": "code",
      "source": [
        "# Initialize Spark\n",
        "spark = SparkSession.builder.appName(\"AttendanceAnalysis\").getOrCreate()"
      ],
      "metadata": {
        "id": "QUuUAWEMYL1X"
      },
      "execution_count": 2,
      "outputs": []
    },
    {
      "cell_type": "code",
      "source": [
        "from google.colab import files\n",
        "uploaded = files.upload()"
      ],
      "metadata": {
        "colab": {
          "base_uri": "https://localhost:8080/",
          "height": 73
        },
        "id": "1uYvpyVqYS7p",
        "outputId": "57bf58f9-2970-40e7-a922-1e4232347c66"
      },
      "execution_count": 3,
      "outputs": [
        {
          "output_type": "display_data",
          "data": {
            "text/plain": [
              "<IPython.core.display.HTML object>"
            ],
            "text/html": [
              "\n",
              "     <input type=\"file\" id=\"files-b5be6b93-c1bd-4255-be98-b0016dd46f30\" name=\"files[]\" multiple disabled\n",
              "        style=\"border:none\" />\n",
              "     <output id=\"result-b5be6b93-c1bd-4255-be98-b0016dd46f30\">\n",
              "      Upload widget is only available when the cell has been executed in the\n",
              "      current browser session. Please rerun this cell to enable.\n",
              "      </output>\n",
              "      <script>// Copyright 2017 Google LLC\n",
              "//\n",
              "// Licensed under the Apache License, Version 2.0 (the \"License\");\n",
              "// you may not use this file except in compliance with the License.\n",
              "// You may obtain a copy of the License at\n",
              "//\n",
              "//      http://www.apache.org/licenses/LICENSE-2.0\n",
              "//\n",
              "// Unless required by applicable law or agreed to in writing, software\n",
              "// distributed under the License is distributed on an \"AS IS\" BASIS,\n",
              "// WITHOUT WARRANTIES OR CONDITIONS OF ANY KIND, either express or implied.\n",
              "// See the License for the specific language governing permissions and\n",
              "// limitations under the License.\n",
              "\n",
              "/**\n",
              " * @fileoverview Helpers for google.colab Python module.\n",
              " */\n",
              "(function(scope) {\n",
              "function span(text, styleAttributes = {}) {\n",
              "  const element = document.createElement('span');\n",
              "  element.textContent = text;\n",
              "  for (const key of Object.keys(styleAttributes)) {\n",
              "    element.style[key] = styleAttributes[key];\n",
              "  }\n",
              "  return element;\n",
              "}\n",
              "\n",
              "// Max number of bytes which will be uploaded at a time.\n",
              "const MAX_PAYLOAD_SIZE = 100 * 1024;\n",
              "\n",
              "function _uploadFiles(inputId, outputId) {\n",
              "  const steps = uploadFilesStep(inputId, outputId);\n",
              "  const outputElement = document.getElementById(outputId);\n",
              "  // Cache steps on the outputElement to make it available for the next call\n",
              "  // to uploadFilesContinue from Python.\n",
              "  outputElement.steps = steps;\n",
              "\n",
              "  return _uploadFilesContinue(outputId);\n",
              "}\n",
              "\n",
              "// This is roughly an async generator (not supported in the browser yet),\n",
              "// where there are multiple asynchronous steps and the Python side is going\n",
              "// to poll for completion of each step.\n",
              "// This uses a Promise to block the python side on completion of each step,\n",
              "// then passes the result of the previous step as the input to the next step.\n",
              "function _uploadFilesContinue(outputId) {\n",
              "  const outputElement = document.getElementById(outputId);\n",
              "  const steps = outputElement.steps;\n",
              "\n",
              "  const next = steps.next(outputElement.lastPromiseValue);\n",
              "  return Promise.resolve(next.value.promise).then((value) => {\n",
              "    // Cache the last promise value to make it available to the next\n",
              "    // step of the generator.\n",
              "    outputElement.lastPromiseValue = value;\n",
              "    return next.value.response;\n",
              "  });\n",
              "}\n",
              "\n",
              "/**\n",
              " * Generator function which is called between each async step of the upload\n",
              " * process.\n",
              " * @param {string} inputId Element ID of the input file picker element.\n",
              " * @param {string} outputId Element ID of the output display.\n",
              " * @return {!Iterable<!Object>} Iterable of next steps.\n",
              " */\n",
              "function* uploadFilesStep(inputId, outputId) {\n",
              "  const inputElement = document.getElementById(inputId);\n",
              "  inputElement.disabled = false;\n",
              "\n",
              "  const outputElement = document.getElementById(outputId);\n",
              "  outputElement.innerHTML = '';\n",
              "\n",
              "  const pickedPromise = new Promise((resolve) => {\n",
              "    inputElement.addEventListener('change', (e) => {\n",
              "      resolve(e.target.files);\n",
              "    });\n",
              "  });\n",
              "\n",
              "  const cancel = document.createElement('button');\n",
              "  inputElement.parentElement.appendChild(cancel);\n",
              "  cancel.textContent = 'Cancel upload';\n",
              "  const cancelPromise = new Promise((resolve) => {\n",
              "    cancel.onclick = () => {\n",
              "      resolve(null);\n",
              "    };\n",
              "  });\n",
              "\n",
              "  // Wait for the user to pick the files.\n",
              "  const files = yield {\n",
              "    promise: Promise.race([pickedPromise, cancelPromise]),\n",
              "    response: {\n",
              "      action: 'starting',\n",
              "    }\n",
              "  };\n",
              "\n",
              "  cancel.remove();\n",
              "\n",
              "  // Disable the input element since further picks are not allowed.\n",
              "  inputElement.disabled = true;\n",
              "\n",
              "  if (!files) {\n",
              "    return {\n",
              "      response: {\n",
              "        action: 'complete',\n",
              "      }\n",
              "    };\n",
              "  }\n",
              "\n",
              "  for (const file of files) {\n",
              "    const li = document.createElement('li');\n",
              "    li.append(span(file.name, {fontWeight: 'bold'}));\n",
              "    li.append(span(\n",
              "        `(${file.type || 'n/a'}) - ${file.size} bytes, ` +\n",
              "        `last modified: ${\n",
              "            file.lastModifiedDate ? file.lastModifiedDate.toLocaleDateString() :\n",
              "                                    'n/a'} - `));\n",
              "    const percent = span('0% done');\n",
              "    li.appendChild(percent);\n",
              "\n",
              "    outputElement.appendChild(li);\n",
              "\n",
              "    const fileDataPromise = new Promise((resolve) => {\n",
              "      const reader = new FileReader();\n",
              "      reader.onload = (e) => {\n",
              "        resolve(e.target.result);\n",
              "      };\n",
              "      reader.readAsArrayBuffer(file);\n",
              "    });\n",
              "    // Wait for the data to be ready.\n",
              "    let fileData = yield {\n",
              "      promise: fileDataPromise,\n",
              "      response: {\n",
              "        action: 'continue',\n",
              "      }\n",
              "    };\n",
              "\n",
              "    // Use a chunked sending to avoid message size limits. See b/62115660.\n",
              "    let position = 0;\n",
              "    do {\n",
              "      const length = Math.min(fileData.byteLength - position, MAX_PAYLOAD_SIZE);\n",
              "      const chunk = new Uint8Array(fileData, position, length);\n",
              "      position += length;\n",
              "\n",
              "      const base64 = btoa(String.fromCharCode.apply(null, chunk));\n",
              "      yield {\n",
              "        response: {\n",
              "          action: 'append',\n",
              "          file: file.name,\n",
              "          data: base64,\n",
              "        },\n",
              "      };\n",
              "\n",
              "      let percentDone = fileData.byteLength === 0 ?\n",
              "          100 :\n",
              "          Math.round((position / fileData.byteLength) * 100);\n",
              "      percent.textContent = `${percentDone}% done`;\n",
              "\n",
              "    } while (position < fileData.byteLength);\n",
              "  }\n",
              "\n",
              "  // All done.\n",
              "  yield {\n",
              "    response: {\n",
              "      action: 'complete',\n",
              "    }\n",
              "  };\n",
              "}\n",
              "\n",
              "scope.google = scope.google || {};\n",
              "scope.google.colab = scope.google.colab || {};\n",
              "scope.google.colab._files = {\n",
              "  _uploadFiles,\n",
              "  _uploadFilesContinue,\n",
              "};\n",
              "})(self);\n",
              "</script> "
            ]
          },
          "metadata": {}
        },
        {
          "output_type": "stream",
          "name": "stdout",
          "text": [
            "Saving attendance_logs.csv to attendance_logs.csv\n"
          ]
        }
      ]
    },
    {
      "cell_type": "code",
      "source": [
        "df = spark.read.csv(\"attendance_logs.csv\", header=True, inferSchema=True)"
      ],
      "metadata": {
        "id": "2CssXAy0YuOx"
      },
      "execution_count": 6,
      "outputs": []
    },
    {
      "cell_type": "code",
      "source": [
        "from pyspark.sql.functions import to_timestamp, col\n",
        "\n",
        "df = df.withColumn(\"clockin\", to_timestamp(col(\"clockin\"), \"yyyy-MM-dd HH:mm:ss\"))\n",
        "df = df.withColumn(\"clockout\", to_timestamp(col(\"clockout\"), \"yyyy-MM-dd HH:mm:ss\"))\n",
        "df.show()"
      ],
      "metadata": {
        "colab": {
          "base_uri": "https://localhost:8080/"
        },
        "id": "OTPlzYNMYzHE",
        "outputId": "31d5934c-ee0b-49f3-c0ec-1227ba929ee5"
      },
      "execution_count": 7,
      "outputs": [
        {
          "output_type": "stream",
          "name": "stdout",
          "text": [
            "+----------+------+----------+-------------------+-------------------+--------------+\n",
            "|employeeid|  name|department|            clockin|           clockout|taskscompleted|\n",
            "+----------+------+----------+-------------------+-------------------+--------------+\n",
            "|         1|Nithya|        IT|2025-06-01 09:05:00|2025-06-01 17:30:00|             5|\n",
            "|         2| Vivek|        HR|2025-06-01 09:30:00|2025-06-01 18:00:00|             3|\n",
            "|         3| Deepa|  Accounts|2025-06-01 08:50:00|2025-06-01 17:00:00|             2|\n",
            "|         4|  Arun|        IT|               NULL|2025-06-01 17:15:00|             4|\n",
            "|         5| Priya|        HR|2025-06-01 09:20:00|               NULL|             3|\n",
            "+----------+------+----------+-------------------+-------------------+--------------+\n",
            "\n"
          ]
        }
      ]
    },
    {
      "cell_type": "code",
      "source": [
        "# Calculate work hours\n",
        "df = df.withColumn(\"workhours\",\n",
        "                   (col(\"clockout\").cast(\"long\") - col(\"clockin\").cast(\"long\")) / 3600)\n",
        "df.show()"
      ],
      "metadata": {
        "colab": {
          "base_uri": "https://localhost:8080/"
        },
        "id": "PSlh43RyY6zR",
        "outputId": "1c59bf6e-f452-411d-cbe5-1def644a32c1"
      },
      "execution_count": 8,
      "outputs": [
        {
          "output_type": "stream",
          "name": "stdout",
          "text": [
            "+----------+------+----------+-------------------+-------------------+--------------+-----------------+\n",
            "|employeeid|  name|department|            clockin|           clockout|taskscompleted|        workhours|\n",
            "+----------+------+----------+-------------------+-------------------+--------------+-----------------+\n",
            "|         1|Nithya|        IT|2025-06-01 09:05:00|2025-06-01 17:30:00|             5|8.416666666666666|\n",
            "|         2| Vivek|        HR|2025-06-01 09:30:00|2025-06-01 18:00:00|             3|              8.5|\n",
            "|         3| Deepa|  Accounts|2025-06-01 08:50:00|2025-06-01 17:00:00|             2|8.166666666666666|\n",
            "|         4|  Arun|        IT|               NULL|2025-06-01 17:15:00|             4|             NULL|\n",
            "|         5| Priya|        HR|2025-06-01 09:20:00|               NULL|             3|             NULL|\n",
            "+----------+------+----------+-------------------+-------------------+--------------+-----------------+\n",
            "\n"
          ]
        }
      ]
    },
    {
      "cell_type": "code",
      "source": [
        "# Identify late logins (after 09:15 AM)\n",
        "df = df.withColumn(\"late_login\",\n",
        "                   when((hour(col(\"clockin\")) > 9) |\n",
        "                        ((hour(col(\"clockin\")) == 9) & (minute(col(\"clockin\")) > 15)), 1).otherwise(0))\n",
        "df.show()"
      ],
      "metadata": {
        "colab": {
          "base_uri": "https://localhost:8080/"
        },
        "id": "TFeRsf26ZDis",
        "outputId": "14ab37e7-7e7e-4ad3-edf3-5689c3fefb91"
      },
      "execution_count": 9,
      "outputs": [
        {
          "output_type": "stream",
          "name": "stdout",
          "text": [
            "+----------+------+----------+-------------------+-------------------+--------------+-----------------+----------+\n",
            "|employeeid|  name|department|            clockin|           clockout|taskscompleted|        workhours|late_login|\n",
            "+----------+------+----------+-------------------+-------------------+--------------+-----------------+----------+\n",
            "|         1|Nithya|        IT|2025-06-01 09:05:00|2025-06-01 17:30:00|             5|8.416666666666666|         0|\n",
            "|         2| Vivek|        HR|2025-06-01 09:30:00|2025-06-01 18:00:00|             3|              8.5|         1|\n",
            "|         3| Deepa|  Accounts|2025-06-01 08:50:00|2025-06-01 17:00:00|             2|8.166666666666666|         0|\n",
            "|         4|  Arun|        IT|               NULL|2025-06-01 17:15:00|             4|             NULL|         0|\n",
            "|         5| Priya|        HR|2025-06-01 09:20:00|               NULL|             3|             NULL|         1|\n",
            "+----------+------+----------+-------------------+-------------------+--------------+-----------------+----------+\n",
            "\n"
          ]
        }
      ]
    },
    {
      "cell_type": "code",
      "source": [
        "# Identify absences (missing clock-in or clock-out)\n",
        "df = df.withColumn(\"absent\",\n",
        "                   when(col(\"clockin\").isNull() | col(\"clockout\").isNull(), 1).otherwise(0))\n",
        "df.show()"
      ],
      "metadata": {
        "colab": {
          "base_uri": "https://localhost:8080/"
        },
        "id": "mhN22CpzaCgq",
        "outputId": "04593d70-1531-419a-b7ab-2aa68b770f71"
      },
      "execution_count": 10,
      "outputs": [
        {
          "output_type": "stream",
          "name": "stdout",
          "text": [
            "+----------+------+----------+-------------------+-------------------+--------------+-----------------+----------+------+\n",
            "|employeeid|  name|department|            clockin|           clockout|taskscompleted|        workhours|late_login|absent|\n",
            "+----------+------+----------+-------------------+-------------------+--------------+-----------------+----------+------+\n",
            "|         1|Nithya|        IT|2025-06-01 09:05:00|2025-06-01 17:30:00|             5|8.416666666666666|         0|     0|\n",
            "|         2| Vivek|        HR|2025-06-01 09:30:00|2025-06-01 18:00:00|             3|              8.5|         1|     0|\n",
            "|         3| Deepa|  Accounts|2025-06-01 08:50:00|2025-06-01 17:00:00|             2|8.166666666666666|         0|     0|\n",
            "|         4|  Arun|        IT|               NULL|2025-06-01 17:15:00|             4|             NULL|         0|     1|\n",
            "|         5| Priya|        HR|2025-06-01 09:20:00|               NULL|             3|             NULL|         1|     1|\n",
            "+----------+------+----------+-------------------+-------------------+--------------+-----------------+----------+------+\n",
            "\n"
          ]
        }
      ]
    },
    {
      "cell_type": "code",
      "source": [
        "# Example productivity score calculation if taskscompleted column exists\n",
        "df = df.withColumn(\"productivity_score\", col(\"taskscompleted\") / col(\"workhours\"))\n",
        "df.show()"
      ],
      "metadata": {
        "colab": {
          "base_uri": "https://localhost:8080/"
        },
        "id": "IS8cGkASaLqw",
        "outputId": "f9fd521f-653a-4670-ae95-9173872e0530"
      },
      "execution_count": 11,
      "outputs": [
        {
          "output_type": "stream",
          "name": "stdout",
          "text": [
            "+----------+------+----------+-------------------+-------------------+--------------+-----------------+----------+------+-------------------+\n",
            "|employeeid|  name|department|            clockin|           clockout|taskscompleted|        workhours|late_login|absent| productivity_score|\n",
            "+----------+------+----------+-------------------+-------------------+--------------+-----------------+----------+------+-------------------+\n",
            "|         1|Nithya|        IT|2025-06-01 09:05:00|2025-06-01 17:30:00|             5|8.416666666666666|         0|     0| 0.5940594059405941|\n",
            "|         2| Vivek|        HR|2025-06-01 09:30:00|2025-06-01 18:00:00|             3|              8.5|         1|     0|0.35294117647058826|\n",
            "|         3| Deepa|  Accounts|2025-06-01 08:50:00|2025-06-01 17:00:00|             2|8.166666666666666|         0|     0| 0.2448979591836735|\n",
            "|         4|  Arun|        IT|               NULL|2025-06-01 17:15:00|             4|             NULL|         0|     1|               NULL|\n",
            "|         5| Priya|        HR|2025-06-01 09:20:00|               NULL|             3|             NULL|         1|     1|               NULL|\n",
            "+----------+------+----------+-------------------+-------------------+--------------+-----------------+----------+------+-------------------+\n",
            "\n"
          ]
        }
      ]
    },
    {
      "cell_type": "code",
      "source": [
        "# Group by department for analysis\n",
        "department_summary = df.groupBy(\"department\").agg(\n",
        "    avg(\"workhours\").alias(\"avg_workhours\"),\n",
        "    avg(\"productivity_score\").alias(\"avg_productivity_score\"),\n",
        "    count(when(col(\"late_login\") == 1, True)).alias(\"late_login_count\"),\n",
        "    count(when(col(\"absent\") == 1, True)).alias(\"absence_count\")\n",
        ")"
      ],
      "metadata": {
        "id": "pzCYnbh_aSFn"
      },
      "execution_count": 12,
      "outputs": []
    },
    {
      "cell_type": "code",
      "source": [
        "# Show summary\n",
        "department_summary.show()"
      ],
      "metadata": {
        "colab": {
          "base_uri": "https://localhost:8080/"
        },
        "id": "RNY8XdnAaWkD",
        "outputId": "0e9bd52f-1dd4-4811-de77-d2365b433f6b"
      },
      "execution_count": 13,
      "outputs": [
        {
          "output_type": "stream",
          "name": "stdout",
          "text": [
            "+----------+-----------------+----------------------+----------------+-------------+\n",
            "|department|    avg_workhours|avg_productivity_score|late_login_count|absence_count|\n",
            "+----------+-----------------+----------------------+----------------+-------------+\n",
            "|        HR|              8.5|   0.35294117647058826|               2|            1|\n",
            "|  Accounts|8.166666666666666|    0.2448979591836735|               0|            0|\n",
            "|        IT|8.416666666666666|    0.5940594059405941|               0|            1|\n",
            "+----------+-----------------+----------------------+----------------+-------------+\n",
            "\n"
          ]
        }
      ]
    },
    {
      "cell_type": "code",
      "source": [
        "# Save for reporting\n",
        "department_summary.coalesce(1).write.csv(\"attendance_department_summary\", header=True, mode=\"overwrite\")\n",
        "\n",
        "spark.stop()"
      ],
      "metadata": {
        "id": "6eIzaqgVacUW"
      },
      "execution_count": 14,
      "outputs": []
    }
  ]
}