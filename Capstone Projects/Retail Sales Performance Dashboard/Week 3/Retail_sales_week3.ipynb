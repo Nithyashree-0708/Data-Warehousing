{
  "nbformat": 4,
  "nbformat_minor": 0,
  "metadata": {
    "colab": {
      "provenance": []
    },
    "kernelspec": {
      "name": "python3",
      "display_name": "Python 3"
    },
    "language_info": {
      "name": "python"
    }
  },
  "cells": [
    {
      "cell_type": "code",
      "execution_count": 1,
      "metadata": {
        "id": "iYLbAWKSC3ri"
      },
      "outputs": [],
      "source": [
        "from pyspark.sql import SparkSession\n",
        "from pyspark.sql.functions import col, month, year, avg"
      ]
    },
    {
      "cell_type": "markdown",
      "source": [
        "#  Initialize Spark Session"
      ],
      "metadata": {
        "id": "IdNt0NvjDTrc"
      }
    },
    {
      "cell_type": "code",
      "source": [
        "spark = SparkSession.builder.appName(\"RetailSalesCapstoneWeek3\").getOrCreate()"
      ],
      "metadata": {
        "id": "6wbP0djBDaQW"
      },
      "execution_count": 2,
      "outputs": []
    },
    {
      "cell_type": "markdown",
      "source": [
        "\n",
        "# Load the large sales data"
      ],
      "metadata": {
        "id": "0ixYkJriDkOs"
      }
    },
    {
      "cell_type": "code",
      "source": [
        "from google.colab import files\n",
        "uploaded = files.upload()"
      ],
      "metadata": {
        "colab": {
          "base_uri": "https://localhost:8080/",
          "height": 73
        },
        "id": "Y8M65AXeDxYm",
        "outputId": "4c0931d6-d3e4-4bf9-dbba-90ea4bcc9ab1"
      },
      "execution_count": 6,
      "outputs": [
        {
          "output_type": "display_data",
          "data": {
            "text/plain": [
              "<IPython.core.display.HTML object>"
            ],
            "text/html": [
              "\n",
              "     <input type=\"file\" id=\"files-2749b0f6-1ac2-4fa3-bf49-44e515b6c5ea\" name=\"files[]\" multiple disabled\n",
              "        style=\"border:none\" />\n",
              "     <output id=\"result-2749b0f6-1ac2-4fa3-bf49-44e515b6c5ea\">\n",
              "      Upload widget is only available when the cell has been executed in the\n",
              "      current browser session. Please rerun this cell to enable.\n",
              "      </output>\n",
              "      <script>// Copyright 2017 Google LLC\n",
              "//\n",
              "// Licensed under the Apache License, Version 2.0 (the \"License\");\n",
              "// you may not use this file except in compliance with the License.\n",
              "// You may obtain a copy of the License at\n",
              "//\n",
              "//      http://www.apache.org/licenses/LICENSE-2.0\n",
              "//\n",
              "// Unless required by applicable law or agreed to in writing, software\n",
              "// distributed under the License is distributed on an \"AS IS\" BASIS,\n",
              "// WITHOUT WARRANTIES OR CONDITIONS OF ANY KIND, either express or implied.\n",
              "// See the License for the specific language governing permissions and\n",
              "// limitations under the License.\n",
              "\n",
              "/**\n",
              " * @fileoverview Helpers for google.colab Python module.\n",
              " */\n",
              "(function(scope) {\n",
              "function span(text, styleAttributes = {}) {\n",
              "  const element = document.createElement('span');\n",
              "  element.textContent = text;\n",
              "  for (const key of Object.keys(styleAttributes)) {\n",
              "    element.style[key] = styleAttributes[key];\n",
              "  }\n",
              "  return element;\n",
              "}\n",
              "\n",
              "// Max number of bytes which will be uploaded at a time.\n",
              "const MAX_PAYLOAD_SIZE = 100 * 1024;\n",
              "\n",
              "function _uploadFiles(inputId, outputId) {\n",
              "  const steps = uploadFilesStep(inputId, outputId);\n",
              "  const outputElement = document.getElementById(outputId);\n",
              "  // Cache steps on the outputElement to make it available for the next call\n",
              "  // to uploadFilesContinue from Python.\n",
              "  outputElement.steps = steps;\n",
              "\n",
              "  return _uploadFilesContinue(outputId);\n",
              "}\n",
              "\n",
              "// This is roughly an async generator (not supported in the browser yet),\n",
              "// where there are multiple asynchronous steps and the Python side is going\n",
              "// to poll for completion of each step.\n",
              "// This uses a Promise to block the python side on completion of each step,\n",
              "// then passes the result of the previous step as the input to the next step.\n",
              "function _uploadFilesContinue(outputId) {\n",
              "  const outputElement = document.getElementById(outputId);\n",
              "  const steps = outputElement.steps;\n",
              "\n",
              "  const next = steps.next(outputElement.lastPromiseValue);\n",
              "  return Promise.resolve(next.value.promise).then((value) => {\n",
              "    // Cache the last promise value to make it available to the next\n",
              "    // step of the generator.\n",
              "    outputElement.lastPromiseValue = value;\n",
              "    return next.value.response;\n",
              "  });\n",
              "}\n",
              "\n",
              "/**\n",
              " * Generator function which is called between each async step of the upload\n",
              " * process.\n",
              " * @param {string} inputId Element ID of the input file picker element.\n",
              " * @param {string} outputId Element ID of the output display.\n",
              " * @return {!Iterable<!Object>} Iterable of next steps.\n",
              " */\n",
              "function* uploadFilesStep(inputId, outputId) {\n",
              "  const inputElement = document.getElementById(inputId);\n",
              "  inputElement.disabled = false;\n",
              "\n",
              "  const outputElement = document.getElementById(outputId);\n",
              "  outputElement.innerHTML = '';\n",
              "\n",
              "  const pickedPromise = new Promise((resolve) => {\n",
              "    inputElement.addEventListener('change', (e) => {\n",
              "      resolve(e.target.files);\n",
              "    });\n",
              "  });\n",
              "\n",
              "  const cancel = document.createElement('button');\n",
              "  inputElement.parentElement.appendChild(cancel);\n",
              "  cancel.textContent = 'Cancel upload';\n",
              "  const cancelPromise = new Promise((resolve) => {\n",
              "    cancel.onclick = () => {\n",
              "      resolve(null);\n",
              "    };\n",
              "  });\n",
              "\n",
              "  // Wait for the user to pick the files.\n",
              "  const files = yield {\n",
              "    promise: Promise.race([pickedPromise, cancelPromise]),\n",
              "    response: {\n",
              "      action: 'starting',\n",
              "    }\n",
              "  };\n",
              "\n",
              "  cancel.remove();\n",
              "\n",
              "  // Disable the input element since further picks are not allowed.\n",
              "  inputElement.disabled = true;\n",
              "\n",
              "  if (!files) {\n",
              "    return {\n",
              "      response: {\n",
              "        action: 'complete',\n",
              "      }\n",
              "    };\n",
              "  }\n",
              "\n",
              "  for (const file of files) {\n",
              "    const li = document.createElement('li');\n",
              "    li.append(span(file.name, {fontWeight: 'bold'}));\n",
              "    li.append(span(\n",
              "        `(${file.type || 'n/a'}) - ${file.size} bytes, ` +\n",
              "        `last modified: ${\n",
              "            file.lastModifiedDate ? file.lastModifiedDate.toLocaleDateString() :\n",
              "                                    'n/a'} - `));\n",
              "    const percent = span('0% done');\n",
              "    li.appendChild(percent);\n",
              "\n",
              "    outputElement.appendChild(li);\n",
              "\n",
              "    const fileDataPromise = new Promise((resolve) => {\n",
              "      const reader = new FileReader();\n",
              "      reader.onload = (e) => {\n",
              "        resolve(e.target.result);\n",
              "      };\n",
              "      reader.readAsArrayBuffer(file);\n",
              "    });\n",
              "    // Wait for the data to be ready.\n",
              "    let fileData = yield {\n",
              "      promise: fileDataPromise,\n",
              "      response: {\n",
              "        action: 'continue',\n",
              "      }\n",
              "    };\n",
              "\n",
              "    // Use a chunked sending to avoid message size limits. See b/62115660.\n",
              "    let position = 0;\n",
              "    do {\n",
              "      const length = Math.min(fileData.byteLength - position, MAX_PAYLOAD_SIZE);\n",
              "      const chunk = new Uint8Array(fileData, position, length);\n",
              "      position += length;\n",
              "\n",
              "      const base64 = btoa(String.fromCharCode.apply(null, chunk));\n",
              "      yield {\n",
              "        response: {\n",
              "          action: 'append',\n",
              "          file: file.name,\n",
              "          data: base64,\n",
              "        },\n",
              "      };\n",
              "\n",
              "      let percentDone = fileData.byteLength === 0 ?\n",
              "          100 :\n",
              "          Math.round((position / fileData.byteLength) * 100);\n",
              "      percent.textContent = `${percentDone}% done`;\n",
              "\n",
              "    } while (position < fileData.byteLength);\n",
              "  }\n",
              "\n",
              "  // All done.\n",
              "  yield {\n",
              "    response: {\n",
              "      action: 'complete',\n",
              "    }\n",
              "  };\n",
              "}\n",
              "\n",
              "scope.google = scope.google || {};\n",
              "scope.google.colab = scope.google.colab || {};\n",
              "scope.google.colab._files = {\n",
              "  _uploadFiles,\n",
              "  _uploadFilesContinue,\n",
              "};\n",
              "})(self);\n",
              "</script> "
            ]
          },
          "metadata": {}
        },
        {
          "output_type": "stream",
          "name": "stdout",
          "text": [
            "Saving sales_data_large.csv to sales_data_large.csv\n"
          ]
        }
      ]
    },
    {
      "cell_type": "code",
      "source": [
        "df = spark.read.csv(\"sales_data_large.csv\", header=True, inferSchema=True)"
      ],
      "metadata": {
        "id": "NDXdFaKJFCjM"
      },
      "execution_count": 7,
      "outputs": []
    },
    {
      "cell_type": "markdown",
      "source": [
        "\n",
        "#  Calculate revenue"
      ],
      "metadata": {
        "id": "FtjPP0IWFKEk"
      }
    },
    {
      "cell_type": "code",
      "source": [
        "df = df.withColumn(\"revenue\", col(\"quantity\") * col(\"price\"))\n",
        "df.show()"
      ],
      "metadata": {
        "colab": {
          "base_uri": "https://localhost:8080/"
        },
        "id": "T8aBN5IRFMW2",
        "outputId": "a9c08af8-9049-41c4-a966-529a8894ec37"
      },
      "execution_count": 12,
      "outputs": [
        {
          "output_type": "stream",
          "name": "stdout",
          "text": [
            "+-------+--------+----------+--------+-----+-----+-------+----------+-------+\n",
            "|sale_id|store_id|product_id|quantity|price| cost|returns| sale_date|revenue|\n",
            "+-------+--------+----------+--------+-----+-----+-------+----------+-------+\n",
            "|      1|       5|         2|       3| 5000|50000|      3|2024-01-01|  15000|\n",
            "|      2|       5|         5|       4|60000|70000|      1|2024-01-02| 240000|\n",
            "|      3|       1|         5|       4|60000| 2000|      2|2024-01-03| 240000|\n",
            "|      4|       2|         4|       5| 5000|70000|      0|2024-01-04|  25000|\n",
            "|      5|       1|         3|       3| 5000| 4000|      3|2024-01-05|  15000|\n",
            "|      6|       3|         1|       5|60000| 2000|      3|2024-01-06| 300000|\n",
            "|      7|       2|         6|       3|60000|50000|      0|2024-01-07| 180000|\n",
            "|      8|       5|         7|       1| 5000|10000|      4|2024-01-08|   5000|\n",
            "|      9|       5|         7|       4| 5000| 2000|      3|2024-01-09|  20000|\n",
            "|     10|       1|         2|       1| 5000| 2000|      4|2024-01-10|   5000|\n",
            "|     11|       5|         2|       3| 3000|70000|      0|2024-01-11|   9000|\n",
            "|     12|       2|         2|       4|80000|30000|      4|2024-01-12| 320000|\n",
            "|     13|       4|         1|       4|15000|10000|      0|2024-01-13|  60000|\n",
            "|     14|       2|         7|       2| 5000|70000|      1|2024-01-14|  10000|\n",
            "|     15|       4|         1|       2|15000| 2000|      2|2024-01-15|  30000|\n",
            "|     16|       3|         6|       1|15000| 4000|      3|2024-01-16|  15000|\n",
            "|     17|       2|         1|       5|80000| 4000|      0|2024-01-17| 400000|\n",
            "|     18|       1|         2|       4|80000|70000|      0|2024-01-18| 320000|\n",
            "|     19|       1|         3|       3|80000|10000|      3|2024-01-19| 240000|\n",
            "|     20|       1|         1|       4|40000|50000|      3|2024-01-20| 160000|\n",
            "+-------+--------+----------+--------+-----+-----+-------+----------+-------+\n",
            "only showing top 20 rows\n",
            "\n"
          ]
        }
      ]
    },
    {
      "cell_type": "markdown",
      "source": [
        "\n",
        "#  Filter underperforming products:\n",
        "# Criteria: revenue < 20000 OR returns > 3"
      ],
      "metadata": {
        "id": "cyf5CDyjFR6T"
      }
    },
    {
      "cell_type": "code",
      "source": [
        "underperforming = df.filter((col(\"revenue\") < 20000) | (col(\"returns\") > 3))\n",
        "df.show()"
      ],
      "metadata": {
        "colab": {
          "base_uri": "https://localhost:8080/"
        },
        "id": "Xi7NaMyrFUNb",
        "outputId": "56052152-a864-487b-8b51-7a804a7c83d9"
      },
      "execution_count": 13,
      "outputs": [
        {
          "output_type": "stream",
          "name": "stdout",
          "text": [
            "+-------+--------+----------+--------+-----+-----+-------+----------+-------+\n",
            "|sale_id|store_id|product_id|quantity|price| cost|returns| sale_date|revenue|\n",
            "+-------+--------+----------+--------+-----+-----+-------+----------+-------+\n",
            "|      1|       5|         2|       3| 5000|50000|      3|2024-01-01|  15000|\n",
            "|      2|       5|         5|       4|60000|70000|      1|2024-01-02| 240000|\n",
            "|      3|       1|         5|       4|60000| 2000|      2|2024-01-03| 240000|\n",
            "|      4|       2|         4|       5| 5000|70000|      0|2024-01-04|  25000|\n",
            "|      5|       1|         3|       3| 5000| 4000|      3|2024-01-05|  15000|\n",
            "|      6|       3|         1|       5|60000| 2000|      3|2024-01-06| 300000|\n",
            "|      7|       2|         6|       3|60000|50000|      0|2024-01-07| 180000|\n",
            "|      8|       5|         7|       1| 5000|10000|      4|2024-01-08|   5000|\n",
            "|      9|       5|         7|       4| 5000| 2000|      3|2024-01-09|  20000|\n",
            "|     10|       1|         2|       1| 5000| 2000|      4|2024-01-10|   5000|\n",
            "|     11|       5|         2|       3| 3000|70000|      0|2024-01-11|   9000|\n",
            "|     12|       2|         2|       4|80000|30000|      4|2024-01-12| 320000|\n",
            "|     13|       4|         1|       4|15000|10000|      0|2024-01-13|  60000|\n",
            "|     14|       2|         7|       2| 5000|70000|      1|2024-01-14|  10000|\n",
            "|     15|       4|         1|       2|15000| 2000|      2|2024-01-15|  30000|\n",
            "|     16|       3|         6|       1|15000| 4000|      3|2024-01-16|  15000|\n",
            "|     17|       2|         1|       5|80000| 4000|      0|2024-01-17| 400000|\n",
            "|     18|       1|         2|       4|80000|70000|      0|2024-01-18| 320000|\n",
            "|     19|       1|         3|       3|80000|10000|      3|2024-01-19| 240000|\n",
            "|     20|       1|         1|       4|40000|50000|      3|2024-01-20| 160000|\n",
            "+-------+--------+----------+--------+-----+-----+-------+----------+-------+\n",
            "only showing top 20 rows\n",
            "\n"
          ]
        }
      ]
    },
    {
      "cell_type": "markdown",
      "source": [
        "#  Group by store and calculate average monthly revenue"
      ],
      "metadata": {
        "id": "0_vJXtQiFmKr"
      }
    },
    {
      "cell_type": "code",
      "source": [
        "df_with_date = df.withColumn(\"month\", month(col(\"sale_date\"))).withColumn(\"year\", year(col(\"sale_date\")))\n",
        "monthly_revenue = (\n",
        "    df_with_date\n",
        "    .groupBy(\"store_id\", \"year\", \"month\")\n",
        "    .agg(avg(\"revenue\").alias(\"avg_monthly_revenue\"))\n",
        "    .orderBy(\"store_id\", \"year\", \"month\")\n",
        ")\n",
        "df.show()"
      ],
      "metadata": {
        "colab": {
          "base_uri": "https://localhost:8080/"
        },
        "id": "zxktLLFyFoIo",
        "outputId": "8313bb57-1c0a-4d8e-ab53-dc80a451ed27"
      },
      "execution_count": 14,
      "outputs": [
        {
          "output_type": "stream",
          "name": "stdout",
          "text": [
            "+-------+--------+----------+--------+-----+-----+-------+----------+-------+\n",
            "|sale_id|store_id|product_id|quantity|price| cost|returns| sale_date|revenue|\n",
            "+-------+--------+----------+--------+-----+-----+-------+----------+-------+\n",
            "|      1|       5|         2|       3| 5000|50000|      3|2024-01-01|  15000|\n",
            "|      2|       5|         5|       4|60000|70000|      1|2024-01-02| 240000|\n",
            "|      3|       1|         5|       4|60000| 2000|      2|2024-01-03| 240000|\n",
            "|      4|       2|         4|       5| 5000|70000|      0|2024-01-04|  25000|\n",
            "|      5|       1|         3|       3| 5000| 4000|      3|2024-01-05|  15000|\n",
            "|      6|       3|         1|       5|60000| 2000|      3|2024-01-06| 300000|\n",
            "|      7|       2|         6|       3|60000|50000|      0|2024-01-07| 180000|\n",
            "|      8|       5|         7|       1| 5000|10000|      4|2024-01-08|   5000|\n",
            "|      9|       5|         7|       4| 5000| 2000|      3|2024-01-09|  20000|\n",
            "|     10|       1|         2|       1| 5000| 2000|      4|2024-01-10|   5000|\n",
            "|     11|       5|         2|       3| 3000|70000|      0|2024-01-11|   9000|\n",
            "|     12|       2|         2|       4|80000|30000|      4|2024-01-12| 320000|\n",
            "|     13|       4|         1|       4|15000|10000|      0|2024-01-13|  60000|\n",
            "|     14|       2|         7|       2| 5000|70000|      1|2024-01-14|  10000|\n",
            "|     15|       4|         1|       2|15000| 2000|      2|2024-01-15|  30000|\n",
            "|     16|       3|         6|       1|15000| 4000|      3|2024-01-16|  15000|\n",
            "|     17|       2|         1|       5|80000| 4000|      0|2024-01-17| 400000|\n",
            "|     18|       1|         2|       4|80000|70000|      0|2024-01-18| 320000|\n",
            "|     19|       1|         3|       3|80000|10000|      3|2024-01-19| 240000|\n",
            "|     20|       1|         1|       4|40000|50000|      3|2024-01-20| 160000|\n",
            "+-------+--------+----------+--------+-----+-----+-------+----------+-------+\n",
            "only showing top 20 rows\n",
            "\n"
          ]
        }
      ]
    },
    {
      "cell_type": "markdown",
      "source": [
        "#  Save outputs"
      ],
      "metadata": {
        "id": "ndlXFbT1GG04"
      }
    },
    {
      "cell_type": "code",
      "source": [
        "underperforming.write.csv(\"underperforming_products_output\", header=True, mode=\"overwrite\")\n",
        "monthly_revenue.write.csv(\"monthly_revenue_summary_output\", header=True, mode=\"overwrite\")"
      ],
      "metadata": {
        "id": "NI8oVSz5GI2V"
      },
      "execution_count": 11,
      "outputs": []
    },
    {
      "cell_type": "code",
      "source": [
        "spark.stop()"
      ],
      "metadata": {
        "id": "aupd4IwrGoVj"
      },
      "execution_count": 15,
      "outputs": []
    }
  ]
}