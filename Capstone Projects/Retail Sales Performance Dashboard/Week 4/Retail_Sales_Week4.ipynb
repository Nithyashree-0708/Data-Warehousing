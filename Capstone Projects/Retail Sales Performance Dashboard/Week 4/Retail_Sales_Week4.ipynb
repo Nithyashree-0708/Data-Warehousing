{
 "cells": [
  {
   "cell_type": "code",
   "execution_count": 0,
   "metadata": {
    "application/vnd.databricks.v1+cell": {
     "cellMetadata": {
      "byteLimit": 2048000,
      "rowLimit": 10000
     },
     "inputWidgets": {},
     "nuid": "be95d05c-38ae-4ea2-b5e5-27f4c6b71819",
     "showTitle": false,
     "tableResultSettingsMap": {},
     "title": ""
    }
   },
   "outputs": [],
   "source": [
    "#  Import Libraries\n",
    "from pyspark.sql import SparkSession\n",
    "from pyspark.sql.functions import col, sum as _sum, round"
   ]
  },
  {
   "cell_type": "code",
   "execution_count": 0,
   "metadata": {
    "application/vnd.databricks.v1+cell": {
     "cellMetadata": {
      "byteLimit": 2048000,
      "rowLimit": 10000
     },
     "inputWidgets": {},
     "nuid": "e64adcb9-0e19-4f29-adff-08d1b2d0ab8d",
     "showTitle": false,
     "tableResultSettingsMap": {},
     "title": ""
    }
   },
   "outputs": [],
   "source": [
    "# Create Spark Session\n",
    "spark = SparkSession.builder.appName(\"RetailSalesETL_Week4\").getOrCreate()"
   ]
  },
  {
   "cell_type": "code",
   "execution_count": 0,
   "metadata": {
    "application/vnd.databricks.v1+cell": {
     "cellMetadata": {
      "byteLimit": 2048000,
      "rowLimit": 10000
     },
     "inputWidgets": {},
     "nuid": "c1a26fed-b7bb-4e17-b045-b93329feff99",
     "showTitle": false,
     "tableResultSettingsMap": {},
     "title": ""
    }
   },
   "outputs": [],
   "source": [
    "# Load cleaned sales data\n",
    "sales_path = \"/Volumes/workspace/default/nithyashree/cleaned_sales_dataa.csv\"\n",
    "sales_df = spark.read.csv(sales_path, header=True, inferSchema=True)"
   ]
  },
  {
   "cell_type": "code",
   "execution_count": 0,
   "metadata": {
    "application/vnd.databricks.v1+cell": {
     "cellMetadata": {
      "byteLimit": 2048000,
      "rowLimit": 10000
     },
     "inputWidgets": {},
     "nuid": "07b3c03f-3e28-4c67-af35-308a9237b3b1",
     "showTitle": false,
     "tableResultSettingsMap": {},
     "title": ""
    }
   },
   "outputs": [],
   "source": [
    "# Load products data\n",
    "products_path = \"/Volumes/workspace/default/nithyashree/products.csv\"\n",
    "products_df = spark.read.csv(products_path, header=True, inferSchema=True)"
   ]
  },
  {
   "cell_type": "code",
   "execution_count": 0,
   "metadata": {
    "application/vnd.databricks.v1+cell": {
     "cellMetadata": {
      "byteLimit": 2048000,
      "rowLimit": 10000
     },
     "inputWidgets": {},
     "nuid": "877a7d2e-1b20-4761-9dd9-0e9dc7e5923e",
     "showTitle": false,
     "tableResultSettingsMap": {},
     "title": ""
    }
   },
   "outputs": [
    {
     "output_type": "stream",
     "name": "stdout",
     "output_type": "stream",
     "text": [
      "+----------+-------+--------+--------+-----+-----+-------+-------+-------------------+----------+---------------+---------------+-----+\n|product_id|sale_id|store_id|quantity|price| cost|revenue| profit|   discount_percent| sale_date|           name|       category|price|\n+----------+-------+--------+--------+-----+-----+-------+-------+-------------------+----------+---------------+---------------+-----+\n|         2|      1|       5|       3| 3000|10000|   9000| -21000|-233.33333333333334|2024-01-01|     Smartphone|    Electronics|50000|\n|         3|      2|       1|       4|60000| 4000| 240000| 224000|  93.33333333333333|2024-01-02|     Headphones|    Accessories| 3000|\n|         5|      3|       1|       2|30000|70000|  60000| -80000|-133.33333333333331|2024-01-03|Air Conditioner|Home Appliances|40000|\n|         3|      4|       4|       5|30000|70000| 150000|-200000|-133.33333333333331|2024-01-04|     Headphones|    Accessories| 3000|\n|         5|      5|       2|       5|10000|30000|  50000|-100000|             -200.0|2024-01-05|Air Conditioner|Home Appliances|40000|\n|         3|      6|       1|       5|40000| 4000| 200000| 180000|               90.0|2024-01-06|     Headphones|    Accessories| 3000|\n|         2|      7|       3|       3|80000|50000| 240000|  90000|               37.5|2024-01-07|     Smartphone|    Electronics|50000|\n|         2|      8|       5|       4| 3000| 2000|  12000|   4000|  33.33333333333333|2024-01-08|     Smartphone|    Electronics|50000|\n|         1|      9|       5|       3|10000|10000|  30000|      0|                0.0|2024-01-09|         Laptop|    Electronics|80000|\n|         4|     10|       2|       3|80000| 2000| 240000| 234000|               97.5|2024-01-10|         LED TV|    Electronics|60000|\n|         2|     11|       2|       3|10000| 2000|  30000|  24000|               80.0|2024-01-11|     Smartphone|    Electronics|50000|\n|         4|     12|       5|       5|80000| 4000| 400000| 380000|               95.0|2024-01-12|         LED TV|    Electronics|60000|\n|         3|     13|       1|       3| 3000|30000|   9000| -81000|             -900.0|2024-01-13|     Headphones|    Accessories| 3000|\n|         2|     14|       4|       1|60000|70000|  60000| -10000|-16.666666666666664|2024-01-14|     Smartphone|    Electronics|50000|\n|         5|     15|       1|       5| 3000|10000|  15000| -35000|-233.33333333333334|2024-01-15|Air Conditioner|Home Appliances|40000|\n|         6|     16|       5|       3|80000|10000| 240000| 210000|               87.5|2024-01-16|         Tablet|    Electronics|30000|\n|         7|     17|       2|       4|10000|10000|  40000|      0|                0.0|2024-01-17|     Smartwatch|    Accessories|10000|\n|         7|     18|       4|       2|10000|50000|  20000| -80000|             -400.0|2024-01-18|     Smartwatch|    Accessories|10000|\n|         7|     19|       5|       1|40000| 2000|  40000|  38000|               95.0|2024-01-19|     Smartwatch|    Accessories|10000|\n|         4|     20|       1|       4|40000|30000| 160000|  40000|               25.0|2024-01-20|         LED TV|    Electronics|60000|\n+----------+-------+--------+--------+-----+-----+-------+-------+-------------------+----------+---------------+---------------+-----+\nonly showing top 20 rows\n"
     ]
    }
   ],
   "source": [
    "# Join sales and products data\n",
    "joined_df = sales_df.join(products_df, on=\"product_id\", how=\"inner\")\n",
    "joined_df.show()"
   ]
  },
  {
   "cell_type": "code",
   "execution_count": 0,
   "metadata": {
    "application/vnd.databricks.v1+cell": {
     "cellMetadata": {
      "byteLimit": 2048000,
      "rowLimit": 10000
     },
     "inputWidgets": {},
     "nuid": "c46cdf05-07a0-4b13-97b1-04fb6ae60ac0",
     "showTitle": false,
     "tableResultSettingsMap": {},
     "title": ""
    }
   },
   "outputs": [
    {
     "output_type": "stream",
     "name": "stdout",
     "output_type": "stream",
     "text": [
      "+----------+-------+--------+--------+-----+-----+-------+-------+-------------------+----------+---------------+---------------+-----+-------------+\n|product_id|sale_id|store_id|quantity|price| cost|revenue| profit|   discount_percent| sale_date|           name|       category|price|profit_margin|\n+----------+-------+--------+--------+-----+-----+-------+-------+-------------------+----------+---------------+---------------+-----+-------------+\n|         2|      1|       5|       3| 3000|10000|   9000| -21000|-233.33333333333334|2024-01-01|     Smartphone|    Electronics|50000|      -233.33|\n|         3|      2|       1|       4|60000| 4000| 240000| 224000|  93.33333333333333|2024-01-02|     Headphones|    Accessories| 3000|        93.33|\n|         5|      3|       1|       2|30000|70000|  60000| -80000|-133.33333333333331|2024-01-03|Air Conditioner|Home Appliances|40000|      -133.33|\n|         3|      4|       4|       5|30000|70000| 150000|-200000|-133.33333333333331|2024-01-04|     Headphones|    Accessories| 3000|      -133.33|\n|         5|      5|       2|       5|10000|30000|  50000|-100000|             -200.0|2024-01-05|Air Conditioner|Home Appliances|40000|       -200.0|\n|         3|      6|       1|       5|40000| 4000| 200000| 180000|               90.0|2024-01-06|     Headphones|    Accessories| 3000|         90.0|\n|         2|      7|       3|       3|80000|50000| 240000|  90000|               37.5|2024-01-07|     Smartphone|    Electronics|50000|         37.5|\n|         2|      8|       5|       4| 3000| 2000|  12000|   4000|  33.33333333333333|2024-01-08|     Smartphone|    Electronics|50000|        33.33|\n|         1|      9|       5|       3|10000|10000|  30000|      0|                0.0|2024-01-09|         Laptop|    Electronics|80000|          0.0|\n|         4|     10|       2|       3|80000| 2000| 240000| 234000|               97.5|2024-01-10|         LED TV|    Electronics|60000|         97.5|\n|         2|     11|       2|       3|10000| 2000|  30000|  24000|               80.0|2024-01-11|     Smartphone|    Electronics|50000|         80.0|\n|         4|     12|       5|       5|80000| 4000| 400000| 380000|               95.0|2024-01-12|         LED TV|    Electronics|60000|         95.0|\n|         3|     13|       1|       3| 3000|30000|   9000| -81000|             -900.0|2024-01-13|     Headphones|    Accessories| 3000|       -900.0|\n|         2|     14|       4|       1|60000|70000|  60000| -10000|-16.666666666666664|2024-01-14|     Smartphone|    Electronics|50000|       -16.67|\n|         5|     15|       1|       5| 3000|10000|  15000| -35000|-233.33333333333334|2024-01-15|Air Conditioner|Home Appliances|40000|      -233.33|\n|         6|     16|       5|       3|80000|10000| 240000| 210000|               87.5|2024-01-16|         Tablet|    Electronics|30000|         87.5|\n|         7|     17|       2|       4|10000|10000|  40000|      0|                0.0|2024-01-17|     Smartwatch|    Accessories|10000|          0.0|\n|         7|     18|       4|       2|10000|50000|  20000| -80000|             -400.0|2024-01-18|     Smartwatch|    Accessories|10000|       -400.0|\n|         7|     19|       5|       1|40000| 2000|  40000|  38000|               95.0|2024-01-19|     Smartwatch|    Accessories|10000|         95.0|\n|         4|     20|       1|       4|40000|30000| 160000|  40000|               25.0|2024-01-20|         LED TV|    Electronics|60000|         25.0|\n+----------+-------+--------+--------+-----+-----+-------+-------+-------------------+----------+---------------+---------------+-----+-------------+\nonly showing top 20 rows\n"
     ]
    }
   ],
   "source": [
    "# Calculate additional metrics\n",
    "joined_df = joined_df.withColumn(\"profit_margin\", round((col(\"profit\") / col(\"revenue\")) * 100, 2))\n",
    "joined_df.show()"
   ]
  },
  {
   "cell_type": "code",
   "execution_count": 0,
   "metadata": {
    "application/vnd.databricks.v1+cell": {
     "cellMetadata": {
      "byteLimit": 2048000,
      "rowLimit": 10000
     },
     "inputWidgets": {},
     "nuid": "a8e93db6-5446-4dd9-84cd-d28bc1c4da1e",
     "showTitle": false,
     "tableResultSettingsMap": {},
     "title": ""
    }
   },
   "outputs": [
    {
     "output_type": "stream",
     "name": "stdout",
     "output_type": "stream",
     "text": [
      "+---------------+-------------+------------+---------------------+\n|       category|total_revenue|total_profit|profit_margin_percent|\n+---------------+-------------+------------+---------------------+\n|    Accessories|     15459000|     3373000|                21.82|\n|Home Appliances|      9905000|     3489000|                35.22|\n|    Electronics|     33116000|     9152000|                27.64|\n+---------------+-------------+------------+---------------------+\n\n"
     ]
    }
   ],
   "source": [
    "# Aggregate: Profit Margin by Category\n",
    "category_summary = joined_df.groupBy(\"category\").agg(\n",
    "    _sum(\"revenue\").alias(\"total_revenue\"),\n",
    "    _sum(\"profit\").alias(\"total_profit\"),\n",
    "    round((_sum(\"profit\") / _sum(\"revenue\")) * 100, 2).alias(\"profit_margin_percent\")\n",
    ")\n",
    "category_summary.show()"
   ]
  },
  {
   "cell_type": "code",
   "execution_count": 0,
   "metadata": {
    "application/vnd.databricks.v1+cell": {
     "cellMetadata": {
      "byteLimit": 2048000,
      "rowLimit": 10000
     },
     "inputWidgets": {},
     "nuid": "bfec0f38-76b6-4249-92ba-df0c6cb80469",
     "showTitle": false,
     "tableResultSettingsMap": {},
     "title": ""
    }
   },
   "outputs": [],
   "source": [
    "# Save as Delta Table\n",
    "output_delta_path = \"/Volumes/workspace/default/nithyashree/category_summary_delta\"\n",
    "category_summary.write.format(\"delta\").mode(\"overwrite\").save(output_delta_path)"
   ]
  },
  {
   "cell_type": "code",
   "execution_count": 0,
   "metadata": {
    "application/vnd.databricks.v1+cell": {
     "cellMetadata": {
      "byteLimit": 2048000,
      "rowLimit": 10000
     },
     "inputWidgets": {},
     "nuid": "0f20f9d0-7da9-4b6c-b7c5-b93fdb3e9ab5",
     "showTitle": false,
     "tableResultSettingsMap": {},
     "title": ""
    }
   },
   "outputs": [],
   "source": [
    "# Save as CSV for Dashboard\n",
    "output_csv_path = \"/Volumes/workspace/default/nithyashree/category_summary_csv\"\n",
    "category_summary.write.mode(\"overwrite\").option(\"header\", True).csv(output_csv_path)"
   ]
  }
 ],
 "metadata": {
  "application/vnd.databricks.v1+notebook": {
   "computePreferences": null,
   "dashboards": [],
   "environmentMetadata": {
    "base_environment": "",
    "environment_version": "2"
   },
   "inputWidgetPreferences": null,
   "language": "python",
   "notebookMetadata": {
    "mostRecentlyExecutedCommandWithImplicitDF": {
     "commandId": 4768899440145535,
     "dataframes": [
      "_sqldf"
     ]
    },
    "pythonIndentUnit": 4
   },
   "notebookName": "Retail_Sales_Week4",
   "widgets": {}
  },
  "language_info": {
   "name": "python"
  }
 },
 "nbformat": 4,
 "nbformat_minor": 0
}