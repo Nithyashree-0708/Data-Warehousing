{
  "cells": [
    {
      "cell_type": "code",
      "execution_count": null,
      "metadata": {
        "application/vnd.databricks.v1+cell": {
          "cellMetadata": {
            "byteLimit": 2048000,
            "rowLimit": 10000
          },
          "inputWidgets": {},
          "nuid": "20997b54-6b45-4b34-8862-7d5517f63126",
          "showTitle": false,
          "tableResultSettingsMap": {},
          "title": ""
        },
        "id": "20l0GwFptIfG"
      },
      "outputs": [],
      "source": [
        "from pyspark.sql import SparkSession"
      ]
    },
    {
      "cell_type": "code",
      "execution_count": null,
      "metadata": {
        "application/vnd.databricks.v1+cell": {
          "cellMetadata": {
            "byteLimit": 2048000,
            "rowLimit": 10000
          },
          "inputWidgets": {},
          "nuid": "51dcafe2-053b-49c0-96fe-2bc02bfbf24f",
          "showTitle": false,
          "tableResultSettingsMap": {},
          "title": ""
        },
        "id": "rya_DMYxtIfI"
      },
      "outputs": [],
      "source": [
        "spark = SparkSession.builder.appName(\"EmployeeData\").getOrCreate()\n"
      ]
    },
    {
      "cell_type": "code",
      "execution_count": null,
      "metadata": {
        "application/vnd.databricks.v1+cell": {
          "cellMetadata": {
            "byteLimit": 2048000,
            "rowLimit": 10000
          },
          "inputWidgets": {},
          "nuid": "78acc5ff-0e25-46a2-bbbe-d57f138c656a",
          "showTitle": false,
          "tableResultSettingsMap": {},
          "title": ""
        },
        "id": "OiBHGdgHtIfI",
        "outputId": "00baba12-cb58-4a28-d34c-2001a8098703"
      },
      "outputs": [
        {
          "name": "stdout",
          "output_type": "stream",
          "text": [
            "+------+-----------+------+\n",
            "|  Name| Department|Salary|\n",
            "+------+-----------+------+\n",
            "|Ananya|         HR| 52000|\n",
            "| Rahul|Engineering| 65000|\n",
            "| Priya|Engineering| 60000|\n",
            "|  Zoya|  Marketing| 48000|\n",
            "| Karan|         HR| 53000|\n",
            "|Naveen|Engineering| 70000|\n",
            "|Fatima|  Marketing| 45000|\n",
            "+------+-----------+------+\n",
            "\n"
          ]
        }
      ],
      "source": [
        "data = [\n",
        "    (\"Ananya\", \"HR\", 52000),\n",
        "    (\"Rahul\", \"Engineering\", 65000),\n",
        "    (\"Priya\", \"Engineering\", 60000),\n",
        "    (\"Zoya\", \"Marketing\", 48000),\n",
        "    (\"Karan\", \"HR\", 53000),\n",
        "    (\"Naveen\", \"Engineering\", 70000),\n",
        "    (\"Fatima\", \"Marketing\", 45000)\n",
        "]\n",
        "\n",
        "columns = [\"Name\", \"Department\", \"Salary\"]\n",
        "\n",
        "df = spark.createDataFrame(data, columns)\n",
        "df.show()"
      ]
    },
    {
      "cell_type": "markdown",
      "source": [
        "**EXERCISES SET - 1 BASICS**"
      ],
      "metadata": {
        "id": "dXhtHTj7t2Zc"
      }
    },
    {
      "cell_type": "code",
      "execution_count": null,
      "metadata": {
        "application/vnd.databricks.v1+cell": {
          "cellMetadata": {
            "byteLimit": 2048000,
            "rowLimit": 10000
          },
          "inputWidgets": {},
          "nuid": "a2d9ea52-c8d6-463b-af1a-b8e99e715366",
          "showTitle": true,
          "tableResultSettingsMap": {},
          "title": "Exercise Set 1: Basics python"
        },
        "id": "KOtCGByztIfJ",
        "outputId": "308e5d51-d06d-42a2-e454-1a1c5e2c4a8f"
      },
      "outputs": [
        {
          "name": "stdout",
          "output_type": "stream",
          "text": [
            "+------+-----------+------+\n",
            "|  Name| Department|Salary|\n",
            "+------+-----------+------+\n",
            "|Ananya|         HR| 52000|\n",
            "| Rahul|Engineering| 65000|\n",
            "| Priya|Engineering| 60000|\n",
            "|  Zoya|  Marketing| 48000|\n",
            "| Karan|         HR| 53000|\n",
            "|Naveen|Engineering| 70000|\n",
            "|Fatima|  Marketing| 45000|\n",
            "+------+-----------+------+\n",
            "\n",
            "root\n",
            " |-- Name: string (nullable = true)\n",
            " |-- Department: string (nullable = true)\n",
            " |-- Salary: long (nullable = true)\n",
            "\n"
          ]
        },
        {
          "data": {
            "text/plain": [
              "7"
            ]
          },
          "execution_count": 4,
          "metadata": {},
          "output_type": "execute_result"
        }
      ],
      "source": [
        "# 1 Output the complete list of employee entries\n",
        "df.show()\n",
        "\n",
        "# 2 Show the structure and types of each column\n",
        "df.printSchema()\n",
        "\n",
        "# 3 Total headcount of the dataset\n",
        "df.count()\n"
      ]
    },
    {
      "cell_type": "markdown",
      "source": [
        "**EXERCISES SET - 2 COLUMN OPERATIONS**"
      ],
      "metadata": {
        "id": "PD6GbXCEuHT-"
      }
    },
    {
      "cell_type": "code",
      "execution_count": null,
      "metadata": {
        "application/vnd.databricks.v1+cell": {
          "cellMetadata": {
            "byteLimit": 2048000,
            "rowLimit": 10000
          },
          "inputWidgets": {},
          "nuid": "98e2407b-2bfc-4eb0-bda4-d159fc396434",
          "showTitle": true,
          "tableResultSettingsMap": {},
          "title": "Set 2: Column Operations"
        },
        "id": "j2sMMVRwtIfJ",
        "outputId": "b2fff0da-39ef-487d-f413-2ebbd5fdd54f"
      },
      "outputs": [
        {
          "name": "stdout",
          "output_type": "stream",
          "text": [
            "+------+-----------+------+-------+\n",
            "|  Name| Department|Salary|  Bonus|\n",
            "+------+-----------+------+-------+\n",
            "|Ananya|         HR| 52000| 7800.0|\n",
            "| Rahul|Engineering| 65000| 9750.0|\n",
            "| Priya|Engineering| 60000| 9000.0|\n",
            "|  Zoya|  Marketing| 48000| 7200.0|\n",
            "| Karan|         HR| 53000| 7950.0|\n",
            "|Naveen|Engineering| 70000|10500.0|\n",
            "|Fatima|  Marketing| 45000| 6750.0|\n",
            "+------+-----------+------+-------+\n",
            "\n"
          ]
        }
      ],
      "source": [
        "from pyspark.sql.functions import col\n",
        "\n",
        "# 4 Append a column to compute 15% bonus\n",
        "df_with_bonus = df.withColumn(\"Bonus\", col(\"Salary\") * 0.15)\n",
        "df_with_bonus.show()\n",
        "\n"
      ]
    },
    {
      "cell_type": "code",
      "execution_count": null,
      "metadata": {
        "application/vnd.databricks.v1+cell": {
          "cellMetadata": {
            "byteLimit": 2048000,
            "rowLimit": 10000
          },
          "inputWidgets": {},
          "nuid": "e864cc52-9824-4222-ae30-01ecd2872e8a",
          "showTitle": false,
          "tableResultSettingsMap": {},
          "title": ""
        },
        "id": "VJt0IGkhtIfJ",
        "outputId": "45ce3751-6dfd-4824-c545-c1b4483fd2ff"
      },
      "outputs": [
        {
          "name": "stdout",
          "output_type": "stream",
          "text": [
            "+------+-----------+------+-------+-------+\n",
            "|  Name| Department|Salary|  Bonus| NetPay|\n",
            "+------+-----------+------+-------+-------+\n",
            "|Ananya|         HR| 52000| 7800.0|59800.0|\n",
            "| Rahul|Engineering| 65000| 9750.0|74750.0|\n",
            "| Priya|Engineering| 60000| 9000.0|69000.0|\n",
            "|  Zoya|  Marketing| 48000| 7200.0|55200.0|\n",
            "| Karan|         HR| 53000| 7950.0|60950.0|\n",
            "|Naveen|Engineering| 70000|10500.0|80500.0|\n",
            "|Fatima|  Marketing| 45000| 6750.0|51750.0|\n",
            "+------+-----------+------+-------+-------+\n",
            "\n"
          ]
        }
      ],
      "source": [
        "# 5 Derive total pay after bonus\n",
        "df_with_netpay = df_with_bonus.withColumn(\"NetPay\", col(\"Salary\") + col(\"Bonus\"))\n",
        "df_with_netpay.show()\n"
      ]
    },
    {
      "cell_type": "markdown",
      "source": [
        "**Exercise Set 3: Filtering and Conditions**"
      ],
      "metadata": {
        "id": "GQTqfcPZunr1"
      }
    },
    {
      "cell_type": "code",
      "execution_count": null,
      "metadata": {
        "application/vnd.databricks.v1+cell": {
          "cellMetadata": {
            "byteLimit": 2048000,
            "rowLimit": 10000
          },
          "inputWidgets": {},
          "nuid": "b3d66b52-3a99-45f7-8a49-4dd3e575c813",
          "showTitle": true,
          "tableResultSettingsMap": {},
          "title": "Set 3: Filtering and Conditions"
        },
        "id": "eHuGB1v2tIfK",
        "outputId": "4cd09856-36f5-47e0-b540-be26fd2e0637"
      },
      "outputs": [
        {
          "name": "stdout",
          "output_type": "stream",
          "text": [
            "+------+-----------+------+\n",
            "|  Name| Department|Salary|\n",
            "+------+-----------+------+\n",
            "| Rahul|Engineering| 65000|\n",
            "| Priya|Engineering| 60000|\n",
            "|Naveen|Engineering| 70000|\n",
            "+------+-----------+------+\n",
            "\n",
            "+------+-----------+------+\n",
            "|  Name| Department|Salary|\n",
            "+------+-----------+------+\n",
            "| Rahul|Engineering| 65000|\n",
            "|Naveen|Engineering| 70000|\n",
            "+------+-----------+------+\n",
            "\n",
            "+------+-----------+------+\n",
            "|  Name| Department|Salary|\n",
            "+------+-----------+------+\n",
            "|Ananya|         HR| 52000|\n",
            "| Rahul|Engineering| 65000|\n",
            "| Priya|Engineering| 60000|\n",
            "| Karan|         HR| 53000|\n",
            "|Naveen|Engineering| 70000|\n",
            "+------+-----------+------+\n",
            "\n"
          ]
        }
      ],
      "source": [
        "# 6 Employees in Engineering team\n",
        "df.filter(col(\"Department\") == \"Engineering\").show()\n",
        "\n",
        "\n"
      ]
    },
    {
      "cell_type": "code",
      "execution_count": null,
      "metadata": {
        "application/vnd.databricks.v1+cell": {
          "cellMetadata": {
            "byteLimit": 2048000,
            "rowLimit": 10000
          },
          "inputWidgets": {},
          "nuid": "9886428d-9e66-4699-9b90-bc0d7cb98c28",
          "showTitle": false,
          "tableResultSettingsMap": {},
          "title": ""
        },
        "id": "bsvMXV-KtIfK",
        "outputId": "268460b6-0380-4091-b3dc-3b1e3d0d1e91"
      },
      "outputs": [
        {
          "name": "stdout",
          "output_type": "stream",
          "text": [
            "+------+-----------+------+\n",
            "|  Name| Department|Salary|\n",
            "+------+-----------+------+\n",
            "| Rahul|Engineering| 65000|\n",
            "|Naveen|Engineering| 70000|\n",
            "+------+-----------+------+\n",
            "\n"
          ]
        }
      ],
      "source": [
        "# 7. Salary > 60000\n",
        "df.filter(col(\"Salary\") > 60000).show()\n",
        "\n"
      ]
    },
    {
      "cell_type": "code",
      "execution_count": null,
      "metadata": {
        "application/vnd.databricks.v1+cell": {
          "cellMetadata": {
            "byteLimit": 2048000,
            "rowLimit": 10000
          },
          "inputWidgets": {},
          "nuid": "2b7d4cee-5ce6-4555-9712-0f4713f0e98a",
          "showTitle": false,
          "tableResultSettingsMap": {},
          "title": ""
        },
        "id": "M2s1ar4ItIfK",
        "outputId": "bbb8a041-4fc4-40d2-9322-f3e450992133"
      },
      "outputs": [
        {
          "name": "stdout",
          "output_type": "stream",
          "text": [
            "+------+-----------+------+\n",
            "|  Name| Department|Salary|\n",
            "+------+-----------+------+\n",
            "|Ananya|         HR| 52000|\n",
            "| Rahul|Engineering| 65000|\n",
            "| Priya|Engineering| 60000|\n",
            "| Karan|         HR| 53000|\n",
            "|Naveen|Engineering| 70000|\n",
            "+------+-----------+------+\n",
            "\n"
          ]
        }
      ],
      "source": [
        "# 8. Not in Marketing\n",
        "df.filter(col(\"Department\") != \"Marketing\").show()"
      ]
    },
    {
      "cell_type": "markdown",
      "source": [
        "**Exercise Set 4: Sorting and Limiting**"
      ],
      "metadata": {
        "id": "07OokJ-8usrz"
      }
    },
    {
      "cell_type": "code",
      "execution_count": null,
      "metadata": {
        "application/vnd.databricks.v1+cell": {
          "cellMetadata": {
            "byteLimit": 2048000,
            "rowLimit": 10000
          },
          "inputWidgets": {},
          "nuid": "51e11464-dffb-453a-8c70-79b679d17c9c",
          "showTitle": true,
          "tableResultSettingsMap": {},
          "title": "Set 4: Sorting and Limiting"
        },
        "id": "KSIwbdzgtIfK",
        "outputId": "d223c102-76a4-45fa-9f50-2e758fac52ea"
      },
      "outputs": [
        {
          "name": "stdout",
          "output_type": "stream",
          "text": [
            "+------+-----------+------+\n",
            "|  Name| Department|Salary|\n",
            "+------+-----------+------+\n",
            "|Naveen|Engineering| 70000|\n",
            "| Rahul|Engineering| 65000|\n",
            "| Priya|Engineering| 60000|\n",
            "+------+-----------+------+\n",
            "\n",
            "+------+-----------+------+\n",
            "|  Name| Department|Salary|\n",
            "+------+-----------+------+\n",
            "|Naveen|Engineering| 70000|\n",
            "| Rahul|Engineering| 65000|\n",
            "| Priya|Engineering| 60000|\n",
            "| Karan|         HR| 53000|\n",
            "|Ananya|         HR| 52000|\n",
            "|  Zoya|  Marketing| 48000|\n",
            "|Fatima|  Marketing| 45000|\n",
            "+------+-----------+------+\n",
            "\n"
          ]
        }
      ],
      "source": [
        "# 9. Top 3 highest paid employees\n",
        "df.orderBy(col(\"Salary\").desc()).limit(3).show()\n",
        "\n",
        "\n"
      ]
    },
    {
      "cell_type": "code",
      "execution_count": null,
      "metadata": {
        "application/vnd.databricks.v1+cell": {
          "cellMetadata": {
            "byteLimit": 2048000,
            "rowLimit": 10000
          },
          "inputWidgets": {},
          "nuid": "8d7a2261-49d6-4009-bfee-cf81f3ff2ef9",
          "showTitle": false,
          "tableResultSettingsMap": {},
          "title": ""
        },
        "id": "bbz4_7RftIfL",
        "outputId": "1082cf60-d963-4853-b1e3-f63227069c00"
      },
      "outputs": [
        {
          "name": "stdout",
          "output_type": "stream",
          "text": [
            "+------+-----------+------+\n",
            "|  Name| Department|Salary|\n",
            "+------+-----------+------+\n",
            "|Naveen|Engineering| 70000|\n",
            "| Rahul|Engineering| 65000|\n",
            "| Priya|Engineering| 60000|\n",
            "| Karan|         HR| 53000|\n",
            "|Ananya|         HR| 52000|\n",
            "|  Zoya|  Marketing| 48000|\n",
            "|Fatima|  Marketing| 45000|\n",
            "+------+-----------+------+\n",
            "\n"
          ]
        }
      ],
      "source": [
        "# 10. Sort by Department (ASC) and Salary (DESC)\n",
        "df.orderBy(col(\"Department\").asc(), col(\"Salary\").desc()).show()"
      ]
    },
    {
      "cell_type": "markdown",
      "source": [
        "**Exercise Set 5: String and Case Logic**"
      ],
      "metadata": {
        "id": "SM5htT9Nuw1H"
      }
    },
    {
      "cell_type": "code",
      "execution_count": null,
      "metadata": {
        "application/vnd.databricks.v1+cell": {
          "cellMetadata": {
            "byteLimit": 2048000,
            "rowLimit": 10000
          },
          "inputWidgets": {},
          "nuid": "a9bd0869-f4b0-4219-be01-4996d45e7158",
          "showTitle": true,
          "tableResultSettingsMap": {},
          "title": "Set 5: String and Case Logic"
        },
        "id": "PRY3j-BjtIfL",
        "outputId": "916b6e65-6354-4e04-92b1-7de63c0671c1"
      },
      "outputs": [
        {
          "name": "stdout",
          "output_type": "stream",
          "text": [
            "+------+-----------+------+------+\n",
            "|  Name| Department|Salary| Level|\n",
            "+------+-----------+------+------+\n",
            "|Ananya|         HR| 52000|   Mid|\n",
            "| Rahul|Engineering| 65000|Senior|\n",
            "| Priya|Engineering| 60000|   Mid|\n",
            "|  Zoya|  Marketing| 48000|Junior|\n",
            "| Karan|         HR| 53000|   Mid|\n",
            "|Naveen|Engineering| 70000|Senior|\n",
            "|Fatima|  Marketing| 45000|Junior|\n",
            "+------+-----------+------+------+\n",
            "\n",
            "+------+-----------+------+---------+\n",
            "|  Name| Department|Salary|NameUpper|\n",
            "+------+-----------+------+---------+\n",
            "|Ananya|         HR| 52000|   ANANYA|\n",
            "| Rahul|Engineering| 65000|    RAHUL|\n",
            "| Priya|Engineering| 60000|    PRIYA|\n",
            "|  Zoya|  Marketing| 48000|     ZOYA|\n",
            "| Karan|         HR| 53000|    KARAN|\n",
            "|Naveen|Engineering| 70000|   NAVEEN|\n",
            "|Fatima|  Marketing| 45000|   FATIMA|\n",
            "+------+-----------+------+---------+\n",
            "\n"
          ]
        }
      ],
      "source": [
        "from pyspark.sql.functions import when, upper\n",
        "\n",
        "# 11 Categorize employees by salary level\n",
        "df_level = df.withColumn(\n",
        "    \"Level\",\n",
        "    when(col(\"Salary\") > 60000, \"Senior\")\n",
        "    .when((col(\"Salary\") >= 50000) & (col(\"Salary\") <= 60000), \"Mid\")\n",
        "    .otherwise(\"Junior\")\n",
        ")\n",
        "df_level.show()\n",
        "\n",
        "\n"
      ]
    },
    {
      "cell_type": "code",
      "execution_count": null,
      "metadata": {
        "application/vnd.databricks.v1+cell": {
          "cellMetadata": {
            "byteLimit": 2048000,
            "rowLimit": 10000
          },
          "inputWidgets": {},
          "nuid": "f73aac1e-de1d-41fe-be6a-58e8c486a272",
          "showTitle": false,
          "tableResultSettingsMap": {},
          "title": ""
        },
        "id": "l1shF-ngtIfL",
        "outputId": "bf93e3b7-0da2-45f0-930b-2c9d8908a648"
      },
      "outputs": [
        {
          "name": "stdout",
          "output_type": "stream",
          "text": [
            "+------+-----------+------+---------+\n",
            "|  Name| Department|Salary|NameUpper|\n",
            "+------+-----------+------+---------+\n",
            "|Ananya|         HR| 52000|   ANANYA|\n",
            "| Rahul|Engineering| 65000|    RAHUL|\n",
            "| Priya|Engineering| 60000|    PRIYA|\n",
            "|  Zoya|  Marketing| 48000|     ZOYA|\n",
            "| Karan|         HR| 53000|    KARAN|\n",
            "|Naveen|Engineering| 70000|   NAVEEN|\n",
            "|Fatima|  Marketing| 45000|   FATIMA|\n",
            "+------+-----------+------+---------+\n",
            "\n"
          ]
        }
      ],
      "source": [
        "# 12 Standardize names to uppercase format\n",
        "df_upper = df.withColumn(\"NameUpper\", upper(col(\"Name\")))\n",
        "df_upper.show()"
      ]
    }
  ],
  "metadata": {
    "application/vnd.databricks.v1+notebook": {
      "computePreferences": null,
      "dashboards": [],
      "environmentMetadata": {
        "base_environment": "",
        "environment_version": "2"
      },
      "inputWidgetPreferences": null,
      "language": "python",
      "notebookMetadata": {
        "pythonIndentUnit": 4
      },
      "notebookName": "Employee_Analysis",
      "widgets": {}
    },
    "language_info": {
      "name": "python"
    },
    "colab": {
      "provenance": []
    }
  },
  "nbformat": 4,
  "nbformat_minor": 0
}