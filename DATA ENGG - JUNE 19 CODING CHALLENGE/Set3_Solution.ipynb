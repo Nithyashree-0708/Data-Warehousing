{
 "cells": [
  {
   "cell_type": "markdown",
   "metadata": {
    "application/vnd.databricks.v1+cell": {
     "cellMetadata": {},
     "inputWidgets": {},
     "nuid": "3287070b-638b-4661-ba8a-a16cb2cb83bc",
     "showTitle": false,
     "tableResultSettingsMap": {},
     "title": ""
    }
   },
   "source": [
    "Scenario 1: Inventory Alerting System"
   ]
  },
  {
   "cell_type": "code",
   "execution_count": 0,
   "metadata": {
    "application/vnd.databricks.v1+cell": {
     "cellMetadata": {
      "byteLimit": 2048000,
      "rowLimit": 10000
     },
     "inputWidgets": {},
     "nuid": "b4de6f1e-8488-4237-93d7-e04afdf6a6b0",
     "showTitle": false,
     "tableResultSettingsMap": {},
     "title": ""
    }
   },
   "outputs": [
    {
     "output_type": "stream",
     "name": "stdout",
     "output_type": "stream",
     "text": [
      "+------+------------+-----------+----------+--------+------------+-------------+---------+---------+\n|ItemID|    ItemName|   Category| Warehouse|StockQty|ReorderLevel|LastRestocked|UnitPrice| Supplier|\n+------+------------+-----------+----------+--------+------------+-------------+---------+---------+\n|  I001|      LED TV|Electronics|WarehouseA|      50|          20|   2024-03-15|    30000|   AVTech|\n|  I002|      Laptop|Electronics|WarehouseB|      10|          15|   2024-04-01|    70000|TechWorld|\n|  I003|Office Chair|  Furniture|WarehouseA|      40|          10|   2024-03-25|     6000|  ChairCo|\n|  I004|Refrigerator| Appliances|WarehouseC|       5|          10|   2024-02-20|    25000| FreezeIt|\n|  I005|     Printer|Electronics|WarehouseB|       3|           5|   2024-03-30|     8000|PrintFast|\n+------+------------+-----------+----------+--------+------------+-------------+---------+---------+\n\n+------+------------+-----------+----------+--------+------------+-------------+---------+---------+------------+\n|ItemID|    ItemName|   Category| Warehouse|StockQty|ReorderLevel|LastRestocked|UnitPrice| Supplier|NeedsReorder|\n+------+------------+-----------+----------+--------+------------+-------------+---------+---------+------------+\n|  I001|      LED TV|Electronics|WarehouseA|      50|          20|   2024-03-15|    30000|   AVTech|       false|\n|  I002|      Laptop|Electronics|WarehouseB|      10|          15|   2024-04-01|    70000|TechWorld|        true|\n|  I003|Office Chair|  Furniture|WarehouseA|      40|          10|   2024-03-25|     6000|  ChairCo|       false|\n|  I004|Refrigerator| Appliances|WarehouseC|       5|          10|   2024-02-20|    25000| FreezeIt|        true|\n|  I005|     Printer|Electronics|WarehouseB|       3|           5|   2024-03-30|     8000|PrintFast|        true|\n+------+------------+-----------+----------+--------+------------+-------------+---------+---------+------------+\n\n+------+------------+-----------+----------+--------+------------+-------------+---------+---------+------------+\n|ItemID|    ItemName|   Category| Warehouse|StockQty|ReorderLevel|LastRestocked|UnitPrice| Supplier|NeedsReorder|\n+------+------------+-----------+----------+--------+------------+-------------+---------+---------+------------+\n|  I002|      Laptop|Electronics|WarehouseB|      10|          15|   2024-04-01|    70000|TechWorld|        true|\n|  I004|Refrigerator| Appliances|WarehouseC|       5|          10|   2024-02-20|    25000| FreezeIt|        true|\n|  I005|     Printer|Electronics|WarehouseB|       3|           5|   2024-03-30|     8000|PrintFast|        true|\n+------+------------+-----------+----------+--------+------------+-------------+---------+---------+------------+\n\n+---------+-----+\n|Warehouse|count|\n+---------+-----+\n+---------+-----+\n\n"
     ]
    }
   ],
   "source": [
    "# Retail Inventory & Supply Chain Intelligence Project\n",
    "# Scenario 1: Inventory Alerting System\n",
    "\n",
    "# Step 1: Load the inventory dataset\n",
    "from pyspark.sql.functions import col\n",
    "\n",
    "inventory_df = spark.read.option(\"header\", True).option(\"inferSchema\", True).csv(\"/Volumes/workspace/default/nithyashree/inventory_supply.csv\")\n",
    "inventory_df = inventory_df.withColumn(\"LastRestocked\", col(\"LastRestocked\").cast(\"date\"))\n",
    "inventory_df.show()\n",
    "\n",
    "# Step 2: Create a new column NeedsReorder = StockQty < ReorderLevel\n",
    "from pyspark.sql.functions import expr\n",
    "\n",
    "inventory_df = inventory_df.withColumn(\"NeedsReorder\", col(\"StockQty\") < col(\"ReorderLevel\"))\n",
    "inventory_df.show()\n",
    "\n",
    "# Step 3: Create a view of all items that need restocking\n",
    "inventory_df.createOrReplaceTempView(\"inventory\")\n",
    "needs_restocking = spark.sql(\"SELECT * FROM inventory WHERE NeedsReorder = true\")\n",
    "needs_restocking.show()\n",
    "\n",
    "# Step 4: Highlight warehouses with more than 2 such items\n",
    "warehouse_alerts = needs_restocking.groupBy(\"Warehouse\").count().filter(\"count > 2\")\n",
    "warehouse_alerts.show()\n"
   ]
  },
  {
   "cell_type": "markdown",
   "metadata": {
    "application/vnd.databricks.v1+cell": {
     "cellMetadata": {},
     "inputWidgets": {},
     "nuid": "5700e6c3-d563-40f5-b643-181ba6d352d2",
     "showTitle": false,
     "tableResultSettingsMap": {},
     "title": ""
    }
   },
   "source": [
    "Scenario 2: Supplier Price Optimization"
   ]
  },
  {
   "cell_type": "code",
   "execution_count": 0,
   "metadata": {
    "application/vnd.databricks.v1+cell": {
     "cellMetadata": {
      "byteLimit": 2048000,
      "rowLimit": 10000
     },
     "inputWidgets": {},
     "nuid": "aaf2d713-f1dc-49ca-8ffb-b1beb87faa10",
     "showTitle": false,
     "tableResultSettingsMap": {},
     "title": ""
    }
   },
   "outputs": [
    {
     "output_type": "stream",
     "name": "stdout",
     "output_type": "stream",
     "text": [
      "+------+------------+-----------+----------+--------+------------+-------------+---------+---------+\n|ItemID|    ItemName|   Category| Warehouse|StockQty|ReorderLevel|LastRestocked|UnitPrice| Supplier|\n+------+------------+-----------+----------+--------+------------+-------------+---------+---------+\n|  I001|      LED TV|Electronics|WarehouseA|      50|          20|   2024-03-15|    30000|   AVTech|\n|  I002|      Laptop|Electronics|WarehouseB|      10|          15|   2024-04-01|    70000|TechWorld|\n|  I003|Office Chair|  Furniture|WarehouseA|      40|          10|   2024-03-25|     6000|  ChairCo|\n|  I004|Refrigerator| Appliances|WarehouseC|       5|          10|   2024-02-20|    25000| FreezeIt|\n|  I005|     Printer|Electronics|WarehouseB|       3|           5|   2024-03-30|     8000|PrintFast|\n+------+------------+-----------+----------+--------+------------+-------------+---------+---------+\n\nroot\n |-- ItemID: string (nullable = true)\n |-- ItemName: string (nullable = true)\n |-- Category: string (nullable = true)\n |-- Warehouse: string (nullable = true)\n |-- StockQty: integer (nullable = true)\n |-- ReorderLevel: integer (nullable = true)\n |-- LastRestocked: date (nullable = true)\n |-- UnitPrice: integer (nullable = true)\n |-- Supplier: string (nullable = true)\n\n"
     ]
    }
   ],
   "source": [
    "df = spark.read.option(\"header\", True).option(\"inferSchema\", True).csv(\"/Volumes/workspace/default/nithyashree/inventory_supply.csv\")\n",
    "df.show()\n",
    "df.printSchema()"
   ]
  },
  {
   "cell_type": "code",
   "execution_count": 0,
   "metadata": {
    "application/vnd.databricks.v1+cell": {
     "cellMetadata": {
      "byteLimit": 2048000,
      "rowLimit": 10000
     },
     "inputWidgets": {},
     "nuid": "a704d822-7c3f-4b9c-a8a2-1b626910f00d",
     "showTitle": false,
     "tableResultSettingsMap": {},
     "title": ""
    }
   },
   "outputs": [
    {
     "output_type": "stream",
     "name": "stdout",
     "output_type": "stream",
     "text": [
      "+---------+--------+\n| Supplier|AvgPrice|\n+---------+--------+\n|   AVTech| 30000.0|\n| FreezeIt| 25000.0|\n|TechWorld| 70000.0|\n|  ChairCo|  6000.0|\n|PrintFast|  8000.0|\n+---------+--------+\n\n"
     ]
    }
   ],
   "source": [
    "from pyspark.sql.functions import avg\n",
    "\n",
    "df.groupBy(\"Supplier\").agg(avg(\"UnitPrice\").alias(\"AvgPrice\")).show()"
   ]
  },
  {
   "cell_type": "code",
   "execution_count": 0,
   "metadata": {
    "application/vnd.databricks.v1+cell": {
     "cellMetadata": {
      "byteLimit": 2048000,
      "rowLimit": 10000
     },
     "inputWidgets": {},
     "nuid": "e668a6d1-fc12-45de-bbbc-b79288872f0c",
     "showTitle": false,
     "tableResultSettingsMap": {},
     "title": ""
    }
   },
   "outputs": [
    {
     "output_type": "stream",
     "name": "stdout",
     "output_type": "stream",
     "text": [
      "+--------+-----------+---------+-----------+---------+\n|ItemName|   Category|UnitPrice|CategoryAvg| Supplier|\n+--------+-----------+---------+-----------+---------+\n|  LED TV|Electronics|    30000|    36000.0|   AVTech|\n| Printer|Electronics|     8000|    36000.0|PrintFast|\n+--------+-----------+---------+-----------+---------+\n\n"
     ]
    }
   ],
   "source": [
    "from pyspark.sql.window import Window\n",
    "from pyspark.sql.functions import col, when\n",
    "\n",
    "# Calculate average price per category\n",
    "category_avg = df.groupBy(\"Category\").agg(avg(\"UnitPrice\").alias(\"CategoryAvg\"))\n",
    "\n",
    "# Join to get category average\n",
    "df_with_avg = df.join(category_avg, on=\"Category\")\n",
    "\n",
    "# Filter items below category average\n",
    "below_avg_items = df_with_avg.filter(col(\"UnitPrice\") < col(\"CategoryAvg\"))\n",
    "below_avg_items.select(\"ItemName\", \"Category\", \"UnitPrice\", \"CategoryAvg\", \"Supplier\").show()"
   ]
  },
  {
   "cell_type": "code",
   "execution_count": 0,
   "metadata": {
    "application/vnd.databricks.v1+cell": {
     "cellMetadata": {
      "byteLimit": 2048000,
      "rowLimit": 10000
     },
     "inputWidgets": {},
     "nuid": "74d93c08-cc08-4424-9f2f-6a61304181ec",
     "showTitle": false,
     "tableResultSettingsMap": {},
     "title": ""
    }
   },
   "outputs": [
    {
     "output_type": "stream",
     "name": "stdout",
     "output_type": "stream",
     "text": [
      "+---------+----------+----------------+-----------+\n| Supplier|TotalItems|BelowMarketItems|SupplierTag|\n+---------+----------+----------------+-----------+\n|   AVTech|         1|               1|  Good Deal|\n| FreezeIt|         1|               0|    Average|\n|TechWorld|         1|               0|    Average|\n|  ChairCo|         1|               0|    Average|\n|PrintFast|         1|               1|  Good Deal|\n+---------+----------+----------------+-----------+\n\n"
     ]
    }
   ],
   "source": [
    "from pyspark.sql.functions import count, sum as _sum\n",
    "\n",
    "# Count total and below-average items per supplier\n",
    "supplier_stats = df_with_avg.withColumn(\n",
    "    \"BelowMarket\", when(col(\"UnitPrice\") < col(\"CategoryAvg\"), 1).otherwise(0)\n",
    ").groupBy(\"Supplier\").agg(\n",
    "    count(\"*\").alias(\"TotalItems\"),\n",
    "    _sum(\"BelowMarket\").alias(\"BelowMarketItems\")\n",
    ")\n",
    "\n",
    "# Tag Good Deal\n",
    "supplier_tagged = supplier_stats.withColumn(\n",
    "    \"SupplierTag\",\n",
    "    when((col(\"BelowMarketItems\") / col(\"TotalItems\")) > 0.5, \"Good Deal\").otherwise(\"Average\")\n",
    ")\n",
    "\n",
    "supplier_tagged.show()"
   ]
  },
  {
   "cell_type": "markdown",
   "metadata": {
    "application/vnd.databricks.v1+cell": {
     "cellMetadata": {},
     "inputWidgets": {},
     "nuid": "fc2e4164-dc1c-4151-a602-5ec9271cbe09",
     "showTitle": false,
     "tableResultSettingsMap": {},
     "title": ""
    }
   },
   "source": [
    "Scenario 3: Cost Forecasting "
   ]
  },
  {
   "cell_type": "code",
   "execution_count": 0,
   "metadata": {
    "application/vnd.databricks.v1+cell": {
     "cellMetadata": {
      "byteLimit": 2048000,
      "rowLimit": 10000
     },
     "inputWidgets": {},
     "nuid": "e538c207-de13-4ca4-9e5f-b79275a5d98a",
     "showTitle": false,
     "tableResultSettingsMap": {},
     "title": ""
    }
   },
   "outputs": [
    {
     "output_type": "stream",
     "name": "stdout",
     "output_type": "stream",
     "text": [
      "+------------+--------+---------+---------------+\n|    ItemName|StockQty|UnitPrice|TotalStockValue|\n+------------+--------+---------+---------------+\n|      LED TV|      50|    30000|        1500000|\n|      Laptop|      10|    70000|         700000|\n|Office Chair|      40|     6000|         240000|\n|Refrigerator|       5|    25000|         125000|\n|     Printer|       3|     8000|          24000|\n+------------+--------+---------+---------------+\n\n"
     ]
    }
   ],
   "source": [
    "from pyspark.sql.functions import col\n",
    "\n",
    "df_cost = df.withColumn(\"TotalStockValue\", col(\"StockQty\") * col(\"UnitPrice\"))\n",
    "df_cost.select(\"ItemName\", \"StockQty\", \"UnitPrice\", \"TotalStockValue\").show()"
   ]
  },
  {
   "cell_type": "code",
   "execution_count": 0,
   "metadata": {
    "application/vnd.databricks.v1+cell": {
     "cellMetadata": {
      "byteLimit": 2048000,
      "rowLimit": 10000
     },
     "inputWidgets": {},
     "nuid": "a95752fb-a5ba-49a2-984a-7b89348ff696",
     "showTitle": false,
     "tableResultSettingsMap": {},
     "title": ""
    }
   },
   "outputs": [
    {
     "output_type": "stream",
     "name": "stdout",
     "output_type": "stream",
     "text": [
      "+------+------------+-----------+----------+--------+------------+-------------+---------+---------+---------------+\n|ItemID|    ItemName|   Category| Warehouse|StockQty|ReorderLevel|LastRestocked|UnitPrice| Supplier|TotalStockValue|\n+------+------------+-----------+----------+--------+------------+-------------+---------+---------+---------------+\n|  I001|      LED TV|Electronics|WarehouseA|      50|          20|   2024-03-15|    30000|   AVTech|        1500000|\n|  I002|      Laptop|Electronics|WarehouseB|      10|          15|   2024-04-01|    70000|TechWorld|         700000|\n|  I003|Office Chair|  Furniture|WarehouseA|      40|          10|   2024-03-25|     6000|  ChairCo|         240000|\n+------+------------+-----------+----------+--------+------------+-------------+---------+---------+---------------+\n\n"
     ]
    }
   ],
   "source": [
    "df_top3 = df_cost.orderBy(col(\"TotalStockValue\").desc()).limit(3)\n",
    "df_top3.show()"
   ]
  },
  {
   "cell_type": "code",
   "execution_count": 0,
   "metadata": {
    "application/vnd.databricks.v1+cell": {
     "cellMetadata": {
      "byteLimit": 2048000,
      "rowLimit": 10000
     },
     "inputWidgets": {},
     "nuid": "95dd9586-74ea-4cfc-aa61-49ad18fdf592",
     "showTitle": false,
     "tableResultSettingsMap": {},
     "title": ""
    }
   },
   "outputs": [],
   "source": [
    "df_cost.write.mode(\"overwrite\").partitionBy(\"Warehouse\").parquet(\"/Volumes/workspace/default/nithyashree/exported_parquet/inventory_cost_forecast\")"
   ]
  },
  {
   "cell_type": "markdown",
   "metadata": {
    "application/vnd.databricks.v1+cell": {
     "cellMetadata": {},
     "inputWidgets": {},
     "nuid": "6f7ef677-d6da-4038-b47f-cd6336d6b075",
     "showTitle": false,
     "tableResultSettingsMap": {},
     "title": ""
    }
   },
   "source": [
    "Scenario 4: Warehouse Utilization "
   ]
  },
  {
   "cell_type": "code",
   "execution_count": 0,
   "metadata": {
    "application/vnd.databricks.v1+cell": {
     "cellMetadata": {
      "byteLimit": 2048000,
      "rowLimit": 10000
     },
     "inputWidgets": {},
     "nuid": "76aab490-2f64-48cc-8ad6-daf7b7d0c2e9",
     "showTitle": false,
     "tableResultSettingsMap": {},
     "title": ""
    }
   },
   "outputs": [
    {
     "output_type": "stream",
     "name": "stdout",
     "output_type": "stream",
     "text": [
      "+----------+---------+\n| Warehouse|ItemCount|\n+----------+---------+\n|WarehouseB|        2|\n|WarehouseA|        2|\n|WarehouseC|        1|\n+----------+---------+\n\n"
     ]
    }
   ],
   "source": [
    "df.groupBy(\"Warehouse\").count().withColumnRenamed(\"count\", \"ItemCount\").show()"
   ]
  },
  {
   "cell_type": "code",
   "execution_count": 0,
   "metadata": {
    "application/vnd.databricks.v1+cell": {
     "cellMetadata": {
      "byteLimit": 2048000,
      "rowLimit": 10000
     },
     "inputWidgets": {},
     "nuid": "3b1ca840-0c2f-48f4-aadb-86beb31dd388",
     "showTitle": false,
     "tableResultSettingsMap": {},
     "title": ""
    }
   },
   "outputs": [
    {
     "output_type": "stream",
     "name": "stdout",
     "output_type": "stream",
     "text": [
      "+----------+-----------+--------+\n| Warehouse|   Category|AvgStock|\n+----------+-----------+--------+\n|WarehouseB|Electronics|     6.5|\n|WarehouseA|Electronics|    50.0|\n|WarehouseA|  Furniture|    40.0|\n|WarehouseC| Appliances|     5.0|\n+----------+-----------+--------+\n\n"
     ]
    }
   ],
   "source": [
    "df.groupBy(\"Warehouse\", \"Category\") \\\n",
    "  .avg(\"StockQty\") \\\n",
    "  .withColumnRenamed(\"avg(StockQty)\", \"AvgStock\") \\\n",
    "  .show()"
   ]
  },
  {
   "cell_type": "code",
   "execution_count": 0,
   "metadata": {
    "application/vnd.databricks.v1+cell": {
     "cellMetadata": {
      "byteLimit": 2048000,
      "rowLimit": 10000
     },
     "inputWidgets": {},
     "nuid": "77a1f864-3d67-4aca-89c8-f14eec571e15",
     "showTitle": false,
     "tableResultSettingsMap": {},
     "title": ""
    }
   },
   "outputs": [
    {
     "output_type": "stream",
     "name": "stdout",
     "output_type": "stream",
     "text": [
      "+----------+----------+\n| Warehouse|TotalStock|\n+----------+----------+\n|WarehouseB|        13|\n|WarehouseA|        90|\n|WarehouseC|         5|\n+----------+----------+\n\n"
     ]
    }
   ],
   "source": [
    "from pyspark.sql.functions import sum\n",
    "\n",
    "df_stock_per_warehouse = df.groupBy(\"Warehouse\").agg(sum(\"StockQty\").alias(\"TotalStock\"))\n",
    "df_stock_per_warehouse.filter(col(\"TotalStock\") < 100).show()"
   ]
  },
  {
   "cell_type": "markdown",
   "metadata": {
    "application/vnd.databricks.v1+cell": {
     "cellMetadata": {},
     "inputWidgets": {},
     "nuid": "bcd6c59e-286d-4659-a066-b31620b3a4d6",
     "showTitle": false,
     "tableResultSettingsMap": {},
     "title": ""
    }
   },
   "source": [
    "Scenario 5: Delta Audit Trail"
   ]
  },
  {
   "cell_type": "code",
   "execution_count": 0,
   "metadata": {
    "application/vnd.databricks.v1+cell": {
     "cellMetadata": {
      "byteLimit": 2048000,
      "rowLimit": 10000
     },
     "inputWidgets": {},
     "nuid": "f52bfdef-b68c-44a0-8e42-e22a05c40c32",
     "showTitle": false,
     "tableResultSettingsMap": {},
     "title": ""
    }
   },
   "outputs": [],
   "source": [
    "df.write.format(\"delta\") \\\n",
    "  .mode(\"overwrite\") \\\n",
    "  .save(\"/Volumes/workspace/default/nithyashree/retail_inventory\")"
   ]
  },
  {
   "cell_type": "code",
   "execution_count": 0,
   "metadata": {
    "application/vnd.databricks.v1+cell": {
     "cellMetadata": {
      "byteLimit": 2048000,
      "rowLimit": 10000
     },
     "inputWidgets": {},
     "nuid": "c1efbd2e-7315-4860-a664-4b23ab513a07",
     "showTitle": false,
     "tableResultSettingsMap": {},
     "title": ""
    }
   },
   "outputs": [
    {
     "output_type": "execute_result",
     "data": {
      "text/plain": [
       "DataFrame[num_affected_rows: bigint]"
      ]
     },
     "execution_count": 18,
     "metadata": {},
     "output_type": "execute_result"
    }
   ],
   "source": [
    "from delta.tables import DeltaTable\n",
    "from pyspark.sql.functions import col\n",
    "\n",
    "delta_table = DeltaTable.forPath(spark, \"/Volumes/workspace/default/nithyashree/retail_inventory\")\n",
    "\n",
    "delta_table.update(\n",
    "    condition=col(\"ItemName\") == \"Laptop\",\n",
    "    set={\"StockQty\": \"20\"}\n",
    ")"
   ]
  },
  {
   "cell_type": "code",
   "execution_count": 0,
   "metadata": {
    "application/vnd.databricks.v1+cell": {
     "cellMetadata": {
      "byteLimit": 2048000,
      "rowLimit": 10000
     },
     "inputWidgets": {},
     "nuid": "961722ee-8f6b-462e-a99b-41f4d613d11e",
     "showTitle": false,
     "tableResultSettingsMap": {},
     "title": ""
    }
   },
   "outputs": [
    {
     "output_type": "execute_result",
     "data": {
      "text/plain": [
       "DataFrame[num_affected_rows: bigint]"
      ]
     },
     "execution_count": 19,
     "metadata": {},
     "output_type": "execute_result"
    }
   ],
   "source": [
    "delta_table.delete(condition=col(\"StockQty\") == 0)"
   ]
  },
  {
   "cell_type": "code",
   "execution_count": 0,
   "metadata": {
    "application/vnd.databricks.v1+cell": {
     "cellMetadata": {
      "byteLimit": 2048000,
      "rowLimit": 10000
     },
     "inputWidgets": {},
     "nuid": "01db0cfc-e46a-4f48-8630-3edf3779350f",
     "showTitle": false,
     "tableResultSettingsMap": {},
     "title": ""
    }
   },
   "outputs": [
    {
     "output_type": "stream",
     "name": "stdout",
     "output_type": "stream",
     "text": [
      "+-------+-------------------+----------------+--------------------------+---------+------------------------------------------------------------------------------+----+--------+------------------------+-----------+-----------------+-------------+----------------------------------------------------------------------------------------------------------------------------------------------------------------------------------------------------------------------------------------------------------------------------------------------------------------------------+------------+--------------------------------------------------+\n|version|timestamp          |userId          |userName                  |operation|operationParameters                                                           |job |notebook|clusterId               |readVersion|isolationLevel   |isBlindAppend|operationMetrics                                                                                                                                                                                                                                                                                                            |userMetadata|engineInfo                                        |\n+-------+-------------------+----------------+--------------------------+---------+------------------------------------------------------------------------------+----+--------+------------------------+-----------+-----------------+-------------+----------------------------------------------------------------------------------------------------------------------------------------------------------------------------------------------------------------------------------------------------------------------------------------------------------------------------+------------+--------------------------------------------------+\n|3      |2025-06-19 09:15:52|8832284645870584|nithyashreer2019@gmail.com|DELETE   |{predicate -> [\"(StockQty#12872 = 0)\"]}                                       |NULL|NULL    |0619-090812-ipxttxam-v2n|2          |WriteSerializable|false        |{numRemovedFiles -> 0, numRemovedBytes -> 0, numCopiedRows -> 0, numDeletionVectorsAdded -> 0, numDeletionVectorsRemoved -> 0, numAddedChangeFiles -> 0, executionTimeMs -> 310, numDeletionVectorsUpdated -> 0, numDeletedRows -> 0, scanTimeMs -> 296, numAddedFiles -> 0, numAddedBytes -> 0, rewriteTimeMs -> 0}        |NULL        |Databricks-Runtime/16.4.x-aarch64-photon-scala2.12|\n|2      |2025-06-19 09:15:34|8832284645870584|nithyashreer2019@gmail.com|OPTIMIZE |{predicate -> [], auto -> true, clusterBy -> [], zOrderBy -> [], batchId -> 0}|NULL|NULL    |0619-090812-ipxttxam-v2n|1          |SnapshotIsolation|false        |{numRemovedFiles -> 2, numRemovedBytes -> 4976, p25FileSize -> 2639, numDeletionVectorsRemoved -> 1, minFileSize -> 2639, numAddedFiles -> 1, maxFileSize -> 2639, p75FileSize -> 2639, p50FileSize -> 2639, numAddedBytes -> 2639}                                                                                         |NULL        |Databricks-Runtime/16.4.x-aarch64-photon-scala2.12|\n|1      |2025-06-19 09:15:31|8832284645870584|nithyashreer2019@gmail.com|UPDATE   |{predicate -> [\"(ItemName#11964 = Laptop)\"]}                                  |NULL|NULL    |0619-090812-ipxttxam-v2n|0          |WriteSerializable|false        |{numRemovedFiles -> 0, numRemovedBytes -> 0, numCopiedRows -> 0, numDeletionVectorsAdded -> 1, numDeletionVectorsRemoved -> 0, numAddedChangeFiles -> 0, executionTimeMs -> 2734, numDeletionVectorsUpdated -> 0, scanTimeMs -> 1569, numAddedFiles -> 1, numUpdatedRows -> 1, numAddedBytes -> 2338, rewriteTimeMs -> 1146}|NULL        |Databricks-Runtime/16.4.x-aarch64-photon-scala2.12|\n|0      |2025-06-19 09:14:46|8832284645870584|nithyashreer2019@gmail.com|WRITE    |{mode -> Overwrite, statsOnLoad -> false, partitionBy -> []}                  |NULL|NULL    |0619-090812-ipxttxam-v2n|NULL       |WriteSerializable|false        |{numFiles -> 1, numRemovedFiles -> 0, numRemovedBytes -> 0, numOutputRows -> 5, numOutputBytes -> 2638}                                                                                                                                                                                                                     |NULL        |Databricks-Runtime/16.4.x-aarch64-photon-scala2.12|\n+-------+-------------------+----------------+--------------------------+---------+------------------------------------------------------------------------------+----+--------+------------------------+-----------+-----------------+-------------+----------------------------------------------------------------------------------------------------------------------------------------------------------------------------------------------------------------------------------------------------------------------------------------------------------------------------+------------+--------------------------------------------------+\n\n+------+------------+-----------+----------+--------+------------+-------------+---------+---------+\n|ItemID|    ItemName|   Category| Warehouse|StockQty|ReorderLevel|LastRestocked|UnitPrice| Supplier|\n+------+------------+-----------+----------+--------+------------+-------------+---------+---------+\n|  I001|      LED TV|Electronics|WarehouseA|      50|          20|   2024-03-15|    30000|   AVTech|\n|  I002|      Laptop|Electronics|WarehouseB|      10|          15|   2024-04-01|    70000|TechWorld|\n|  I003|Office Chair|  Furniture|WarehouseA|      40|          10|   2024-03-25|     6000|  ChairCo|\n|  I004|Refrigerator| Appliances|WarehouseC|       5|          10|   2024-02-20|    25000| FreezeIt|\n|  I005|     Printer|Electronics|WarehouseB|       3|           5|   2024-03-30|     8000|PrintFast|\n+------+------------+-----------+----------+--------+------------+-------------+---------+---------+\n\n"
     ]
    }
   ],
   "source": [
    "# Describe the history\n",
    "spark.sql(\"DESCRIBE HISTORY delta.`/Volumes/workspace/default/nithyashree/retail_inventory`\").show(truncate=False)\n",
    "\n",
    "# To query a previous version, e.g., version 0:\n",
    "spark.read.format(\"delta\") \\\n",
    "  .option(\"versionAsOf\", 0) \\\n",
    "  .load(\"/Volumes/workspace/default/nithyashree/retail_inventory\") \\\n",
    "  .show()"
   ]
  },
  {
   "cell_type": "markdown",
   "metadata": {
    "application/vnd.databricks.v1+cell": {
     "cellMetadata": {},
     "inputWidgets": {},
     "nuid": "ba748397-6e53-4c61-8e74-8483472cd12b",
     "showTitle": false,
     "tableResultSettingsMap": {},
     "title": ""
    }
   },
   "source": [
    " Scenario 6: Alerts from Restock Logs (Join Task)"
   ]
  },
  {
   "cell_type": "code",
   "execution_count": 0,
   "metadata": {
    "application/vnd.databricks.v1+cell": {
     "cellMetadata": {
      "byteLimit": 2048000,
      "rowLimit": 10000
     },
     "inputWidgets": {},
     "nuid": "16fc775f-c21e-456b-9f2f-f85d578e933f",
     "showTitle": false,
     "tableResultSettingsMap": {},
     "title": ""
    }
   },
   "outputs": [
    {
     "output_type": "display_data",
     "data": {
      "text/html": [
       "<style scoped>\n",
       "  .table-result-container {\n",
       "    max-height: 300px;\n",
       "    overflow: auto;\n",
       "  }\n",
       "  table, th, td {\n",
       "    border: 1px solid black;\n",
       "    border-collapse: collapse;\n",
       "  }\n",
       "  th, td {\n",
       "    padding: 5px;\n",
       "  }\n",
       "  th {\n",
       "    text-align: left;\n",
       "  }\n",
       "</style><div class='table-result-container'><table class='table-result'><thead style='background-color: white'><tr><th>ItemID</th><th>RestockDate</th><th>QuantityAdded</th></tr></thead><tbody><tr><td>I002</td><td>2024-04-20</td><td>10</td></tr><tr><td>I005</td><td>2024-04-22</td><td>5</td></tr><tr><td>I001</td><td>2024-04-25</td><td>20</td></tr></tbody></table></div>"
      ]
     },
     "metadata": {
      "application/vnd.databricks.v1+output": {
       "addedWidgets": {},
       "aggData": [],
       "aggError": "",
       "aggOverflow": false,
       "aggSchema": [],
       "aggSeriesLimitReached": false,
       "aggType": "",
       "arguments": {},
       "columnCustomDisplayInfos": {},
       "data": [
        [
         "I002",
         "2024-04-20",
         10
        ],
        [
         "I005",
         "2024-04-22",
         5
        ],
        [
         "I001",
         "2024-04-25",
         20
        ]
       ],
       "datasetInfos": [],
       "dbfsResultPath": null,
       "isJsonSchema": true,
       "metadata": {},
       "overflow": false,
       "plotOptions": {
        "customPlotOptions": {},
        "displayType": "table",
        "pivotAggregation": null,
        "pivotColumns": null,
        "xColumns": null,
        "yColumns": null
       },
       "removedWidgets": [],
       "schema": [
        {
         "metadata": "{}",
         "name": "ItemID",
         "type": "\"string\""
        },
        {
         "metadata": "{\"__detected_date_formats\": \"yyyy-M-d\"}",
         "name": "RestockDate",
         "type": "\"date\""
        },
        {
         "metadata": "{}",
         "name": "QuantityAdded",
         "type": "\"integer\""
        }
       ],
       "type": "table"
      }
     },
     "output_type": "display_data"
    }
   ],
   "source": [
    "restock_df = spark.read.option(\"header\", True).option(\"inferSchema\", True) \\\n",
    "    .csv(\"/Volumes/workspace/default/nithyashree/restock_logs.csv\")\n",
    "display(restock_df)"
   ]
  },
  {
   "cell_type": "code",
   "execution_count": 0,
   "metadata": {
    "application/vnd.databricks.v1+cell": {
     "cellMetadata": {
      "byteLimit": 2048000,
      "rowLimit": 10000
     },
     "inputWidgets": {},
     "nuid": "73312764-e9bc-413d-b571-4c641c4e867c",
     "showTitle": false,
     "tableResultSettingsMap": {},
     "title": ""
    }
   },
   "outputs": [
    {
     "output_type": "display_data",
     "data": {
      "text/html": [
       "<style scoped>\n",
       "  .table-result-container {\n",
       "    max-height: 300px;\n",
       "    overflow: auto;\n",
       "  }\n",
       "  table, th, td {\n",
       "    border: 1px solid black;\n",
       "    border-collapse: collapse;\n",
       "  }\n",
       "  th, td {\n",
       "    padding: 5px;\n",
       "  }\n",
       "  th {\n",
       "    text-align: left;\n",
       "  }\n",
       "</style><div class='table-result-container'><table class='table-result'><thead style='background-color: white'><tr><th>ItemID</th><th>ItemName</th><th>StockQty</th><th>QuantityAdded</th><th>NewStockQty</th><th>RestockedRecently</th></tr></thead><tbody><tr><td>I002</td><td>Laptop</td><td>20</td><td>10</td><td>30</td><td>true</td></tr><tr><td>I001</td><td>LED TV</td><td>50</td><td>20</td><td>70</td><td>true</td></tr><tr><td>I003</td><td>Office Chair</td><td>40</td><td>null</td><td>40</td><td>false</td></tr><tr><td>I004</td><td>Refrigerator</td><td>5</td><td>null</td><td>5</td><td>false</td></tr><tr><td>I005</td><td>Printer</td><td>3</td><td>5</td><td>8</td><td>true</td></tr></tbody></table></div>"
      ]
     },
     "metadata": {
      "application/vnd.databricks.v1+output": {
       "addedWidgets": {},
       "aggData": [],
       "aggError": "",
       "aggOverflow": false,
       "aggSchema": [],
       "aggSeriesLimitReached": false,
       "aggType": "",
       "arguments": {},
       "columnCustomDisplayInfos": {},
       "data": [
        [
         "I002",
         "Laptop",
         20,
         10,
         30,
         true
        ],
        [
         "I001",
         "LED TV",
         50,
         20,
         70,
         true
        ],
        [
         "I003",
         "Office Chair",
         40,
         null,
         40,
         false
        ],
        [
         "I004",
         "Refrigerator",
         5,
         null,
         5,
         false
        ],
        [
         "I005",
         "Printer",
         3,
         5,
         8,
         true
        ]
       ],
       "datasetInfos": [],
       "dbfsResultPath": null,
       "isJsonSchema": true,
       "metadata": {},
       "overflow": false,
       "plotOptions": {
        "customPlotOptions": {},
        "displayType": "table",
        "pivotAggregation": null,
        "pivotColumns": null,
        "xColumns": null,
        "yColumns": null
       },
       "removedWidgets": [],
       "schema": [
        {
         "metadata": "{}",
         "name": "ItemID",
         "type": "\"string\""
        },
        {
         "metadata": "{}",
         "name": "ItemName",
         "type": "\"string\""
        },
        {
         "metadata": "{}",
         "name": "StockQty",
         "type": "\"integer\""
        },
        {
         "metadata": "{}",
         "name": "QuantityAdded",
         "type": "\"integer\""
        },
        {
         "metadata": "{}",
         "name": "NewStockQty",
         "type": "\"integer\""
        },
        {
         "metadata": "{}",
         "name": "RestockedRecently",
         "type": "\"boolean\""
        }
       ],
       "type": "table"
      }
     },
     "output_type": "display_data"
    }
   ],
   "source": [
    "from pyspark.sql.functions import col, expr\n",
    "\n",
    "# Load current inventory from Delta\n",
    "inventory_df = spark.read.format(\"delta\").load(\"/Volumes/workspace/default/nithyashree/retail_inventory\")\n",
    "\n",
    "# Join with restock logs and calculate new stock\n",
    "updated_df = inventory_df.alias(\"inv\").join(\n",
    "    restock_df.alias(\"res\"),\n",
    "    col(\"inv.ItemID\") == col(\"res.ItemID\"),\n",
    "    how=\"left\"\n",
    ").withColumn(\n",
    "    \"NewStockQty\",\n",
    "    col(\"inv.StockQty\") + expr(\"coalesce(res.QuantityAdded, 0)\")\n",
    ").withColumn(\n",
    "    \"RestockedRecently\",\n",
    "    col(\"res.QuantityAdded\").isNotNull()\n",
    ")\n",
    "\n",
    "# Show only relevant columns\n",
    "display(\n",
    "    updated_df.select(\n",
    "        col(\"inv.ItemID\").alias(\"ItemID\"),\n",
    "        \"ItemName\",\n",
    "        \"inv.StockQty\",\n",
    "        \"res.QuantityAdded\",\n",
    "        \"NewStockQty\",\n",
    "        \"RestockedRecently\"\n",
    "    )\n",
    ")\n"
   ]
  },
  {
   "cell_type": "code",
   "execution_count": 0,
   "metadata": {
    "application/vnd.databricks.v1+cell": {
     "cellMetadata": {
      "byteLimit": 2048000,
      "rowLimit": 10000
     },
     "inputWidgets": {},
     "nuid": "3520601f-8523-4fe3-8ef3-394c60242544",
     "showTitle": false,
     "tableResultSettingsMap": {},
     "title": ""
    }
   },
   "outputs": [
    {
     "output_type": "stream",
     "name": "stdout",
     "output_type": "stream",
     "text": [
      "+------+-----------+-------------+\n|ItemID|RestockDate|QuantityAdded|\n+------+-----------+-------------+\n|  I002| 2024-04-20|           10|\n|  I005| 2024-04-22|            5|\n|  I001| 2024-04-25|           20|\n+------+-----------+-------------+\n\n"
     ]
    }
   ],
   "source": [
    "df_restock = spark.read.option(\"header\", True).option(\"inferSchema\", True).csv(\"/Volumes/workspace/default/nithyashree/restock_logs.csv\")\n",
    "df_restock.show()\n"
   ]
  },
  {
   "cell_type": "code",
   "execution_count": 0,
   "metadata": {
    "application/vnd.databricks.v1+cell": {
     "cellMetadata": {
      "byteLimit": 2048000,
      "rowLimit": 10000
     },
     "inputWidgets": {},
     "nuid": "498f2060-6b30-4af2-bd1d-a9974120d0df",
     "showTitle": false,
     "tableResultSettingsMap": {},
     "title": ""
    }
   },
   "outputs": [],
   "source": [
    "df_restock.write.format(\"delta\").mode(\"overwrite\").save(\"/Volumes/workspace/default/nithyashree/restock_logs_delta\")\n"
   ]
  },
  {
   "cell_type": "code",
   "execution_count": 0,
   "metadata": {
    "application/vnd.databricks.v1+cell": {
     "cellMetadata": {
      "byteLimit": 2048000,
      "implicitDf": true,
      "rowLimit": 10000
     },
     "inputWidgets": {},
     "nuid": "13293f22-2610-49f8-80c6-4088b7d6956d",
     "showTitle": false,
     "tableResultSettingsMap": {},
     "title": ""
    }
   },
   "outputs": [
    {
     "output_type": "display_data",
     "data": {
      "text/html": [
       "<style scoped>\n",
       "  .table-result-container {\n",
       "    max-height: 300px;\n",
       "    overflow: auto;\n",
       "  }\n",
       "  table, th, td {\n",
       "    border: 1px solid black;\n",
       "    border-collapse: collapse;\n",
       "  }\n",
       "  th, td {\n",
       "    padding: 5px;\n",
       "  }\n",
       "  th {\n",
       "    text-align: left;\n",
       "  }\n",
       "</style><div class='table-result-container'><table class='table-result'><thead style='background-color: white'><tr><th>num_affected_rows</th><th>num_updated_rows</th><th>num_deleted_rows</th><th>num_inserted_rows</th></tr></thead><tbody><tr><td>5</td><td>5</td><td>0</td><td>0</td></tr></tbody></table></div>"
      ]
     },
     "metadata": {
      "application/vnd.databricks.v1+output": {
       "addedWidgets": {},
       "aggData": [],
       "aggError": "",
       "aggOverflow": false,
       "aggSchema": [],
       "aggSeriesLimitReached": false,
       "aggType": "",
       "arguments": {},
       "columnCustomDisplayInfos": {},
       "data": [
        [
         5,
         5,
         0,
         0
        ]
       ],
       "datasetInfos": [
        {
         "name": "_sqldf",
         "schema": {
          "fields": [
           {
            "metadata": {},
            "name": "num_affected_rows",
            "nullable": true,
            "type": "long"
           },
           {
            "metadata": {},
            "name": "num_updated_rows",
            "nullable": true,
            "type": "long"
           },
           {
            "metadata": {},
            "name": "num_deleted_rows",
            "nullable": true,
            "type": "long"
           },
           {
            "metadata": {},
            "name": "num_inserted_rows",
            "nullable": true,
            "type": "long"
           }
          ],
          "type": "struct"
         },
         "tableIdentifier": null,
         "typeStr": "pyspark.sql.connect.dataframe.DataFrame"
        }
       ],
       "dbfsResultPath": null,
       "isJsonSchema": true,
       "metadata": {
        "createTempViewForImplicitDf": true,
        "dataframeName": "_sqldf",
        "executionCount": 32
       },
       "overflow": false,
       "plotOptions": {
        "customPlotOptions": {},
        "displayType": "table",
        "pivotAggregation": null,
        "pivotColumns": null,
        "xColumns": null,
        "yColumns": null
       },
       "removedWidgets": [],
       "schema": [
        {
         "metadata": "{}",
         "name": "num_affected_rows",
         "type": "\"long\""
        },
        {
         "metadata": "{}",
         "name": "num_updated_rows",
         "type": "\"long\""
        },
        {
         "metadata": "{}",
         "name": "num_deleted_rows",
         "type": "\"long\""
        },
        {
         "metadata": "{}",
         "name": "num_inserted_rows",
         "type": "\"long\""
        }
       ],
       "type": "table"
      }
     },
     "output_type": "display_data"
    }
   ],
   "source": [
    "%sql\n",
    "\n",
    "MERGE INTO delta.`/Volumes/workspace/default/nithyashree/retail_inventory` AS target\n",
    "USING (\n",
    "  SELECT \n",
    "    inv.ItemID AS ItemID,\n",
    "    inv.ItemName,\n",
    "    inv.Category,\n",
    "    inv.Warehouse,\n",
    "    inv.ReorderLevel,\n",
    "    inv.LastRestocked,\n",
    "    inv.UnitPrice,\n",
    "    inv.Supplier,\n",
    "    inv.StockQty + COALESCE(res.QuantityAdded, 0) AS StockQty\n",
    "  FROM delta.`/Volumes/workspace/default/nithyashree/retail_inventory` AS inv\n",
    "  LEFT JOIN delta.`/Volumes/workspace/default/nithyashree/restock_logs_delta` AS res\n",
    "  ON inv.ItemID = res.ItemID\n",
    ") AS source\n",
    "ON target.ItemID = source.ItemID\n",
    "\n",
    "WHEN MATCHED THEN UPDATE SET\n",
    "  target.StockQty = source.StockQty;\n"
   ]
  },
  {
   "cell_type": "markdown",
   "metadata": {
    "application/vnd.databricks.v1+cell": {
     "cellMetadata": {},
     "inputWidgets": {},
     "nuid": "b003b002-1516-4a0e-87eb-01232401b6a6",
     "showTitle": false,
     "tableResultSettingsMap": {},
     "title": ""
    }
   },
   "source": [
    "Scenario 7: SQL Views."
   ]
  },
  {
   "cell_type": "code",
   "execution_count": 0,
   "metadata": {
    "application/vnd.databricks.v1+cell": {
     "cellMetadata": {
      "byteLimit": 2048000,
      "implicitDf": true,
      "rowLimit": 10000
     },
     "inputWidgets": {},
     "nuid": "4690b741-01f1-4ee3-bce4-41af8e8ce265",
     "showTitle": false,
     "tableResultSettingsMap": {},
     "title": ""
    }
   },
   "outputs": [],
   "source": [
    "%sql\n",
    "\n",
    "CREATE OR REPLACE TEMP VIEW inventory_summary AS\n",
    "SELECT \n",
    "  ItemName,\n",
    "  Category,\n",
    "  StockQty,\n",
    "  CASE WHEN StockQty < ReorderLevel THEN true ELSE false END AS NeedsReorder,\n",
    "  (StockQty * UnitPrice) AS TotalStockValue\n",
    "FROM delta.`/Volumes/workspace/default/nithyashree/retail_inventory`;\n"
   ]
  },
  {
   "cell_type": "code",
   "execution_count": 0,
   "metadata": {
    "application/vnd.databricks.v1+cell": {
     "cellMetadata": {
      "byteLimit": 2048000,
      "implicitDf": true,
      "rowLimit": 10000
     },
     "inputWidgets": {},
     "nuid": "ebe24a51-9f30-4e89-97a1-9e258408c020",
     "showTitle": false,
     "tableResultSettingsMap": {},
     "title": ""
    }
   },
   "outputs": [],
   "source": [
    "%sql\n",
    "\n",
    "CREATE OR REPLACE TEMP VIEW supplier_leaderboard AS\n",
    "SELECT \n",
    "  Supplier,\n",
    "  ROUND(AVG(UnitPrice), 2) AS AvgPrice\n",
    "FROM delta.`/Volumes/workspace/default/nithyashree/retail_inventory`\n",
    "GROUP BY Supplier\n",
    "ORDER BY AvgPrice DESC;\n"
   ]
  },
  {
   "cell_type": "code",
   "execution_count": 0,
   "metadata": {
    "application/vnd.databricks.v1+cell": {
     "cellMetadata": {
      "byteLimit": 2048000,
      "implicitDf": true,
      "rowLimit": 10000
     },
     "inputWidgets": {},
     "nuid": "348b9ee6-2254-4468-9259-3fc358bb3ddd",
     "showTitle": false,
     "tableResultSettingsMap": {},
     "title": ""
    }
   },
   "outputs": [
    {
     "output_type": "display_data",
     "data": {
      "text/html": [
       "<style scoped>\n",
       "  .table-result-container {\n",
       "    max-height: 300px;\n",
       "    overflow: auto;\n",
       "  }\n",
       "  table, th, td {\n",
       "    border: 1px solid black;\n",
       "    border-collapse: collapse;\n",
       "  }\n",
       "  th, td {\n",
       "    padding: 5px;\n",
       "  }\n",
       "  th {\n",
       "    text-align: left;\n",
       "  }\n",
       "</style><div class='table-result-container'><table class='table-result'><thead style='background-color: white'><tr><th>Supplier</th><th>AvgPrice</th></tr></thead><tbody><tr><td>TechWorld</td><td>70000.0</td></tr><tr><td>AVTech</td><td>30000.0</td></tr><tr><td>FreezeIt</td><td>25000.0</td></tr><tr><td>PrintFast</td><td>8000.0</td></tr><tr><td>ChairCo</td><td>6000.0</td></tr></tbody></table></div>"
      ]
     },
     "metadata": {
      "application/vnd.databricks.v1+output": {
       "addedWidgets": {},
       "aggData": [],
       "aggError": "",
       "aggOverflow": false,
       "aggSchema": [],
       "aggSeriesLimitReached": false,
       "aggType": "",
       "arguments": {},
       "columnCustomDisplayInfos": {},
       "data": [
        [
         "TechWorld",
         70000.0
        ],
        [
         "AVTech",
         30000.0
        ],
        [
         "FreezeIt",
         25000.0
        ],
        [
         "PrintFast",
         8000.0
        ],
        [
         "ChairCo",
         6000.0
        ]
       ],
       "datasetInfos": [
        {
         "name": "_sqldf",
         "schema": {
          "fields": [
           {
            "metadata": {},
            "name": "Supplier",
            "nullable": true,
            "type": "string"
           },
           {
            "metadata": {},
            "name": "AvgPrice",
            "nullable": true,
            "type": "double"
           }
          ],
          "type": "struct"
         },
         "tableIdentifier": null,
         "typeStr": "pyspark.sql.connect.dataframe.DataFrame"
        }
       ],
       "dbfsResultPath": null,
       "isJsonSchema": true,
       "metadata": {
        "createTempViewForImplicitDf": true,
        "dataframeName": "_sqldf",
        "executionCount": 35
       },
       "overflow": false,
       "plotOptions": {
        "customPlotOptions": {},
        "displayType": "table",
        "pivotAggregation": null,
        "pivotColumns": null,
        "xColumns": null,
        "yColumns": null
       },
       "removedWidgets": [],
       "schema": [
        {
         "metadata": "{}",
         "name": "Supplier",
         "type": "\"string\""
        },
        {
         "metadata": "{}",
         "name": "AvgPrice",
         "type": "\"double\""
        }
       ],
       "type": "table"
      }
     },
     "output_type": "display_data"
    }
   ],
   "source": [
    "%sql\n",
    "-- Inventory Summary\n",
    "SELECT * FROM inventory_summary;\n",
    "\n",
    "-- Supplier Leaderboard\n",
    "SELECT * FROM supplier_leaderboard;\n"
   ]
  },
  {
   "cell_type": "markdown",
   "metadata": {
    "application/vnd.databricks.v1+cell": {
     "cellMetadata": {},
     "inputWidgets": {},
     "nuid": "0bc61e3d-b937-4139-a23e-9be3bebc8707",
     "showTitle": false,
     "tableResultSettingsMap": {},
     "title": ""
    }
   },
   "source": [
    "Scenario 8: Advanced Filtering"
   ]
  },
  {
   "cell_type": "code",
   "execution_count": 0,
   "metadata": {
    "application/vnd.databricks.v1+cell": {
     "cellMetadata": {
      "byteLimit": 2048000,
      "rowLimit": 10000
     },
     "inputWidgets": {},
     "nuid": "76b801f0-9941-4b64-83e7-26d1b496a187",
     "showTitle": false,
     "tableResultSettingsMap": {},
     "title": ""
    }
   },
   "outputs": [
    {
     "output_type": "display_data",
     "data": {
      "text/html": [
       "<style scoped>\n",
       "  .table-result-container {\n",
       "    max-height: 300px;\n",
       "    overflow: auto;\n",
       "  }\n",
       "  table, th, td {\n",
       "    border: 1px solid black;\n",
       "    border-collapse: collapse;\n",
       "  }\n",
       "  th, td {\n",
       "    padding: 5px;\n",
       "  }\n",
       "  th {\n",
       "    text-align: left;\n",
       "  }\n",
       "</style><div class='table-result-container'><table class='table-result'><thead style='background-color: white'><tr><th>ItemName</th><th>StockQty</th><th>ReorderLevel</th><th>StockStatus</th></tr></thead><tbody><tr><td>LED TV</td><td>50</td><td>20</td><td>Overstocked</td></tr><tr><td>Laptop</td><td>10</td><td>15</td><td>LowStock</td></tr><tr><td>Office Chair</td><td>40</td><td>10</td><td>Overstocked</td></tr><tr><td>Refrigerator</td><td>5</td><td>10</td><td>LowStock</td></tr><tr><td>Printer</td><td>3</td><td>5</td><td>LowStock</td></tr></tbody></table></div>"
      ]
     },
     "metadata": {
      "application/vnd.databricks.v1+output": {
       "addedWidgets": {},
       "aggData": [],
       "aggError": "",
       "aggOverflow": false,
       "aggSchema": [],
       "aggSeriesLimitReached": false,
       "aggType": "",
       "arguments": {},
       "columnCustomDisplayInfos": {},
       "data": [
        [
         "LED TV",
         50,
         20,
         "Overstocked"
        ],
        [
         "Laptop",
         10,
         15,
         "LowStock"
        ],
        [
         "Office Chair",
         40,
         10,
         "Overstocked"
        ],
        [
         "Refrigerator",
         5,
         10,
         "LowStock"
        ],
        [
         "Printer",
         3,
         5,
         "LowStock"
        ]
       ],
       "datasetInfos": [],
       "dbfsResultPath": null,
       "isJsonSchema": true,
       "metadata": {},
       "overflow": false,
       "plotOptions": {
        "customPlotOptions": {},
        "displayType": "table",
        "pivotAggregation": null,
        "pivotColumns": null,
        "xColumns": null,
        "yColumns": null
       },
       "removedWidgets": [],
       "schema": [
        {
         "metadata": "{}",
         "name": "ItemName",
         "type": "\"string\""
        },
        {
         "metadata": "{}",
         "name": "StockQty",
         "type": "\"integer\""
        },
        {
         "metadata": "{}",
         "name": "ReorderLevel",
         "type": "\"integer\""
        },
        {
         "metadata": "{}",
         "name": "StockStatus",
         "type": "\"string\""
        }
       ],
       "type": "table"
      }
     },
     "output_type": "display_data"
    }
   ],
   "source": [
    "from pyspark.sql.functions import when\n",
    "\n",
    "df_filtered = df.withColumn(\n",
    "    \"StockStatus\",\n",
    "    when(df.StockQty > 2 * df.ReorderLevel, \"Overstocked\")\n",
    "    .when(df.StockQty < df.ReorderLevel, \"LowStock\")\n",
    "    .otherwise(\"Normal\")\n",
    ")\n",
    "\n",
    "display(df_filtered.select(\"ItemName\", \"StockQty\", \"ReorderLevel\", \"StockStatus\"))\n"
   ]
  },
  {
   "cell_type": "code",
   "execution_count": 0,
   "metadata": {
    "application/vnd.databricks.v1+cell": {
     "cellMetadata": {
      "byteLimit": 2048000,
      "rowLimit": 10000
     },
     "inputWidgets": {},
     "nuid": "4917fc88-a0bb-4d4c-bcb9-0fd15c1ab406",
     "showTitle": false,
     "tableResultSettingsMap": {},
     "title": ""
    }
   },
   "outputs": [
    {
     "output_type": "display_data",
     "data": {
      "text/html": [
       "<style scoped>\n",
       "  .table-result-container {\n",
       "    max-height: 300px;\n",
       "    overflow: auto;\n",
       "  }\n",
       "  table, th, td {\n",
       "    border: 1px solid black;\n",
       "    border-collapse: collapse;\n",
       "  }\n",
       "  th, td {\n",
       "    padding: 5px;\n",
       "  }\n",
       "  th {\n",
       "    text-align: left;\n",
       "  }\n",
       "</style><div class='table-result-container'><table class='table-result'><thead style='background-color: white'><tr><th>ItemName</th><th>StockQty</th><th>ReorderLevel</th><th>StockStatus</th></tr></thead><tbody><tr><td>Laptop</td><td>10</td><td>15</td><td>LowStock</td></tr><tr><td>Refrigerator</td><td>5</td><td>10</td><td>LowStock</td></tr><tr><td>Printer</td><td>3</td><td>5</td><td>LowStock</td></tr></tbody></table></div>"
      ]
     },
     "metadata": {
      "application/vnd.databricks.v1+output": {
       "addedWidgets": {},
       "aggData": [],
       "aggError": "",
       "aggOverflow": false,
       "aggSchema": [],
       "aggSeriesLimitReached": false,
       "aggType": "",
       "arguments": {},
       "columnCustomDisplayInfos": {},
       "data": [
        [
         "Laptop",
         10,
         15,
         "LowStock"
        ],
        [
         "Refrigerator",
         5,
         10,
         "LowStock"
        ],
        [
         "Printer",
         3,
         5,
         "LowStock"
        ]
       ],
       "datasetInfos": [],
       "dbfsResultPath": null,
       "isJsonSchema": true,
       "metadata": {},
       "overflow": false,
       "plotOptions": {
        "customPlotOptions": {},
        "displayType": "table",
        "pivotAggregation": null,
        "pivotColumns": null,
        "xColumns": null,
        "yColumns": null
       },
       "removedWidgets": [],
       "schema": [
        {
         "metadata": "{}",
         "name": "ItemName",
         "type": "\"string\""
        },
        {
         "metadata": "{}",
         "name": "StockQty",
         "type": "\"integer\""
        },
        {
         "metadata": "{}",
         "name": "ReorderLevel",
         "type": "\"integer\""
        },
        {
         "metadata": "{}",
         "name": "StockStatus",
         "type": "\"string\""
        }
       ],
       "type": "table"
      }
     },
     "output_type": "display_data"
    }
   ],
   "source": [
    "# Using .filter()\n",
    "low_stock_filter = df_filtered.filter(df_filtered.StockStatus == \"LowStock\")\n",
    "display(low_stock_filter.select(\"ItemName\", \"StockQty\", \"ReorderLevel\", \"StockStatus\"))\n"
   ]
  },
  {
   "cell_type": "markdown",
   "metadata": {
    "application/vnd.databricks.v1+cell": {
     "cellMetadata": {},
     "inputWidgets": {},
     "nuid": "e31ee5fb-1cd0-4116-9d14-b79561b5db51",
     "showTitle": false,
     "tableResultSettingsMap": {},
     "title": ""
    }
   },
   "source": [
    "Scenario 9: Feature Engineering"
   ]
  },
  {
   "cell_type": "code",
   "execution_count": 0,
   "metadata": {
    "application/vnd.databricks.v1+cell": {
     "cellMetadata": {
      "byteLimit": 2048000,
      "rowLimit": 10000
     },
     "inputWidgets": {},
     "nuid": "2169c7be-8900-4349-b9df-e34a0b64aa8f",
     "showTitle": false,
     "tableResultSettingsMap": {},
     "title": ""
    }
   },
   "outputs": [
    {
     "output_type": "display_data",
     "data": {
      "text/html": [
       "<style scoped>\n",
       "  .table-result-container {\n",
       "    max-height: 300px;\n",
       "    overflow: auto;\n",
       "  }\n",
       "  table, th, td {\n",
       "    border: 1px solid black;\n",
       "    border-collapse: collapse;\n",
       "  }\n",
       "  th, td {\n",
       "    padding: 5px;\n",
       "  }\n",
       "  th {\n",
       "    text-align: left;\n",
       "  }\n",
       "</style><div class='table-result-container'><table class='table-result'><thead style='background-color: white'><tr><th>ItemName</th><th>LastRestocked</th><th>RestockMonth</th></tr></thead><tbody><tr><td>LED TV</td><td>2024-03-15</td><td>3</td></tr><tr><td>Laptop</td><td>2024-04-01</td><td>4</td></tr><tr><td>Office Chair</td><td>2024-03-25</td><td>3</td></tr><tr><td>Refrigerator</td><td>2024-02-20</td><td>2</td></tr><tr><td>Printer</td><td>2024-03-30</td><td>3</td></tr></tbody></table></div>"
      ]
     },
     "metadata": {
      "application/vnd.databricks.v1+output": {
       "addedWidgets": {},
       "aggData": [],
       "aggError": "",
       "aggOverflow": false,
       "aggSchema": [],
       "aggSeriesLimitReached": false,
       "aggType": "",
       "arguments": {},
       "columnCustomDisplayInfos": {},
       "data": [
        [
         "LED TV",
         "2024-03-15",
         3
        ],
        [
         "Laptop",
         "2024-04-01",
         4
        ],
        [
         "Office Chair",
         "2024-03-25",
         3
        ],
        [
         "Refrigerator",
         "2024-02-20",
         2
        ],
        [
         "Printer",
         "2024-03-30",
         3
        ]
       ],
       "datasetInfos": [],
       "dbfsResultPath": null,
       "isJsonSchema": true,
       "metadata": {},
       "overflow": false,
       "plotOptions": {
        "customPlotOptions": {},
        "displayType": "table",
        "pivotAggregation": null,
        "pivotColumns": null,
        "xColumns": null,
        "yColumns": null
       },
       "removedWidgets": [],
       "schema": [
        {
         "metadata": "{}",
         "name": "ItemName",
         "type": "\"string\""
        },
        {
         "metadata": "{\"__detected_date_formats\": \"yyyy-M-d\"}",
         "name": "LastRestocked",
         "type": "\"date\""
        },
        {
         "metadata": "{}",
         "name": "RestockMonth",
         "type": "\"integer\""
        }
       ],
       "type": "table"
      }
     },
     "output_type": "display_data"
    }
   ],
   "source": [
    "from pyspark.sql.functions import month\n",
    "\n",
    "df = df.withColumn(\"RestockMonth\", month(\"LastRestocked\"))\n",
    "display(df.select(\"ItemName\", \"LastRestocked\", \"RestockMonth\"))\n"
   ]
  },
  {
   "cell_type": "code",
   "execution_count": 0,
   "metadata": {
    "application/vnd.databricks.v1+cell": {
     "cellMetadata": {
      "byteLimit": 2048000,
      "rowLimit": 10000
     },
     "inputWidgets": {},
     "nuid": "9c96d735-bb83-4470-b219-5ac0398f9278",
     "showTitle": false,
     "tableResultSettingsMap": {},
     "title": ""
    }
   },
   "outputs": [
    {
     "output_type": "display_data",
     "data": {
      "text/html": [
       "<style scoped>\n",
       "  .table-result-container {\n",
       "    max-height: 300px;\n",
       "    overflow: auto;\n",
       "  }\n",
       "  table, th, td {\n",
       "    border: 1px solid black;\n",
       "    border-collapse: collapse;\n",
       "  }\n",
       "  th, td {\n",
       "    padding: 5px;\n",
       "  }\n",
       "  th {\n",
       "    text-align: left;\n",
       "  }\n",
       "</style><div class='table-result-container'><table class='table-result'><thead style='background-color: white'><tr><th>ItemName</th><th>LastRestocked</th><th>StockAge</th></tr></thead><tbody><tr><td>LED TV</td><td>2024-03-15</td><td>461</td></tr><tr><td>Laptop</td><td>2024-04-01</td><td>444</td></tr><tr><td>Office Chair</td><td>2024-03-25</td><td>451</td></tr><tr><td>Refrigerator</td><td>2024-02-20</td><td>485</td></tr><tr><td>Printer</td><td>2024-03-30</td><td>446</td></tr></tbody></table></div>"
      ]
     },
     "metadata": {
      "application/vnd.databricks.v1+output": {
       "addedWidgets": {},
       "aggData": [],
       "aggError": "",
       "aggOverflow": false,
       "aggSchema": [],
       "aggSeriesLimitReached": false,
       "aggType": "",
       "arguments": {},
       "columnCustomDisplayInfos": {},
       "data": [
        [
         "LED TV",
         "2024-03-15",
         461
        ],
        [
         "Laptop",
         "2024-04-01",
         444
        ],
        [
         "Office Chair",
         "2024-03-25",
         451
        ],
        [
         "Refrigerator",
         "2024-02-20",
         485
        ],
        [
         "Printer",
         "2024-03-30",
         446
        ]
       ],
       "datasetInfos": [],
       "dbfsResultPath": null,
       "isJsonSchema": true,
       "metadata": {},
       "overflow": false,
       "plotOptions": {
        "customPlotOptions": {},
        "displayType": "table",
        "pivotAggregation": null,
        "pivotColumns": null,
        "xColumns": null,
        "yColumns": null
       },
       "removedWidgets": [],
       "schema": [
        {
         "metadata": "{}",
         "name": "ItemName",
         "type": "\"string\""
        },
        {
         "metadata": "{\"__detected_date_formats\": \"yyyy-M-d\"}",
         "name": "LastRestocked",
         "type": "\"date\""
        },
        {
         "metadata": "{}",
         "name": "StockAge",
         "type": "\"integer\""
        }
       ],
       "type": "table"
      }
     },
     "output_type": "display_data"
    }
   ],
   "source": [
    "from pyspark.sql.functions import datediff, current_date\n",
    "\n",
    "df = df.withColumn(\"StockAge\", datediff(current_date(), \"LastRestocked\"))\n",
    "display(df.select(\"ItemName\", \"LastRestocked\", \"StockAge\"))\n"
   ]
  },
  {
   "cell_type": "code",
   "execution_count": 0,
   "metadata": {
    "application/vnd.databricks.v1+cell": {
     "cellMetadata": {
      "byteLimit": 2048000,
      "rowLimit": 10000
     },
     "inputWidgets": {},
     "nuid": "f8effd0a-77c6-48de-b4a8-dbffd686f5ad",
     "showTitle": false,
     "tableResultSettingsMap": {},
     "title": ""
    }
   },
   "outputs": [
    {
     "output_type": "display_data",
     "data": {
      "text/html": [
       "<style scoped>\n",
       "  .table-result-container {\n",
       "    max-height: 300px;\n",
       "    overflow: auto;\n",
       "  }\n",
       "  table, th, td {\n",
       "    border: 1px solid black;\n",
       "    border-collapse: collapse;\n",
       "  }\n",
       "  th, td {\n",
       "    padding: 5px;\n",
       "  }\n",
       "  th {\n",
       "    text-align: left;\n",
       "  }\n",
       "</style><div class='table-result-container'><table class='table-result'><thead style='background-color: white'><tr><th>ItemName</th><th>StockAge</th><th>StockCategory</th></tr></thead><tbody><tr><td>LED TV</td><td>461</td><td>Stale</td></tr><tr><td>Laptop</td><td>444</td><td>Stale</td></tr><tr><td>Office Chair</td><td>451</td><td>Stale</td></tr><tr><td>Refrigerator</td><td>485</td><td>Stale</td></tr><tr><td>Printer</td><td>446</td><td>Stale</td></tr></tbody></table></div>"
      ]
     },
     "metadata": {
      "application/vnd.databricks.v1+output": {
       "addedWidgets": {},
       "aggData": [],
       "aggError": "",
       "aggOverflow": false,
       "aggSchema": [],
       "aggSeriesLimitReached": false,
       "aggType": "",
       "arguments": {},
       "columnCustomDisplayInfos": {},
       "data": [
        [
         "LED TV",
         461,
         "Stale"
        ],
        [
         "Laptop",
         444,
         "Stale"
        ],
        [
         "Office Chair",
         451,
         "Stale"
        ],
        [
         "Refrigerator",
         485,
         "Stale"
        ],
        [
         "Printer",
         446,
         "Stale"
        ]
       ],
       "datasetInfos": [],
       "dbfsResultPath": null,
       "isJsonSchema": true,
       "metadata": {},
       "overflow": false,
       "plotOptions": {
        "customPlotOptions": {},
        "displayType": "table",
        "pivotAggregation": null,
        "pivotColumns": null,
        "xColumns": null,
        "yColumns": null
       },
       "removedWidgets": [],
       "schema": [
        {
         "metadata": "{}",
         "name": "ItemName",
         "type": "\"string\""
        },
        {
         "metadata": "{}",
         "name": "StockAge",
         "type": "\"integer\""
        },
        {
         "metadata": "{}",
         "name": "StockCategory",
         "type": "\"string\""
        }
       ],
       "type": "table"
      }
     },
     "output_type": "display_data"
    }
   ],
   "source": [
    "from pyspark.sql.functions import when\n",
    "\n",
    "df = df.withColumn(\n",
    "    \"StockCategory\",\n",
    "    when(df.StockAge <= 30, \"New\")\n",
    "    .when(df.StockAge <= 90, \"Moderate\")\n",
    "    .otherwise(\"Stale\")\n",
    ")\n",
    "\n",
    "display(df.select(\"ItemName\", \"StockAge\", \"StockCategory\"))\n"
   ]
  },
  {
   "cell_type": "markdown",
   "metadata": {
    "application/vnd.databricks.v1+cell": {
     "cellMetadata": {},
     "inputWidgets": {},
     "nuid": "70c40aa8-af86-4075-ab01-9a7627488bda",
     "showTitle": false,
     "tableResultSettingsMap": {},
     "title": ""
    }
   },
   "source": [
    "Scenario 10: Export Options"
   ]
  },
  {
   "cell_type": "code",
   "execution_count": 0,
   "metadata": {
    "application/vnd.databricks.v1+cell": {
     "cellMetadata": {
      "byteLimit": 2048000,
      "rowLimit": 10000
     },
     "inputWidgets": {},
     "nuid": "b21da044-16e8-4c4f-8f10-156b94fee47b",
     "showTitle": false,
     "tableResultSettingsMap": {},
     "title": ""
    }
   },
   "outputs": [],
   "source": [
    "df.write.mode(\"overwrite\") \\\n",
    "  .option(\"header\", True) \\\n",
    "  .csv(\"/Volumes/workspace/default/nithyashree/export/inventory/for_analysts\")\n"
   ]
  },
  {
   "cell_type": "code",
   "execution_count": 0,
   "metadata": {
    "application/vnd.databricks.v1+cell": {
     "cellMetadata": {
      "byteLimit": 2048000,
      "rowLimit": 10000
     },
     "inputWidgets": {},
     "nuid": "24ec2881-1023-4806-a671-1a90c0bcde65",
     "showTitle": false,
     "tableResultSettingsMap": {},
     "title": ""
    }
   },
   "outputs": [],
   "source": [
    "df.write.mode(\"overwrite\") \\\n",
    "  .json(\"/Volumes/workspace/default/nithyashree/export/inventory/integration_json\")\n"
   ]
  },
  {
   "cell_type": "code",
   "execution_count": 0,
   "metadata": {
    "application/vnd.databricks.v1+cell": {
     "cellMetadata": {
      "byteLimit": 2048000,
      "rowLimit": 10000
     },
     "inputWidgets": {},
     "nuid": "1db37563-37c3-4e8b-b4ed-2b2d6fd61a30",
     "showTitle": false,
     "tableResultSettingsMap": {},
     "title": ""
    }
   },
   "outputs": [],
   "source": [
    "df.write.format(\"delta\") \\\n",
    "  .mode(\"overwrite\") \\\n",
    "  .partitionBy(\"Warehouse\") \\\n",
    "  .save(\"/Volumes/workspace/default/nithyashree/export/inventory/pipeline_delta\")\n"
   ]
  }
 ],
 "metadata": {
  "application/vnd.databricks.v1+notebook": {
   "computePreferences": null,
   "dashboards": [],
   "environmentMetadata": {
    "base_environment": "",
    "environment_version": "2"
   },
   "inputWidgetPreferences": null,
   "language": "python",
   "notebookMetadata": {
    "mostRecentlyExecutedCommandWithImplicitDF": {
     "commandId": 5425947301149907,
     "dataframes": [
      "_sqldf"
     ]
    },
    "pythonIndentUnit": 4
   },
   "notebookName": "Set3_Solution",
   "widgets": {}
  },
  "language_info": {
   "name": "python"
  }
 },
 "nbformat": 4,
 "nbformat_minor": 0
}