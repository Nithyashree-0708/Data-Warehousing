{
  "cells": [
    {
      "cell_type": "markdown",
      "id": "5d9a70f8",
      "metadata": {
        "id": "5d9a70f8"
      },
      "source": [
        "**#  Customer Orders Analysis using PySpark**"
      ]
    },
    {
      "cell_type": "code",
      "execution_count": 1,
      "id": "6f38d713",
      "metadata": {
        "id": "6f38d713"
      },
      "outputs": [],
      "source": [
        "from pyspark.sql import SparkSession\n",
        "from pyspark.sql.functions import col, expr, count, avg, desc, sum\n",
        "from pyspark.sql.types import DateType\n",
        "\n",
        "# 1. Spark session\n",
        "spark = SparkSession.builder.appName(\"Customer Orders Analysis\").getOrCreate()\n",
        "\n",
        "# 2. Load CSV files\n",
        "df_customers = spark.read.option(\"header\", \"true\").option(\"inferSchema\", \"true\").csv(\"customers.csv\")\n",
        "df_orders = spark.read.option(\"header\", \"true\").option(\"inferSchema\", \"true\").csv(\"orders.csv\")\n"
      ]
    },
    {
      "cell_type": "code",
      "execution_count": 2,
      "id": "8a8b2496",
      "metadata": {
        "colab": {
          "base_uri": "https://localhost:8080/"
        },
        "id": "8a8b2496",
        "outputId": "ddb4a595-f868-4cc4-f595-08cb48f82f41"
      },
      "outputs": [
        {
          "output_type": "stream",
          "name": "stdout",
          "text": [
            "root\n",
            " |-- CustomerID: integer (nullable = true)\n",
            " |-- Name: string (nullable = true)\n",
            " |-- City: string (nullable = true)\n",
            " |-- Age: integer (nullable = true)\n",
            "\n",
            "root\n",
            " |-- OrderID: integer (nullable = true)\n",
            " |-- CustomerID: integer (nullable = true)\n",
            " |-- Product: string (nullable = true)\n",
            " |-- Quantity: integer (nullable = true)\n",
            " |-- Price: integer (nullable = true)\n",
            " |-- OrderDate: date (nullable = true)\n",
            "\n"
          ]
        }
      ],
      "source": [
        "# 3. Print schema\n",
        "df_customers.printSchema()\n",
        "df_orders.printSchema()\n"
      ]
    },
    {
      "cell_type": "code",
      "execution_count": 3,
      "id": "3f0abb53",
      "metadata": {
        "id": "3f0abb53"
      },
      "outputs": [],
      "source": [
        "# 4. Add TotalAmount = Quantity * Price\n",
        "df_orders = df_orders.withColumn(\"TotalAmount\", col(\"Quantity\") * col(\"Price\"))\n",
        "\n",
        "# 5. Join on CustomerID\n",
        "df_joined = df_orders.join(df_customers, on=\"CustomerID\", how=\"inner\")\n"
      ]
    },
    {
      "cell_type": "code",
      "execution_count": 4,
      "id": "66565dc3",
      "metadata": {
        "colab": {
          "base_uri": "https://localhost:8080/"
        },
        "id": "66565dc3",
        "outputId": "b3cd3190-0b79-42bc-9b4f-9352a69423c0"
      },
      "outputs": [
        {
          "output_type": "stream",
          "name": "stdout",
          "text": [
            "+----------+-------+-------+--------+-----+----------+-----------+-----+------+---+\n",
            "|CustomerID|OrderID|Product|Quantity|Price| OrderDate|TotalAmount| Name|  City|Age|\n",
            "+----------+-------+-------+--------+-----+----------+-----------+-----+------+---+\n",
            "|       101|   1001| Laptop|       1|70000|2024-01-05|      70000|Aditi|Mumbai| 28|\n",
            "|       102|   1002| Mobile|       2|25000|2024-02-10|      50000|Rohan| Delhi| 35|\n",
            "+----------+-------+-------+--------+-----+----------+-----------+-----+------+---+\n",
            "\n"
          ]
        }
      ],
      "source": [
        "# 6. Filter orders where TotalAmount > 20000\n",
        "high_value_orders = df_joined.filter(col(\"TotalAmount\") > 20000)\n",
        "high_value_orders.show()\n"
      ]
    },
    {
      "cell_type": "code",
      "execution_count": 5,
      "id": "20a5e8ae",
      "metadata": {
        "colab": {
          "base_uri": "https://localhost:8080/"
        },
        "id": "20a5e8ae",
        "outputId": "a8db3e45-5c66-4d69-8ab2-4ce6ea9d2b87"
      },
      "outputs": [
        {
          "output_type": "stream",
          "name": "stdout",
          "text": [
            "+----------+-----+-----+\n",
            "|CustomerID| Name|count|\n",
            "+----------+-----+-----+\n",
            "|       101|Aditi|    2|\n",
            "+----------+-----+-----+\n",
            "\n"
          ]
        }
      ],
      "source": [
        "# 7. Customers with more than 1 order\n",
        "multiple_orders = df_joined.groupBy(\"CustomerID\", \"Name\").count().filter(col(\"count\") > 1)\n",
        "multiple_orders.show()\n"
      ]
    },
    {
      "cell_type": "code",
      "execution_count": 6,
      "id": "6d3cad49",
      "metadata": {
        "colab": {
          "base_uri": "https://localhost:8080/"
        },
        "id": "6d3cad49",
        "outputId": "b7612982-e005-4cbd-aaa8-d9e02855cc33"
      },
      "outputs": [
        {
          "output_type": "stream",
          "name": "stdout",
          "text": [
            "+---------+-----------------+\n",
            "|     City|AverageOrderValue|\n",
            "+---------+-----------------+\n",
            "|Bangalore|          10000.0|\n",
            "|   Mumbai|          36500.0|\n",
            "|    Delhi|          50000.0|\n",
            "|Hyderabad|          12000.0|\n",
            "+---------+-----------------+\n",
            "\n"
          ]
        }
      ],
      "source": [
        "# 8. Average order value by City\n",
        "avg_order_city = df_joined.groupBy(\"City\").agg(avg(\"TotalAmount\").alias(\"AverageOrderValue\"))\n",
        "avg_order_city.show()\n"
      ]
    },
    {
      "cell_type": "code",
      "execution_count": 7,
      "id": "d932037a",
      "metadata": {
        "colab": {
          "base_uri": "https://localhost:8080/"
        },
        "id": "d932037a",
        "outputId": "3ec6e946-e83c-45d5-ca23-4b84173c22f4"
      },
      "outputs": [
        {
          "output_type": "stream",
          "name": "stdout",
          "text": [
            "+----------+-------+-------+--------+-----+----------+-----------+-----+---------+---+\n",
            "|CustomerID|OrderID|Product|Quantity|Price| OrderDate|TotalAmount| Name|     City|Age|\n",
            "+----------+-------+-------+--------+-----+----------+-----------+-----+---------+---+\n",
            "|       104|   1005|Monitor|       1|12000|2024-04-25|      12000|Kabir|Hyderabad| 30|\n",
            "|       101|   1004|  Mouse|       3| 1000|2024-04-01|       3000|Aditi|   Mumbai| 28|\n",
            "|       103|   1003|   Desk|       1|10000|2024-03-15|      10000|Meena|Bangalore| 41|\n",
            "|       102|   1002| Mobile|       2|25000|2024-02-10|      50000|Rohan|    Delhi| 35|\n",
            "|       101|   1001| Laptop|       1|70000|2024-01-05|      70000|Aditi|   Mumbai| 28|\n",
            "+----------+-------+-------+--------+-----+----------+-----------+-----+---------+---+\n",
            "\n"
          ]
        }
      ],
      "source": [
        "# 9. Sort by OrderDate descending\n",
        "df_joined = df_joined.withColumn(\"OrderDate\", col(\"OrderDate\").cast(DateType()))\n",
        "sorted_orders = df_joined.orderBy(col(\"OrderDate\").desc())\n",
        "sorted_orders.show()\n"
      ]
    },
    {
      "cell_type": "code",
      "execution_count": 8,
      "id": "ab18d59a",
      "metadata": {
        "id": "ab18d59a"
      },
      "outputs": [],
      "source": [
        "# 10. Write as Parquet partitioned by City\n",
        "sorted_orders.write.mode(\"overwrite\").partitionBy(\"City\").parquet(\"customer_orders_parquet\")\n"
      ]
    },
    {
      "cell_type": "code",
      "execution_count": 9,
      "id": "8696acf3",
      "metadata": {
        "colab": {
          "base_uri": "https://localhost:8080/"
        },
        "id": "8696acf3",
        "outputId": "5b8e3e70-f069-4230-b295-aa50176ca120"
      },
      "outputs": [
        {
          "output_type": "stream",
          "name": "stdout",
          "text": [
            "+-----+----------+\n",
            "| Name|TotalSales|\n",
            "+-----+----------+\n",
            "|Aditi|     73000|\n",
            "|Rohan|     50000|\n",
            "|Kabir|     12000|\n",
            "|Meena|     10000|\n",
            "+-----+----------+\n",
            "\n",
            "+---------+------------+\n",
            "|     City|ProductCount|\n",
            "+---------+------------+\n",
            "|Bangalore|           1|\n",
            "|   Mumbai|           2|\n",
            "|    Delhi|           1|\n",
            "|Hyderabad|           1|\n",
            "+---------+------------+\n",
            "\n",
            "+------+-------+\n",
            "|  City|Revenue|\n",
            "+------+-------+\n",
            "|Mumbai|  73000|\n",
            "| Delhi|  50000|\n",
            "+------+-------+\n",
            "\n"
          ]
        }
      ],
      "source": [
        "# 11. Create temp view\n",
        "df_joined.createOrReplaceTempView(\"orders_view\")\n",
        "\n",
        "# i. Total sales by customer\n",
        "spark.sql(\"\"\"\n",
        "SELECT Name, SUM(TotalAmount) AS TotalSales\n",
        "FROM orders_view\n",
        "GROUP BY Name\n",
        "ORDER BY TotalSales DESC\n",
        "\"\"\").show()\n",
        "\n",
        "# ii. Count of products per city\n",
        "spark.sql(\"\"\"\n",
        "SELECT City, COUNT(*) AS ProductCount\n",
        "FROM orders_view\n",
        "GROUP BY City\n",
        "\"\"\").show()\n",
        "\n",
        "# iii. Top 2 cities by revenue\n",
        "spark.sql(\"\"\"\n",
        "SELECT City, SUM(TotalAmount) AS Revenue\n",
        "FROM orders_view\n",
        "GROUP BY City\n",
        "ORDER BY Revenue DESC\n",
        "LIMIT 2\n",
        "\"\"\").show()\n"
      ]
    }
  ],
  "metadata": {
    "colab": {
      "provenance": []
    },
    "language_info": {
      "name": "python"
    },
    "kernelspec": {
      "name": "python3",
      "display_name": "Python 3"
    }
  },
  "nbformat": 4,
  "nbformat_minor": 5
}