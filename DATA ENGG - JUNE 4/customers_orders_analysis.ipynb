{
  "cells": [
    {
      "cell_type": "code",
      "metadata": {
        "colab": {
          "base_uri": "https://localhost:8080/"
        },
        "id": "pJC808QLfc_v",
        "outputId": "2f388dbe-8c5b-4f5b-f344-4b1f7f57ff8e"
      },
      "source": [
        "from pyspark.sql import SparkSession\n",
        "from pyspark.sql.functions import expr, when, col, year, lit, concat_ws, regexp_replace, to_date, datediff, udf\n",
        "from pyspark.sql.types import StringType\n",
        "\n",
        "spark = SparkSession.builder.appName(\"PracticeProject\").enableHiveSupport().getOrCreate()\n",
        "\n",
        "# Create schema if not exists\n",
        "spark.sql(\"CREATE DATABASE IF NOT EXISTS sales\")"
      ],
      "id": "pJC808QLfc_v",
      "execution_count": null,
      "outputs": [
        {
          "output_type": "execute_result",
          "data": {
            "text/plain": [
              "DataFrame[]"
            ]
          },
          "metadata": {},
          "execution_count": 1
        }
      ]
    },
    {
      "cell_type": "code",
      "metadata": {
        "id": "s-AQ_Hqofc_y"
      },
      "source": [
        "# Customers data with names and cities\n",
        "customers_data = [\n",
        "    (101, 'nithya', 'nithya@gmail.com', 'Chennai', '2022-05-10'),\n",
        "    (102, 'mani', 'mani@yahoo.com', 'Delhi', '2023-01-15'),\n",
        "    (103, 'gopal', 'gopal@hotmail.com', 'Bengaluru', '2021-11-01'),\n",
        "    (104, 'shakthi', 'shakthi@outlook.com', 'Hyderabad', '2020-07-22'),\n",
        "    (105, 'Jeevan', 'jeevan@gmail.com', 'Coimbatore', '2023-03-10'),\n",
        "]\n",
        "\n",
        "orders_data = [\n",
        "    (1, 101, 'Laptop', 'Electronics', 2, 50000.0, '2024-01-10'),\n",
        "    (2, 101, 'Mouse', 'Electronics', 1, 1200.0, '2024-01-15'),\n",
        "    (3, 102, 'Tablet', 'Electronics', 1, 20000.0, '2024-02-01'),\n",
        "    (4, 103, 'Bookshelf', 'Furniture', 1, 3500.0, '2024-02-10'),\n",
        "    (5, 104, 'Mixer', 'Appliances', 1, 5000.0, '2024-02-15'),\n",
        "    (6, 105, 'Notebook', 'Stationery', 5, 500.0, '2024-03-01'),\n",
        "    (7, 102, 'Phone', 'Electronics', 1, 30000.0, '2024-03-02'),\n",
        "]\n",
        "\n",
        "customers_df = spark.createDataFrame(customers_data, [\"CustomerID\", \"Name\", \"Email\", \"City\", \"SignupDate\"])\n",
        "orders_df = spark.createDataFrame(orders_data, [\"OrderID\", \"CustomerID\", \"Product\", \"Category\", \"Quantity\", \"Price\", \"OrderDate\"])\n",
        "\n",
        "# Save as Hive tables\n",
        "customers_df.write.mode(\"overwrite\").saveAsTable(\"sales.customers\")\n",
        "orders_df.write.mode(\"overwrite\").saveAsTable(\"sales.orders\")"
      ],
      "id": "s-AQ_Hqofc_y",
      "execution_count": null,
      "outputs": []
    },
    {
      "cell_type": "markdown",
      "source": [
        "# **SECTION A: PySpark DataFrame Tasks**\n"
      ],
      "metadata": {
        "id": "liSdo-4sjVrr"
      },
      "id": "liSdo-4sjVrr"
    },
    {
      "cell_type": "code",
      "metadata": {
        "colab": {
          "base_uri": "https://localhost:8080/"
        },
        "id": "2-TEq-c0fc_y",
        "outputId": "eceddbad-afa0-4617-e9b9-361293efcef2"
      },
      "source": [
        "# 1. Add TotalAmount column to orders_df\n",
        "orders_df = orders_df.withColumn(\"TotalAmount\", col(\"Quantity\") * col(\"Price\"))\n",
        "orders_df.show()"
      ],
      "id": "2-TEq-c0fc_y",
      "execution_count": null,
      "outputs": [
        {
          "output_type": "stream",
          "name": "stdout",
          "text": [
            "+-------+----------+---------+-----------+--------+-------+----------+-----------+\n",
            "|OrderID|CustomerID|  Product|   Category|Quantity|  Price| OrderDate|TotalAmount|\n",
            "+-------+----------+---------+-----------+--------+-------+----------+-----------+\n",
            "|      1|       101|   Laptop|Electronics|       2|50000.0|2024-01-10|   100000.0|\n",
            "|      2|       101|    Mouse|Electronics|       1| 1200.0|2024-01-15|     1200.0|\n",
            "|      3|       102|   Tablet|Electronics|       1|20000.0|2024-02-01|    20000.0|\n",
            "|      4|       103|Bookshelf|  Furniture|       1| 3500.0|2024-02-10|     3500.0|\n",
            "|      5|       104|    Mixer| Appliances|       1| 5000.0|2024-02-15|     5000.0|\n",
            "|      6|       105| Notebook| Stationery|       5|  500.0|2024-03-01|     2500.0|\n",
            "|      7|       102|    Phone|Electronics|       1|30000.0|2024-03-02|    30000.0|\n",
            "+-------+----------+---------+-----------+--------+-------+----------+-----------+\n",
            "\n"
          ]
        }
      ]
    },
    {
      "cell_type": "code",
      "metadata": {
        "colab": {
          "base_uri": "https://localhost:8080/"
        },
        "id": "vi-tooyVfc_z",
        "outputId": "b0325e85-dc82-4af3-f4d4-ecc3a5bcc92c"
      },
      "source": [
        "# 2. Filter orders with TotalAmount > 10000\n",
        "orders_df.filter(col(\"TotalAmount\") > 10000).show()"
      ],
      "id": "vi-tooyVfc_z",
      "execution_count": null,
      "outputs": [
        {
          "output_type": "stream",
          "name": "stdout",
          "text": [
            "+-------+----------+-------+-----------+--------+-------+----------+-----------+\n",
            "|OrderID|CustomerID|Product|   Category|Quantity|  Price| OrderDate|TotalAmount|\n",
            "+-------+----------+-------+-----------+--------+-------+----------+-----------+\n",
            "|      1|       101| Laptop|Electronics|       2|50000.0|2024-01-10|   100000.0|\n",
            "|      3|       102| Tablet|Electronics|       1|20000.0|2024-02-01|    20000.0|\n",
            "|      7|       102|  Phone|Electronics|       1|30000.0|2024-03-02|    30000.0|\n",
            "+-------+----------+-------+-----------+--------+-------+----------+-----------+\n",
            "\n"
          ]
        }
      ]
    },
    {
      "cell_type": "code",
      "metadata": {
        "colab": {
          "base_uri": "https://localhost:8080/"
        },
        "id": "MljvA6eifc_z",
        "outputId": "cf6bebe6-972c-456f-d45d-0fe9ba7122e1"
      },
      "source": [
        "# 3. Standardize City to lowercase in customers_df\n",
        "customers_df = customers_df.withColumn(\"City\", expr(\"lower(City)\"))\n",
        "customers_df.show()"
      ],
      "id": "MljvA6eifc_z",
      "execution_count": null,
      "outputs": [
        {
          "output_type": "stream",
          "name": "stdout",
          "text": [
            "+----------+-------+-------------------+----------+----------+\n",
            "|CustomerID|   Name|              Email|      City|SignupDate|\n",
            "+----------+-------+-------------------+----------+----------+\n",
            "|       101| nithya|   nithya@gmail.com|   chennai|2022-05-10|\n",
            "|       102|   mani|     mani@yahoo.com|     delhi|2023-01-15|\n",
            "|       103|  gopal|  gopal@hotmail.com| bengaluru|2021-11-01|\n",
            "|       104|shakthi|shakthi@outlook.com| hyderabad|2020-07-22|\n",
            "|       105| Jeevan|   jeevan@gmail.com|coimbatore|2023-03-10|\n",
            "+----------+-------+-------------------+----------+----------+\n",
            "\n"
          ]
        }
      ]
    },
    {
      "cell_type": "code",
      "metadata": {
        "colab": {
          "base_uri": "https://localhost:8080/"
        },
        "id": "tt-JZlI4fc_z",
        "outputId": "fbd58a93-2c63-409e-b548-77c6f848ca5d"
      },
      "source": [
        "# 4. Extract year from OrderDate as OrderYear\n",
        "orders_df = orders_df.withColumn(\"OrderYear\", year(to_date(col(\"OrderDate\"))))\n",
        "orders_df.show()"
      ],
      "id": "tt-JZlI4fc_z",
      "execution_count": null,
      "outputs": [
        {
          "output_type": "stream",
          "name": "stdout",
          "text": [
            "+-------+----------+---------+-----------+--------+-------+----------+-----------+---------+\n",
            "|OrderID|CustomerID|  Product|   Category|Quantity|  Price| OrderDate|TotalAmount|OrderYear|\n",
            "+-------+----------+---------+-----------+--------+-------+----------+-----------+---------+\n",
            "|      1|       101|   Laptop|Electronics|       2|50000.0|2024-01-10|   100000.0|     2024|\n",
            "|      2|       101|    Mouse|Electronics|       1| 1200.0|2024-01-15|     1200.0|     2024|\n",
            "|      3|       102|   Tablet|Electronics|       1|20000.0|2024-02-01|    20000.0|     2024|\n",
            "|      4|       103|Bookshelf|  Furniture|       1| 3500.0|2024-02-10|     3500.0|     2024|\n",
            "|      5|       104|    Mixer| Appliances|       1| 5000.0|2024-02-15|     5000.0|     2024|\n",
            "|      6|       105| Notebook| Stationery|       5|  500.0|2024-03-01|     2500.0|     2024|\n",
            "|      7|       102|    Phone|Electronics|       1|30000.0|2024-03-02|    30000.0|     2024|\n",
            "+-------+----------+---------+-----------+--------+-------+----------+-----------+---------+\n",
            "\n"
          ]
        }
      ]
    },
    {
      "cell_type": "code",
      "metadata": {
        "colab": {
          "base_uri": "https://localhost:8080/"
        },
        "id": "V4yUEH1yfc_z",
        "outputId": "f526b4dc-b576-47af-c459-791757df45f2"
      },
      "source": [
        "# 5. Fill nulls in Email with default email 'unknown@example.com' (example)\n",
        "customers_df = customers_df.na.fill({\"Email\": \"unknown@example.com\"})\n",
        "customers_df.show()"
      ],
      "id": "V4yUEH1yfc_z",
      "execution_count": null,
      "outputs": [
        {
          "output_type": "stream",
          "name": "stdout",
          "text": [
            "+----------+-------+-------------------+----------+----------+\n",
            "|CustomerID|   Name|              Email|      City|SignupDate|\n",
            "+----------+-------+-------------------+----------+----------+\n",
            "|       101| nithya|   nithya@gmail.com|   chennai|2022-05-10|\n",
            "|       102|   mani|     mani@yahoo.com|     delhi|2023-01-15|\n",
            "|       103|  gopal|  gopal@hotmail.com| bengaluru|2021-11-01|\n",
            "|       104|shakthi|shakthi@outlook.com| hyderabad|2020-07-22|\n",
            "|       105| Jeevan|   jeevan@gmail.com|coimbatore|2023-03-10|\n",
            "+----------+-------+-------------------+----------+----------+\n",
            "\n"
          ]
        }
      ]
    },
    {
      "cell_type": "code",
      "metadata": {
        "colab": {
          "base_uri": "https://localhost:8080/"
        },
        "id": "iC2DqbLIfc_0",
        "outputId": "ed3afacf-7819-4f34-df40-878d32f62445"
      },
      "source": [
        "# 6. Categorize orders using when/otherwise on TotalAmount\n",
        "orders_df = orders_df.withColumn(\"AmountCategory\",\n",
        "    when(col(\"TotalAmount\") < 5000, \"Low\")\n",
        "    .when((col(\"TotalAmount\") >= 5000) & (col(\"TotalAmount\") <= 20000), \"Medium\")\n",
        "    .otherwise(\"High\")\n",
        ")\n",
        "orders_df.show()"
      ],
      "id": "iC2DqbLIfc_0",
      "execution_count": null,
      "outputs": [
        {
          "output_type": "stream",
          "name": "stdout",
          "text": [
            "+-------+----------+---------+-----------+--------+-------+----------+-----------+---------+--------------+\n",
            "|OrderID|CustomerID|  Product|   Category|Quantity|  Price| OrderDate|TotalAmount|OrderYear|AmountCategory|\n",
            "+-------+----------+---------+-----------+--------+-------+----------+-----------+---------+--------------+\n",
            "|      1|       101|   Laptop|Electronics|       2|50000.0|2024-01-10|   100000.0|     2024|          High|\n",
            "|      2|       101|    Mouse|Electronics|       1| 1200.0|2024-01-15|     1200.0|     2024|           Low|\n",
            "|      3|       102|   Tablet|Electronics|       1|20000.0|2024-02-01|    20000.0|     2024|        Medium|\n",
            "|      4|       103|Bookshelf|  Furniture|       1| 3500.0|2024-02-10|     3500.0|     2024|           Low|\n",
            "|      5|       104|    Mixer| Appliances|       1| 5000.0|2024-02-15|     5000.0|     2024|        Medium|\n",
            "|      6|       105| Notebook| Stationery|       5|  500.0|2024-03-01|     2500.0|     2024|           Low|\n",
            "|      7|       102|    Phone|Electronics|       1|30000.0|2024-03-02|    30000.0|     2024|          High|\n",
            "+-------+----------+---------+-----------+--------+-------+----------+-----------+---------+--------------+\n",
            "\n"
          ]
        }
      ]
    },
    {
      "cell_type": "markdown",
      "source": [
        "# SECTION B: Spark SQL **Tasks**"
      ],
      "metadata": {
        "id": "spnltXgpjSKn"
      },
      "id": "spnltXgpjSKn"
    },
    {
      "cell_type": "code",
      "metadata": {
        "colab": {
          "base_uri": "https://localhost:8080/"
        },
        "id": "vm4Xr5zJfc_0",
        "outputId": "0af3e0e9-397e-41be-886d-9c789fa161b6"
      },
      "source": [
        "# 7. List all orders made by \"Mani\"\n",
        "customers_df.createOrReplaceTempView(\"customers_temp\")\n",
        "orders_df.createOrReplaceTempView(\"orders_temp\")\n",
        "\n",
        "spark.sql(\"\"\"\n",
        "SELECT o.*\n",
        "FROM customers_temp c\n",
        "JOIN orders_temp o ON c.CustomerID = o.CustomerID\n",
        "WHERE c.Name = 'Mani'\n",
        "\"\"\").show()"
      ],
      "id": "vm4Xr5zJfc_0",
      "execution_count": null,
      "outputs": [
        {
          "output_type": "stream",
          "name": "stdout",
          "text": [
            "+-------+----------+-------+--------+--------+-----+---------+-----------+---------+--------------+\n",
            "|OrderID|CustomerID|Product|Category|Quantity|Price|OrderDate|TotalAmount|OrderYear|AmountCategory|\n",
            "+-------+----------+-------+--------+--------+-----+---------+-----------+---------+--------------+\n",
            "+-------+----------+-------+--------+--------+-----+---------+-----------+---------+--------------+\n",
            "\n"
          ]
        }
      ]
    },
    {
      "cell_type": "code",
      "metadata": {
        "colab": {
          "base_uri": "https://localhost:8080/"
        },
        "id": "LHDdkz9Afc_0",
        "outputId": "cd183dbc-c012-4e21-8dc8-c9000bfd4ebc"
      },
      "source": [
        "# 8. Total spending by each customer (compute TotalAmount in SQL)\n",
        "spark.sql(\"\"\"\n",
        "SELECT c.Name, SUM(o.Quantity * o.Price) AS TotalSpending\n",
        "FROM sales.customers c\n",
        "JOIN sales.orders o ON c.CustomerID = o.CustomerID\n",
        "GROUP BY c.Name\n",
        "\"\"\").show()"
      ],
      "id": "LHDdkz9Afc_0",
      "execution_count": null,
      "outputs": [
        {
          "output_type": "stream",
          "name": "stdout",
          "text": [
            "+-------+-------------+\n",
            "|   Name|TotalSpending|\n",
            "+-------+-------------+\n",
            "|   mani|      50000.0|\n",
            "| nithya|     101200.0|\n",
            "| Jeevan|       2500.0|\n",
            "|  gopal|       3500.0|\n",
            "|shakthi|       5000.0|\n",
            "+-------+-------------+\n",
            "\n"
          ]
        }
      ]
    },
    {
      "cell_type": "code",
      "metadata": {
        "colab": {
          "base_uri": "https://localhost:8080/"
        },
        "id": "vAk40C6rfc_0",
        "outputId": "b8959e3a-c2cc-404b-abc8-d6cc41f5caaa"
      },
      "source": [
        "# 9. Category with highest total revenue (compute in SQL)\n",
        "spark.sql(\"\"\"\n",
        "SELECT Category, SUM(Quantity * Price) AS TotalRevenue\n",
        "FROM sales.orders\n",
        "GROUP BY Category\n",
        "ORDER BY TotalRevenue DESC\n",
        "LIMIT 1\n",
        "\"\"\").show()"
      ],
      "id": "vAk40C6rfc_0",
      "execution_count": null,
      "outputs": [
        {
          "output_type": "stream",
          "name": "stdout",
          "text": [
            "+-----------+------------+\n",
            "|   Category|TotalRevenue|\n",
            "+-----------+------------+\n",
            "|Electronics|    151200.0|\n",
            "+-----------+------------+\n",
            "\n"
          ]
        }
      ]
    },
    {
      "cell_type": "code",
      "metadata": {
        "colab": {
          "base_uri": "https://localhost:8080/"
        },
        "id": "M1VGzKoxfc_0",
        "outputId": "b2508d7e-fa03-4ada-bd18-401948b596e2"
      },
      "source": [
        "# 10. Create view customer_orders (CustomerName, Product, TotalAmount)\n",
        "spark.sql(\"\"\"\n",
        "CREATE OR REPLACE VIEW sales.customer_orders AS\n",
        "SELECT c.Name AS CustomerName, o.Product, (o.Quantity * o.Price) AS TotalAmount\n",
        "FROM sales.customers c\n",
        "JOIN sales.orders o ON c.CustomerID = o.CustomerID\n",
        "\"\"\")"
      ],
      "id": "M1VGzKoxfc_0",
      "execution_count": null,
      "outputs": [
        {
          "output_type": "execute_result",
          "data": {
            "text/plain": [
              "DataFrame[]"
            ]
          },
          "metadata": {},
          "execution_count": 12
        }
      ]
    },
    {
      "cell_type": "code",
      "metadata": {
        "colab": {
          "base_uri": "https://localhost:8080/"
        },
        "id": "TfzCqN6Bfc_0",
        "outputId": "2294852f-c27b-421b-ed1a-63ec6e8e9202"
      },
      "source": [
        "# 11. Query the view for products ordered after Feb 2024\n",
        "spark.sql(\"\"\"\n",
        "SELECT *\n",
        "FROM sales.customer_orders co\n",
        "JOIN sales.orders o ON co.Product = o.Product\n",
        "WHERE o.OrderDate > '2024-02-01'\n",
        "\"\"\").show()"
      ],
      "id": "TfzCqN6Bfc_0",
      "execution_count": null,
      "outputs": [
        {
          "output_type": "stream",
          "name": "stdout",
          "text": [
            "+------------+---------+-----------+-------+----------+---------+-----------+--------+-------+----------+\n",
            "|CustomerName|  Product|TotalAmount|OrderID|CustomerID|  Product|   Category|Quantity|  Price| OrderDate|\n",
            "+------------+---------+-----------+-------+----------+---------+-----------+--------+-------+----------+\n",
            "|       gopal|Bookshelf|     3500.0|      4|       103|Bookshelf|  Furniture|       1| 3500.0|2024-02-10|\n",
            "|     shakthi|    Mixer|     5000.0|      5|       104|    Mixer| Appliances|       1| 5000.0|2024-02-15|\n",
            "|      Jeevan| Notebook|     2500.0|      6|       105| Notebook| Stationery|       5|  500.0|2024-03-01|\n",
            "|        mani|    Phone|    30000.0|      7|       102|    Phone|Electronics|       1|30000.0|2024-03-02|\n",
            "+------------+---------+-----------+-------+----------+---------+-----------+--------+-------+----------+\n",
            "\n"
          ]
        }
      ]
    },
    {
      "cell_type": "markdown",
      "source": [
        "# **SECTION C: Advanced Practice**"
      ],
      "metadata": {
        "id": "0TkHOB_QjNCu"
      },
      "id": "0TkHOB_QjNCu"
    },
    {
      "cell_type": "code",
      "metadata": {
        "colab": {
          "base_uri": "https://localhost:8080/"
        },
        "id": "qSOAVyttfc_1",
        "outputId": "120e4dda-5717-4037-da8c-68594959d9a4"
      },
      "source": [
        "# 12. Global temp view from customers_df and query Mumbai customers\n",
        "customers_df.createGlobalTempView(\"customers\")\n",
        "spark.sql(\"\"\"\n",
        "SELECT * FROM global_temp.customers WHERE City = 'mumbai'\n",
        "\"\"\").show()"
      ],
      "id": "qSOAVyttfc_1",
      "execution_count": null,
      "outputs": [
        {
          "output_type": "stream",
          "name": "stdout",
          "text": [
            "+----------+----+-----+----+----------+\n",
            "|CustomerID|Name|Email|City|SignupDate|\n",
            "+----------+----+-----+----+----------+\n",
            "+----------+----+-----+----+----------+\n",
            "\n"
          ]
        }
      ]
    },
    {
      "cell_type": "code",
      "metadata": {
        "id": "cvvYn3qefc_1"
      },
      "source": [
        "# 13. Save transformed orders_df with TotalAmount as Parquet\n",
        "orders_df.write.mode(\"overwrite\").parquet(\"/tmp/orders_with_total.parquet\")"
      ],
      "id": "cvvYn3qefc_1",
      "execution_count": null,
      "outputs": []
    },
    {
      "cell_type": "code",
      "metadata": {
        "id": "QmIiKFANfc_1",
        "colab": {
          "base_uri": "https://localhost:8080/"
        },
        "outputId": "8ffc4086-4f23-44b1-8f7d-d7f08900fe7a"
      },
      "source": [
        "# 14. Read back Parquet and count orders\n",
        "parquet_df = spark.read.parquet(\"/tmp/orders_with_total.parquet\")\n",
        "print(f\"Total orders in parquet file: {parquet_df.count()}\")"
      ],
      "id": "QmIiKFANfc_1",
      "execution_count": null,
      "outputs": [
        {
          "output_type": "stream",
          "name": "stdout",
          "text": [
            "Total orders in parquet file: 7\n"
          ]
        }
      ]
    },
    {
      "cell_type": "markdown",
      "source": [
        "# SECTION D: UDF + Built-in Function **Tasks**"
      ],
      "metadata": {
        "id": "NIKioFIqjFS9"
      },
      "id": "NIKioFIqjFS9"
    },
    {
      "cell_type": "code",
      "metadata": {
        "id": "362i9YDUfc_1",
        "colab": {
          "base_uri": "https://localhost:8080/"
        },
        "outputId": "eeb7d02c-2dba-4786-dbc8-dccc5e424119"
      },
      "source": [
        "# 15. UDF to mask emails like a***@gmail.com\n",
        "def mask_email(email):\n",
        "    try:\n",
        "        local, domain = email.split(\"@\")\n",
        "        return local[0] + \"***@\" + domain\n",
        "    except:\n",
        "        return email\n",
        "\n",
        "mask_email_udf = udf(mask_email, StringType())\n",
        "customers_df = customers_df.withColumn(\"MaskedEmail\", mask_email_udf(col(\"Email\")))\n",
        "customers_df.select(\"Email\", \"MaskedEmail\").show()"
      ],
      "id": "362i9YDUfc_1",
      "execution_count": null,
      "outputs": [
        {
          "output_type": "stream",
          "name": "stdout",
          "text": [
            "+-------------------+----------------+\n",
            "|              Email|     MaskedEmail|\n",
            "+-------------------+----------------+\n",
            "|   nithya@gmail.com|  n***@gmail.com|\n",
            "|     mani@yahoo.com|  m***@yahoo.com|\n",
            "|  gopal@hotmail.com|g***@hotmail.com|\n",
            "|shakthi@outlook.com|s***@outlook.com|\n",
            "|   jeevan@gmail.com|  j***@gmail.com|\n",
            "+-------------------+----------------+\n",
            "\n"
          ]
        }
      ]
    },
    {
      "cell_type": "code",
      "metadata": {
        "id": "iPt_p4QEfc_1",
        "colab": {
          "base_uri": "https://localhost:8080/"
        },
        "outputId": "c9d1c9d2-f084-4614-a908-28967ea0e162"
      },
      "source": [
        "# 16. concat_ws() full label 'Name from City'\n",
        "customers_df = customers_df.withColumn(\"Label\", concat_ws(\" from \", col(\"Name\"), col(\"City\")))\n",
        "customers_df.select(\"Label\").show()"
      ],
      "id": "iPt_p4QEfc_1",
      "execution_count": null,
      "outputs": [
        {
          "output_type": "stream",
          "name": "stdout",
          "text": [
            "+--------------------+\n",
            "|               Label|\n",
            "+--------------------+\n",
            "| nithya from chennai|\n",
            "|     mani from delhi|\n",
            "|gopal from bengaluru|\n",
            "|shakthi from hyde...|\n",
            "|Jeevan from coimb...|\n",
            "+--------------------+\n",
            "\n"
          ]
        }
      ]
    },
    {
      "cell_type": "code",
      "metadata": {
        "id": "oLwFEN5lfc_1",
        "colab": {
          "base_uri": "https://localhost:8080/"
        },
        "outputId": "be805f97-93aa-497f-b9bb-21532ff2d062"
      },
      "source": [
        "# 17. Remove special characters from Product names\n",
        "orders_df = orders_df.withColumn(\"CleanProduct\", regexp_replace(col(\"Product\"), \"[^a-zA-Z0-9 ]\", \"\"))\n",
        "orders_df.select(\"Product\", \"CleanProduct\").show()"
      ],
      "id": "oLwFEN5lfc_1",
      "execution_count": null,
      "outputs": [
        {
          "output_type": "stream",
          "name": "stdout",
          "text": [
            "+---------+------------+\n",
            "|  Product|CleanProduct|\n",
            "+---------+------------+\n",
            "|   Laptop|      Laptop|\n",
            "|    Mouse|       Mouse|\n",
            "|   Tablet|      Tablet|\n",
            "|Bookshelf|   Bookshelf|\n",
            "|    Mixer|       Mixer|\n",
            "| Notebook|    Notebook|\n",
            "|    Phone|       Phone|\n",
            "+---------+------------+\n",
            "\n"
          ]
        }
      ]
    },
    {
      "cell_type": "code",
      "metadata": {
        "id": "tfoHPJGBfc_1",
        "colab": {
          "base_uri": "https://localhost:8080/"
        },
        "outputId": "47066265-6ae1-42ce-bcd3-215d8599c708"
      },
      "source": [
        "# 18. Calculate customer age in days from SignupDate to today\n",
        "from pyspark.sql.functions import current_date\n",
        "customers_df = customers_df.withColumn(\"SignupDate\", to_date(col(\"SignupDate\")))\n",
        "customers_df = customers_df.withColumn(\"DaysSinceSignup\", datediff(current_date(), col(\"SignupDate\")))\n",
        "customers_df.select(\"Name\", \"SignupDate\", \"DaysSinceSignup\").show()"
      ],
      "id": "tfoHPJGBfc_1",
      "execution_count": null,
      "outputs": [
        {
          "output_type": "stream",
          "name": "stdout",
          "text": [
            "+-------+----------+---------------+\n",
            "|   Name|SignupDate|DaysSinceSignup|\n",
            "+-------+----------+---------------+\n",
            "| nithya|2022-05-10|           1121|\n",
            "|   mani|2023-01-15|            871|\n",
            "|  gopal|2021-11-01|           1311|\n",
            "|shakthi|2020-07-22|           1778|\n",
            "| Jeevan|2023-03-10|            817|\n",
            "+-------+----------+---------------+\n",
            "\n"
          ]
        }
      ]
    }
  ],
  "metadata": {
    "kernelspec": {
      "display_name": "Python 3",
      "language": "python",
      "name": "python3"
    },
    "language_info": {
      "codemirror_mode": {
        "name": "ipython",
        "version": 3
      },
      "file_extension": ".py",
      "mimetype": "text/x-python",
      "name": "python",
      "nbconvert_exporter": "python",
      "pygments_lexer": "ipython3",
      "version": "3.10.12"
    },
    "colab": {
      "provenance": []
    }
  },
  "nbformat": 4,
  "nbformat_minor": 5
}